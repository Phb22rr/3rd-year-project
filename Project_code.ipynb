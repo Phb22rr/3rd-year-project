{
 "cells": [
  {
   "cell_type": "code",
   "id": "initial_id",
   "metadata": {
    "collapsed": true,
    "ExecuteTime": {
     "end_time": "2025-02-23T18:48:13.177842Z",
     "start_time": "2025-02-23T18:48:13.172314Z"
    }
   },
   "source": [
    "from skimage.filters import threshold_otsu\n",
    "import tifffile\n",
    "from skimage.io import imread, imsave\n",
    "from scipy.ndimage import center_of_mass\n",
    "from PIL import Image\n",
    "import re\n",
    "from skimage import io, measure, color\n",
    "import os\n",
    "import matplotlib.pyplot as plt\n",
    "import numpy as np\n",
    "from skimage.measure import label, regionprops\n",
    "from skimage.io import imread, imsave\n",
    "import numpy as np\n",
    "import os\n",
    "import glob"
   ],
   "outputs": [],
   "execution_count": 2
  },
  {
   "metadata": {
    "ExecuteTime": {
     "end_time": "2025-02-23T18:48:14.006693Z",
     "start_time": "2025-02-23T18:48:13.992162Z"
    }
   },
   "cell_type": "code",
   "source": [
    "#save Ram from exploding\n",
    "#Begone memory\n",
    "def memory():\n",
    "    def Begone_memory(exceptions=None):\n",
    "        if exceptions is None:\n",
    "            exceptions = []\n",
    "\n",
    "        for var in list(globals().keys()):\n",
    "            if var not in exceptions:\n",
    "                del globals()[var]\n",
    "    Begone_memory()\n",
    "    def Begone_memory(exceptions=None):\n",
    "        if exceptions is None:\n",
    "            exceptions = []\n",
    "\n",
    "        for var in list(globals().keys()):\n",
    "            if var not in exceptions:\n",
    "                del globals()[var]"
   ],
   "id": "5b02a2f9f1c7626f",
   "outputs": [],
   "execution_count": 3
  },
  {
   "metadata": {
    "ExecuteTime": {
     "end_time": "2025-02-23T18:38:33.759494Z",
     "start_time": "2025-02-23T18:37:00.884463Z"
    }
   },
   "cell_type": "code",
   "source": [
    "# Load the mask data\n",
    "mask_data_15_percent = \"A:/3rd_Year_Project/Project_code/data/Masks_Data/15percent_masks\"\n",
    "mask_data_2nd_with_light = r\"A:\\3rd_Year_Project\\Project_code\\data\\Masks_Data\\secondwithlight_masks\"\n",
    "\n",
    "image_list = []\n",
    "\n",
    "#15% data:\n",
    "# Loop through all the files in the directory\n",
    "for image_filename in os.listdir(mask_data_15_percent):\n",
    "    image_path_full = os.path.join(mask_data_15_percent, image_filename)\n",
    "\n",
    "    # Ensure we are processing only PNG files\n",
    "    if image_filename.endswith(\".png\"):\n",
    "        image = imread(image_path_full, as_gray=True)\n",
    "        \n",
    "        image_list.append(image)\n",
    "        # Display the image\n",
    "        #plt.imshow(image, cmap='gray')\n",
    "        #plt.title(f\"Displaying {image_filename}\")  # Show the filename as the title\n",
    "        #plt.show()\n",
    "#plt.imshow(image_list[200], cmap='gray')\n",
    "#plt.show()\n",
    "np.save(r\"A:\\3rd_Year_Project\\Project_code\\data\\Masks_Data\\Numpy format\\15_percent_masks.npy\", image_list)\n",
    "\n",
    "image_list1 = []\n",
    "\n",
    "#2ndlight data:\n",
    "# Loop through all the files in the directory\n",
    "for image_filename in os.listdir(mask_data_2nd_with_light):\n",
    "    image_path_full = os.path.join(mask_data_2nd_with_light, image_filename)\n",
    "\n",
    "    # Ensure we are processing only PNG files\n",
    "    if image_filename.endswith(\".png\"):\n",
    "        image = imread(image_path_full, as_gray=True)\n",
    "\n",
    "        image_list1.append(image)\n",
    "        # Display the image\n",
    "        #plt.imshow(image, cmap='gray')\n",
    "        #plt.title(f\"Displaying {image_filename}\")  # Show the filename as the title\n",
    "        #plt.show()\n",
    "#plt.imshow(image_list[200], cmap='gray')\n",
    "#plt.show()\n",
    "np.save(r\"A:\\3rd_Year_Project\\Project_code\\data\\Masks_Data\\Numpy format\\2nd_light_masks.npy\", image_list1)"
   ],
   "id": "be13b7a0c1ac0aff",
   "outputs": [],
   "execution_count": 4
  },
  {
   "metadata": {
    "ExecuteTime": {
     "end_time": "2025-02-23T18:38:48.495285Z",
     "start_time": "2025-02-23T18:38:42.669777Z"
    }
   },
   "cell_type": "code",
   "source": [
    "#check if correct data loaded\n",
    "# Load the numpy array (make sure the file path is correct)\n",
    "images_array = np.load(r\"A:/3rd_Year_Project/Project_code/data/Masks_Data/Numpy format/15_percent_masks.npy\")\n",
    "images_array1 = np.load(r\"A:\\3rd_Year_Project\\Project_code\\data\\Masks_Data\\Numpy format\\2nd_light_masks.npy\")\n",
    "\n",
    "# Display the first image in the array\n",
    "#plt.imshow(images_array[200], cmap='gray')  # First page/image is indexed by 0\n",
    "#plt.title(\"15%\")   # Optional: add a title\n",
    "#plt.show()\n",
    "\n",
    "#plt.imshow(images_array1[200], cmap='gray')\n",
    "#plt.title(\"2nd light\")\n",
    "#plt.show()\n",
    "print(images_array.shape)\n",
    "print(images_array1.shape)"
   ],
   "id": "41dd3d3bd7d95f27",
   "outputs": [
    {
     "name": "stdout",
     "output_type": "stream",
     "text": [
      "(600, 1200, 1200)\n",
      "(300, 1200, 1200)\n"
     ]
    }
   ],
   "execution_count": 5
  },
  {
   "metadata": {
    "ExecuteTime": {
     "end_time": "2025-02-23T18:38:50.877809Z",
     "start_time": "2025-02-23T18:38:49.969052Z"
    }
   },
   "cell_type": "code",
   "source": [
    "memory()\n",
    "from skimage.filters import threshold_otsu\n",
    "import tifffile\n",
    "from skimage.io import imread, imsave\n",
    "from scipy.ndimage import center_of_mass\n",
    "from PIL import Image\n",
    "import re\n",
    "from skimage import io, measure, color\n",
    "import os\n",
    "import matplotlib.pyplot as plt\n",
    "import numpy as np\n",
    "from skimage.measure import label, regionprops\n",
    "from skimage.io import imread, imsave\n",
    "import numpy as np\n",
    "import os\n",
    "import glob\n",
    "\n",
    "\n",
    "#save Ram from exploding\n",
    "#Begone memory\n",
    "def memory():\n",
    "    def Begone_memory(exceptions=None):\n",
    "        if exceptions is None:\n",
    "            exceptions = []\n",
    "\n",
    "        for var in list(globals().keys()):\n",
    "            if var not in exceptions:\n",
    "                del globals()[var]\n",
    "\n",
    "    Begone_memory()\n",
    "\n",
    "    def Begone_memory(exceptions=None):\n",
    "        if exceptions is None:\n",
    "            exceptions = []\n",
    "\n",
    "        for var in list(globals().keys()):\n",
    "            if var not in exceptions:\n",
    "                del globals()[var]"
   ],
   "id": "5455a9abce04b0d6",
   "outputs": [],
   "execution_count": 6
  },
  {
   "metadata": {
    "ExecuteTime": {
     "end_time": "2025-02-23T18:39:42.567369Z",
     "start_time": "2025-02-23T18:39:39.404475Z"
    }
   },
   "cell_type": "code",
   "source": [
    "#load the raw data\n",
    "datafile_2nd_with_light = r\"A:\\3rd_Year_Project\\Project_code\\data\\Raw_Data\\secondwithlight_MMStack_Default.ome.tif\"\n",
    "datafile_15_percent = f'A:/3rd_Year_Project/Project_code/data/Raw_Data/15percent_MMStack_Default.ome-001.tif'\n",
    "\n",
    "#load the 15% raw data\n",
    "# Use memmap to load the TIFF file lazily\n",
    "with tifffile.TiffFile(datafile_15_percent) as tif:\n",
    "    # Map the image data to memory instead of loading it entirely into memory\n",
    "    data = tif.asarray()\n",
    "\n",
    "#data = io.imread(datafile)\n",
    "data_15 = data[:, 1, :, :]  # Assuming you want to skip the first index (0) and keep the rest\n",
    "\n",
    "print(f\"Datafile contents: {datafile_15_percent}\")\n",
    "print(f\"Data shape: {data_15.shape}\")  # Print the shape to understand the data structure\n",
    "\n",
    "#load the 2nd light data\n",
    "# Use memmap to load the TIFF file lazily\n",
    "with tifffile.TiffFile(datafile_2nd_with_light) as tif:\n",
    "    # Map the image data to memory instead of loading it entirely into memory\n",
    "    data = tif.asarray()\n",
    "\n",
    "#data = io.imread(datafile)\n",
    "data_2nd = data[:, 0, :, :]  # Assuming you want to skip the first index (0) and keep the rest\n",
    "\n",
    "print(f\"Datafile contents: {datafile_2nd_with_light}\")\n",
    "print(f\"Data shape: {data_2nd.shape}\")  # Print the shape to understand the data structure"
   ],
   "id": "323f9aca27a5e879",
   "outputs": [
    {
     "name": "stdout",
     "output_type": "stream",
     "text": [
      "Datafile contents: A:/3rd_Year_Project/Project_code/data/Raw_Data/15percent_MMStack_Default.ome-001.tif\n",
      "Data shape: (600, 1200, 1200)\n",
      "Datafile contents: A:\\3rd_Year_Project\\Project_code\\data\\Raw_Data\\secondwithlight_MMStack_Default.ome.tif\n",
      "Data shape: (300, 1200, 1200)\n"
     ]
    }
   ],
   "execution_count": 10
  },
  {
   "metadata": {
    "ExecuteTime": {
     "end_time": "2025-02-23T18:40:12.256615Z",
     "start_time": "2025-02-23T18:39:48.269892Z"
    }
   },
   "cell_type": "code",
   "source": [
    "#save as np\n",
    "np.save(\"A:/3rd_Year_Project/Project_code/data/Loaded_Raw_Data/15_percent/saved_15_percent.npy\", data_15)\n",
    "np.save(\"A:/3rd_Year_Project/Project_code/data/Loaded_Raw_Data/2nd_light/saved_2ndlight.npy\", data_2nd)\n",
    "\n",
    "print(\"Saved data as .npy files.\")"
   ],
   "id": "629103a0b0927b7c",
   "outputs": [
    {
     "name": "stdout",
     "output_type": "stream",
     "text": [
      "Saved data as .npy files.\n"
     ]
    }
   ],
   "execution_count": 11
  },
  {
   "metadata": {
    "ExecuteTime": {
     "end_time": "2025-02-23T18:40:15.675159Z",
     "start_time": "2025-02-23T18:40:15.671143Z"
    }
   },
   "cell_type": "code",
   "source": [
    "#save as png\n",
    "#for i in range(data_15.shape[0]):\n",
    "#    imsave(f\"A:/3rd_Year_Project/Project_code/data/Loaded_Raw_Data/png/15/frame_{i}.png\", data_15[i])\n",
    "\n",
    "#for i in range(data_2nd.shape[0]):\n",
    "#    imsave(f\"A:/3rd_Year_Project/Project_code/data/Loaded_Raw_Data/png/2nd/frame_{i}.png\", data_2nd[i])"
   ],
   "id": "3a061dff4dec3a94",
   "outputs": [],
   "execution_count": 12
  },
  {
   "metadata": {
    "ExecuteTime": {
     "end_time": "2025-02-23T18:40:17.181243Z",
     "start_time": "2025-02-23T18:40:16.479754Z"
    }
   },
   "cell_type": "code",
   "source": [
    "data = np.load(\"A:/3rd_Year_Project/Project_code/data/Loaded_Raw_Data/15_percent/saved_15_percent.npy\")\n",
    "print(\"15%\", np.shape(data))\n",
    "data = np.load(\"A:/3rd_Year_Project/Project_code/data/Loaded_Raw_Data/2nd_light/saved_2ndlight.npy\")\n",
    "print(\"2nd\", np.shape(data))"
   ],
   "id": "4aba284e6787d463",
   "outputs": [
    {
     "name": "stdout",
     "output_type": "stream",
     "text": [
      "15% (600, 1200, 1200)\n",
      "2nd (300, 1200, 1200)\n"
     ]
    }
   ],
   "execution_count": 13
  },
  {
   "metadata": {
    "ExecuteTime": {
     "end_time": "2025-02-23T18:41:48.293436Z",
     "start_time": "2025-02-23T18:41:48.281310Z"
    }
   },
   "cell_type": "code",
   "source": [
    "memory()\n",
    "from skimage.filters import threshold_otsu\n",
    "import tifffile\n",
    "from skimage.io import imread, imsave\n",
    "from scipy.ndimage import center_of_mass\n",
    "from PIL import Image\n",
    "import re\n",
    "from skimage import io, measure, color\n",
    "import os\n",
    "import matplotlib.pyplot as plt\n",
    "import numpy as np\n",
    "from skimage.measure import label, regionprops\n",
    "from skimage.io import imread, imsave\n",
    "import numpy as np\n",
    "import os\n",
    "import glob\n",
    "\n",
    "\n",
    "#save Ram from exploding\n",
    "#Begone memory\n",
    "def memory():\n",
    "    def Begone_memory(exceptions=None):\n",
    "        if exceptions is None:\n",
    "            exceptions = []\n",
    "\n",
    "        for var in list(globals().keys()):\n",
    "            if var not in exceptions:\n",
    "                del globals()[var]\n",
    "\n",
    "    Begone_memory()\n",
    "\n",
    "    def Begone_memory(exceptions=None):\n",
    "        if exceptions is None:\n",
    "            exceptions = []\n",
    "\n",
    "        for var in list(globals().keys()):\n",
    "            if var not in exceptions:\n",
    "                del globals()[var]"
   ],
   "id": "3ab79c362de4cb03",
   "outputs": [],
   "execution_count": 19
  },
  {
   "metadata": {
    "ExecuteTime": {
     "end_time": "2025-02-23T18:51:28.220609Z",
     "start_time": "2025-02-23T18:48:52.015360Z"
    }
   },
   "cell_type": "code",
   "source": [
    "loaded_raw_15_percent = np.load(f\"A:/3rd_Year_Project/Project_code/data/Loaded_Raw_Data/15_percent/saved_15_percent.npy\")\n",
    "loaded_raw_2nd = np.load(f\"A:/3rd_Year_Project/Project_code/data/Loaded_Raw_Data/2nd_light/saved_2ndlight.npy\")\n",
    "loaded_mask_15_percent = np.load(r\"A:\\3rd_Year_Project\\Project_code\\data\\Masks_Data\\Numpy format\\15_percent_masks.npy\")\n",
    "loaded_mask_2nd = np.load(r\"A:\\3rd_Year_Project\\Project_code\\data\\Masks_Data\\Numpy format\\2nd_light_masks.npy\")\n",
    "\n",
    "cropped = []\n",
    "\n",
    "for framenumber in range(loaded_mask_15_percent.shape[0]):\n",
    "    maskdata = loaded_mask_15_percent[framenumber, :, :]  # Correct way to join paths\n",
    "# Identify unique regions in mask\n",
    "    regions = np.unique(np.asarray(maskdata))\n",
    "    \n",
    "    for region in regions[1:]:  # Skip background (assuming it's region 0)\n",
    "        tempmask = maskdata == region\n",
    "        label_img = label(tempmask)\n",
    "        region_props = regionprops(label_img)\n",
    "    \n",
    "        if region_props:  # Ensure there is a valid region\n",
    "            positions = region_props[0].centroid#\n",
    "    #\n",
    "            frame_image = loaded_raw_15_percent[framenumber, :, :]  # Read the image\n",
    "            maskeddata = np.multiply(frame_image, tempmask)  # Apply mask to #image data#\n",
    "    \n",
    "            x = int(positions[0])\n",
    "            y = int(positions[1])\n",
    "    #\n",
    "    #       Handle potential out-of-bounds errors when cropping\n",
    "            x_min, x_max = max(0, x - 64), min(maskdata.shape[0], x + 64)\n",
    "            y_min, y_max = max(0, y - 64), min(maskdata.shape[1], y + 64)#\n",
    "    #\n",
    "            cropped_data = maskeddata[x_min:x_max, y_min:y_max]\n",
    "\n",
    "            #image = imread(cropped_data, as_gray=True)\n",
    "\n",
    "            cropped.append(cropped_data)\n",
    "                \n",
    "            #plt.imshow(cropped_data, cmap='gray')  # If it is image-like, e.g., grayscale\n",
    "            #plt.show()\n",
    "\n",
    "np.save(r\"A:\\3rd_Year_Project\\Project_code\\data\\final_data\\15_percent.npy\", cropped)"
   ],
   "id": "8ef17f52c6139520",
   "outputs": [
    {
     "ename": "ValueError",
     "evalue": "setting an array element with a sequence. The requested array has an inhomogeneous shape after 1 dimensions. The detected shape was (12619,) + inhomogeneous part.",
     "output_type": "error",
     "traceback": [
      "\u001B[1;31m---------------------------------------------------------------------------\u001B[0m",
      "\u001B[1;31mValueError\u001B[0m                                Traceback (most recent call last)",
      "Cell \u001B[1;32mIn[4], line 40\u001B[0m\n\u001B[0;32m     35\u001B[0m             cropped\u001B[38;5;241m.\u001B[39mappend(cropped_data)\n\u001B[0;32m     37\u001B[0m             \u001B[38;5;66;03m#plt.imshow(cropped_data, cmap='gray')  # If it is image-like, e.g., grayscale\u001B[39;00m\n\u001B[0;32m     38\u001B[0m             \u001B[38;5;66;03m#plt.show()\u001B[39;00m\n\u001B[1;32m---> 40\u001B[0m \u001B[43mnp\u001B[49m\u001B[38;5;241;43m.\u001B[39;49m\u001B[43msave\u001B[49m\u001B[43m(\u001B[49m\u001B[38;5;124;43mr\u001B[39;49m\u001B[38;5;124;43m\"\u001B[39;49m\u001B[38;5;124;43mA:\u001B[39;49m\u001B[38;5;124;43m\\\u001B[39;49m\u001B[38;5;124;43m3rd_Year_Project\u001B[39;49m\u001B[38;5;124;43m\\\u001B[39;49m\u001B[38;5;124;43mProject_code\u001B[39;49m\u001B[38;5;124;43m\\\u001B[39;49m\u001B[38;5;124;43mdata\u001B[39;49m\u001B[38;5;124;43m\\\u001B[39;49m\u001B[38;5;124;43mfinal_data\u001B[39;49m\u001B[38;5;124;43m\\\u001B[39;49m\u001B[38;5;124;43m15_percent.npy\u001B[39;49m\u001B[38;5;124;43m\"\u001B[39;49m\u001B[43m,\u001B[49m\u001B[43m \u001B[49m\u001B[43mcropped\u001B[49m\u001B[43m)\u001B[49m\n",
      "File \u001B[1;32mA:\\3rd_Year_Project\\Anaconda\\envs\\lizard\\lib\\site-packages\\numpy\\lib\\npyio.py:545\u001B[0m, in \u001B[0;36msave\u001B[1;34m(file, arr, allow_pickle, fix_imports)\u001B[0m\n\u001B[0;32m    542\u001B[0m     file_ctx \u001B[38;5;241m=\u001B[39m \u001B[38;5;28mopen\u001B[39m(file, \u001B[38;5;124m\"\u001B[39m\u001B[38;5;124mwb\u001B[39m\u001B[38;5;124m\"\u001B[39m)\n\u001B[0;32m    544\u001B[0m \u001B[38;5;28;01mwith\u001B[39;00m file_ctx \u001B[38;5;28;01mas\u001B[39;00m fid:\n\u001B[1;32m--> 545\u001B[0m     arr \u001B[38;5;241m=\u001B[39m \u001B[43mnp\u001B[49m\u001B[38;5;241;43m.\u001B[39;49m\u001B[43masanyarray\u001B[49m\u001B[43m(\u001B[49m\u001B[43marr\u001B[49m\u001B[43m)\u001B[49m\n\u001B[0;32m    546\u001B[0m     \u001B[38;5;28mformat\u001B[39m\u001B[38;5;241m.\u001B[39mwrite_array(fid, arr, allow_pickle\u001B[38;5;241m=\u001B[39mallow_pickle,\n\u001B[0;32m    547\u001B[0m                        pickle_kwargs\u001B[38;5;241m=\u001B[39m\u001B[38;5;28mdict\u001B[39m(fix_imports\u001B[38;5;241m=\u001B[39mfix_imports))\n",
      "\u001B[1;31mValueError\u001B[0m: setting an array element with a sequence. The requested array has an inhomogeneous shape after 1 dimensions. The detected shape was (12619,) + inhomogeneous part."
     ]
    }
   ],
   "execution_count": 4
  },
  {
   "metadata": {
    "ExecuteTime": {
     "end_time": "2025-02-23T18:52:00.048731Z",
     "start_time": "2025-02-23T18:51:59.689094Z"
    }
   },
   "cell_type": "code",
   "source": [
    "memory()\n",
    "from skimage.filters import threshold_otsu\n",
    "import tifffile\n",
    "from skimage.io import imread, imsave\n",
    "from scipy.ndimage import center_of_mass\n",
    "from PIL import Image\n",
    "import re\n",
    "from skimage import io, measure, color\n",
    "import os\n",
    "import matplotlib.pyplot as plt\n",
    "import numpy as np\n",
    "from skimage.measure import label, regionprops\n",
    "from skimage.io import imread, imsave\n",
    "import numpy as np\n",
    "import os\n",
    "import glob\n",
    "\n",
    "\n",
    "#save Ram from exploding\n",
    "#Begone memory\n",
    "def memory():\n",
    "    def Begone_memory(exceptions=None):\n",
    "        if exceptions is None:\n",
    "            exceptions = []\n",
    "\n",
    "        for var in list(globals().keys()):\n",
    "            if var not in exceptions:\n",
    "                del globals()[var]\n",
    "\n",
    "    Begone_memory()\n",
    "\n",
    "    def Begone_memory(exceptions=None):\n",
    "        if exceptions is None:\n",
    "            exceptions = []\n",
    "\n",
    "        for var in list(globals().keys()):\n",
    "            if var not in exceptions:\n",
    "                del globals()[var]"
   ],
   "id": "61140a3d66db353f",
   "outputs": [],
   "execution_count": 5
  },
  {
   "metadata": {},
   "cell_type": "code",
   "outputs": [],
   "execution_count": null,
   "source": [
    "cropped1 = []\n",
    "\n",
    "for framenumber in range(loaded_mask_2nd.shape[0]):\n",
    "    maskdata = loaded_mask_2nd[framenumber, :, :]  # Correct way to join paths\n",
    "    # Identify unique regions in mask\n",
    "    regions = np.unique(np.asarray(maskdata))\n",
    "\n",
    "    for region in regions[1:]:  # Skip background (assuming it's region 0)\n",
    "        tempmask = maskdata == region\n",
    "        label_img = label(tempmask)\n",
    "        region_props = regionprops(label_img)\n",
    "\n",
    "        if region_props:  # Ensure there is a valid region\n",
    "            positions = region_props[0].centroid#\n",
    "            #\n",
    "            frame_image = loaded_raw_2nd[framenumber, :, :]  # Read the image\n",
    "            maskeddata = np.multiply(frame_image, tempmask)  # Apply mask to #image data#\n",
    "\n",
    "            x = int(positions[0])\n",
    "            y = int(positions[1])\n",
    "            #\n",
    "            #       Handle potential out-of-bounds errors when cropping\n",
    "            x_min, x_max = max(0, x - 64), min(maskdata.shape[0], x + 64)\n",
    "            y_min, y_max = max(0, y - 64), min(maskdata.shape[1], y + 64)#\n",
    "            #\n",
    "            cropped_data = maskeddata[x_min:x_max, y_min:y_max]\n",
    "\n",
    "            #image = imread(cropped_data, as_gray=True)\n",
    "\n",
    "            cropped1.append(cropped_data)\n",
    "\n",
    "            #plt.imshow(cropped_data, cmap='gray')  # If it is image-like, e.g., grayscale\n",
    "            #plt.show()\n",
    "\n",
    "np.save(r\"A:\\3rd_Year_Project\\Project_code\\data\\final_data\\2nd_light.npy\", cropped1)"
   ],
   "id": "4e7ed1f4c76e54"
  }
 ],
 "metadata": {
  "kernelspec": {
   "display_name": "Python 3",
   "language": "python",
   "name": "python3"
  },
  "language_info": {
   "codemirror_mode": {
    "name": "ipython",
    "version": 2
   },
   "file_extension": ".py",
   "mimetype": "text/x-python",
   "name": "python",
   "nbconvert_exporter": "python",
   "pygments_lexer": "ipython2",
   "version": "2.7.6"
  }
 },
 "nbformat": 4,
 "nbformat_minor": 5
}
