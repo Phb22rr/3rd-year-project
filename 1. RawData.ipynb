{
 "cells": [
  {
   "metadata": {},
   "cell_type": "code",
   "outputs": [],
   "execution_count": null,
   "source": "#Loading and preparing the Raw data",
   "id": "a871ad6579a039d9"
  },
  {
   "metadata": {
    "ExecuteTime": {
     "end_time": "2025-02-24T20:04:51.599654Z",
     "start_time": "2025-02-24T20:04:51.532766Z"
    }
   },
   "cell_type": "code",
   "source": [
    "#save Ram from exploding\n",
    "#Begone memory\n",
    "def memory():\n",
    "    def Begone_memory(exceptions=None):\n",
    "        if exceptions is None:\n",
    "            exceptions = []\n",
    "\n",
    "        for var in list(globals().keys()):\n",
    "            if var not in exceptions:\n",
    "                del globals()[var]\n",
    "    Begone_memory()\n",
    "    def Begone_memory(exceptions=None):\n",
    "        if exceptions is None:\n",
    "            exceptions = []\n",
    "\n",
    "        for var in list(globals().keys()):\n",
    "            if var not in exceptions:\n",
    "                del globals()[var]\n",
    "memory()\n",
    "import tifffile\n",
    "import numpy as np"
   ],
   "id": "65cb2faeb5ec4dbe",
   "outputs": [],
   "execution_count": 4
  },
  {
   "cell_type": "code",
   "execution_count": null,
   "id": "initial_id",
   "metadata": {
    "collapsed": true
   },
   "outputs": [],
   "source": [
    "#load the raw data\n",
    "datafile_2nd_with_light = r\"A:\\3rd_Year_Project\\Project_code\\data\\Raw_Data\\secondwithlight_MMStack_Default.ome.tif\"\n",
    "datafile_15_percent = f'A:/3rd_Year_Project/Project_code/data/Raw_Data/15percent_MMStack_Default.ome-001.tif'\n",
    "\n",
    "#load the 15% raw data\n",
    "# Use memmap to load the TIFF file lazily\n",
    "with tifffile.TiffFile(datafile_15_percent) as tif:\n",
    "    # Map the image data to memory instead of loading it entirely into memory\n",
    "    data = tif.asarray()\n",
    "\n",
    "#data = io.imread(datafile)\n",
    "data_15 = data[:, 1, :, :]  # Assuming you want to skip the first index (0) and keep the rest\n",
    "\n",
    "print(f\"Datafile contents: {datafile_15_percent}\")\n",
    "print(f\"Data shape: {data_15.shape}\")  # Print the shape to understand the data structure\n",
    "\n",
    "#load the 2nd light data\n",
    "# Use memmap to load the TIFF file lazily\n",
    "with tifffile.TiffFile(datafile_2nd_with_light) as tif:\n",
    "    # Map the image data to memory instead of loading it entirely into memory\n",
    "    data = tif.asarray()\n",
    "\n",
    "#data = io.imread(datafile)\n",
    "data_2nd = data[:, 0, :, :]  # Assuming you want to skip the first index (0) and keep the rest\n",
    "\n",
    "print(f\"Datafile contents: {datafile_2nd_with_light}\")\n",
    "print(f\"Data shape: {data_2nd.shape}\")  # Print the shape to understand the data structure"
   ]
  },
  {
   "metadata": {},
   "cell_type": "code",
   "outputs": [],
   "execution_count": null,
   "source": [
    "#save as np\n",
    "np.save(\"A:/3rd_Year_Project/Project_code/data/Loaded_Raw_Data/15_percent/saved_15_percent.npy\", data_15)\n",
    "np.save(\"A:/3rd_Year_Project/Project_code/data/Loaded_Raw_Data/2nd_light/saved_2ndlight.npy\", data_2nd)\n",
    "\n",
    "print(\"Saved data as .npy files.\")"
   ],
   "id": "33465e8f8ec4aa7b"
  },
  {
   "metadata": {
    "ExecuteTime": {
     "end_time": "2025-02-24T20:04:02.037606Z",
     "start_time": "2025-02-24T20:03:59.863587Z"
    }
   },
   "cell_type": "code",
   "source": [
    "data = np.load(\"A:/3rd_Year_Project/Project_code/data/Loaded_Raw_Data/15_percent/saved_15_percent.npy\")\n",
    "print(\"15%\", np.shape(data))\n",
    "data = np.load(\"A:/3rd_Year_Project/Project_code/data/Loaded_Raw_Data/2nd_light/saved_2ndlight.npy\")\n",
    "print(\"2nd\", np.shape(data))"
   ],
   "id": "61f1eb6e635d9584",
   "outputs": [
    {
     "name": "stdout",
     "output_type": "stream",
     "text": [
      "15% (600, 1200, 1200)\n",
      "2nd (300, 1200, 1200)\n"
     ]
    }
   ],
   "execution_count": 3
  },
  {
   "metadata": {},
   "cell_type": "code",
   "outputs": [],
   "execution_count": null,
   "source": "",
   "id": "8452d446cd89b61a"
  }
 ],
 "metadata": {
  "kernelspec": {
   "display_name": "Python 3",
   "language": "python",
   "name": "python3"
  },
  "language_info": {
   "codemirror_mode": {
    "name": "ipython",
    "version": 2
   },
   "file_extension": ".py",
   "mimetype": "text/x-python",
   "name": "python",
   "nbconvert_exporter": "python",
   "pygments_lexer": "ipython2",
   "version": "2.7.6"
  }
 },
 "nbformat": 4,
 "nbformat_minor": 5
}
