{
 "cells": [
  {
   "cell_type": "code",
   "id": "initial_id",
   "metadata": {
    "collapsed": true,
    "ExecuteTime": {
     "end_time": "2024-11-04T19:28:58.780627Z",
     "start_time": "2024-11-04T19:28:58.646415Z"
    }
   },
   "source": [
    "import torch\n",
    "import torch.nn as nn\n",
    "import torch.nn.functional as F\n",
    "\n",
    "class Down(nn.Module):\n",
    "    def __init__(self, in_channels, out_channels):\n",
    "        super().__init__()\n",
    "        self.out_channels = out_channels  # Store out_channels as an instance variable\n",
    "        self.conv1 = nn.Conv2d(in_channels, (out_channels + in_channels) // 2, kernel_size=3, padding=1)\n",
    "        self.conv2 = nn.Conv2d((out_channels + in_channels) // 2, out_channels, kernel_size=3, padding=1)\n",
    "\n",
    "        # Initialize fc1 later\n",
    "        self.fc1 = None  # Initialize later based on input size\n",
    "        self.fc2 = nn.Linear(out_channels, 25)  # Adjust output size if needed\n",
    "        self.out = nn.Linear(25, 10)  # The input size must match the output of fc2\n",
    "\n",
    "    def forward(self, t):\n",
    "        t = F.max_pool2d(t, kernel_size=3, stride=2, padding=1)\n",
    "        print(t.shape)\n",
    "        t = self.conv1(t)\n",
    "        print(t.shape)\n",
    "        t = F.relu(t)\n",
    "        t = self.conv2(t)\n",
    "        print(t.shape)\n",
    "        t = F.relu(t)\n",
    "\n",
    "        # Flatten the tensor for fully connected layers\n",
    "        t = t.view(t.size(0), -1)\n",
    "        if self.fc1 is None:\n",
    "            self.fc1 = nn.Linear(t.size(1), self.out_channels)\n",
    "\n",
    "        # Dynamically set the first linear layer based on the flattened size\n",
    "\n",
    "        t = self.fc1(t)\n",
    "        print(t.shape, \"fc1\")\n",
    "        t = F.relu(t)\n",
    "        t = self.fc2(t)\n",
    "        print(t.shape, \"fc2\")\n",
    "        t = F.relu(t)\n",
    "        t = self.out(t)\n",
    "        print(t.shape, \"out\")\n",
    "        t = F.relu(t)\n",
    "        return t\n",
    "\n",
    "# Example usage\n",
    "network = Down(1, 200)\n",
    "real_samples_labels = torch.randint(0, 100, (1, 1, 32, 32), dtype=torch.float32)\n",
    "out = network(real_samples_labels)\n",
    "#print(out.shape)  # Should output: torch.Size([1, 10])\n",
    "\n",
    "import matplotlib.pyplot as plt\n",
    "plt.imshow(out[:,:].detach())"
   ],
   "outputs": [
    {
     "name": "stdout",
     "output_type": "stream",
     "text": [
      "torch.Size([1, 1, 16, 16])\n",
      "torch.Size([1, 100, 16, 16])\n",
      "torch.Size([1, 200, 16, 16])\n",
      "torch.Size([1, 200]) fc1\n",
      "torch.Size([1, 25]) fc2\n",
      "torch.Size([1, 10]) out\n"
     ]
    },
    {
     "data": {
      "text/plain": [
       "<matplotlib.image.AxesImage at 0x186ac370f70>"
      ]
     },
     "execution_count": 43,
     "metadata": {},
     "output_type": "execute_result"
    },
    {
     "data": {
      "text/plain": [
       "<Figure size 640x480 with 1 Axes>"
      ],
      "image/png": "[encoded data removed]"
     },
     "metadata": {},
     "output_type": "display_data"
    }
   ],
   "execution_count": 43
  }
 ],
 "metadata": {
  "kernelspec": {
   "display_name": "Python 3",
   "language": "python",
   "name": "python3"
  },
  "language_info": {
   "codemirror_mode": {
    "name": "ipython",
    "version": 2
   },
   "file_extension": ".py",
   "mimetype": "text/x-python",
   "name": "python",
   "nbconvert_exporter": "python",
   "pygments_lexer": "ipython2",
   "version": "2.7.6"
  }
 },
 "nbformat": 4,
 "nbformat_minor": 5
}
