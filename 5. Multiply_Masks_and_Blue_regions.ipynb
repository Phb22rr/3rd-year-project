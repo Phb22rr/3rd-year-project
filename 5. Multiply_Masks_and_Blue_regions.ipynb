{
 "cells": [
  {
   "cell_type": "code",
   "id": "initial_id",
   "metadata": {
    "collapsed": true,
    "ExecuteTime": {
     "end_time": "2025-04-02T18:18:15.465051Z",
     "start_time": "2025-04-02T18:18:15.461633Z"
    }
   },
   "source": "#Multiplying the Blue region and the masks and create a list determining whether the ameoba is in or outside the harmful blue light area",
   "outputs": [],
   "execution_count": 1
  },
  {
   "metadata": {
    "ExecuteTime": {
     "end_time": "2025-04-02T18:18:17.644602Z",
     "start_time": "2025-04-02T18:18:16.103049Z"
    }
   },
   "cell_type": "code",
   "source": [
    "#save Ram from exploding\n",
    "#Begone memory\n",
    "def memory():\n",
    "    def Begone_memory(exceptions=None):\n",
    "        if exceptions is None:\n",
    "            exceptions = []\n",
    "\n",
    "        for var in list(globals().keys()):\n",
    "            if var not in exceptions:\n",
    "                del globals()[var]\n",
    "    Begone_memory()\n",
    "    def Begone_memory(exceptions=None):\n",
    "        if exceptions is None:\n",
    "            exceptions = []\n",
    "\n",
    "        for var in list(globals().keys()):\n",
    "            if var not in exceptions:\n",
    "                del globals()[var]\n",
    "memory()\n",
    "import matplotlib.pyplot as plt\n",
    "from skimage.measure import label, regionprops\n",
    "import numpy as np"
   ],
   "id": "742f72166d86b3bd",
   "outputs": [],
   "execution_count": 2
  },
  {
   "metadata": {
    "ExecuteTime": {
     "end_time": "2025-04-02T18:18:17.651607Z",
     "start_time": "2025-04-02T18:18:17.648606Z"
    }
   },
   "cell_type": "code",
   "source": "crop_size = 128",
   "id": "1db551c8284e2036",
   "outputs": [],
   "execution_count": 3
  },
  {
   "metadata": {
    "ExecuteTime": {
     "end_time": "2025-04-02T18:18:17.670544Z",
     "start_time": "2025-04-02T18:18:17.667676Z"
    }
   },
   "cell_type": "code",
   "source": [
    "#Make sure result is always 128x128\n",
    "def pad_to_shape(array, target_shape=(128, 128)):\n",
    "    padded_array = np.zeros(target_shape, dtype=array.dtype)\n",
    "    h, w = array.shape\n",
    "    padded_array[:h, :w] = array  # Copy original data into the padded array\n",
    "    return padded_array"
   ],
   "id": "2953180f792dfad1",
   "outputs": [],
   "execution_count": 4
  },
  {
   "metadata": {
    "ExecuteTime": {
     "end_time": "2025-04-02T18:18:24.032957Z",
     "start_time": "2025-04-02T18:18:17.884232Z"
    }
   },
   "cell_type": "code",
   "source": [
    "#load 15% npy files\n",
    "loaded_mask_15_percent = np.load(r\"A:\\3rd_Year_Project\\Project_code\\data\\Masks_Data\\Numpy format\\15_percent_masks.npy\")\n",
    "BlueLight15 = np.load(\"A:/3rd_Year_Project/Project_code/data/Distinguished_Blue_Zones/15_Zones.npy\")  # This is now a NumPy array"
   ],
   "id": "beba83cdfe9068cf",
   "outputs": [],
   "execution_count": 5
  },
  {
   "metadata": {
    "ExecuteTime": {
     "end_time": "2025-04-02T18:20:14.754821Z",
     "start_time": "2025-04-02T18:18:24.036964Z"
    }
   },
   "cell_type": "code",
   "source": [
    "#Multiplication Loop\n",
    "\n",
    "cropped = []\n",
    "framenumber_list = []\n",
    "\n",
    "for framenumber in range(loaded_mask_15_percent.shape[0]):\n",
    "    maskdata = loaded_mask_15_percent[framenumber, :, :]\n",
    "    # Identify unique regions in mask\n",
    "    regions = np.unique(np.asarray(maskdata))\n",
    "\n",
    "    for region in regions[1:]:  # Skip background (assuming it's region 0)\n",
    "        tempmask = maskdata == region\n",
    "        label_img = label(tempmask)\n",
    "        region_props = regionprops(label_img)\n",
    "        framenumber_list.append(framenumber)\n",
    "\n",
    "        if region_props:  # Ensure there is a valid region\n",
    "            positions = region_props[0].centroid#\n",
    "\n",
    "            frame_image = BlueLight15[framenumber, :, :]  # Read the image\n",
    "            maskeddata = np.multiply(frame_image, tempmask)  # Apply mask to #image data#\n",
    "\n",
    "            x, y = int(positions[0]), int(positions[1])\n",
    "\n",
    "           #Handle potential out-of-bounds errors when cropping\n",
    "            x_min = max(0, x - crop_size // 2)\n",
    "            x_max = min(maskdata.shape[0], x_min + crop_size)\n",
    "            y_min = max(0, y - crop_size // 2)\n",
    "            y_max = min(maskdata.shape[1], y_min + crop_size)\n",
    "\n",
    "            cropped_data = maskeddata[x_min:x_max, y_min:y_max]\n",
    "\n",
    "            #image = imread(cropped_data, as_gray=True)\n",
    "\n",
    "            cropped.append(pad_to_shape(cropped_data))\n",
    "\n",
    "            #plt.imshow(cropped_data, cmap='gray')  # If it is image-like, e.g., grayscale\n",
    "            #plt.show()\n",
    "\n",
    "np.save(r\"A:\\3rd_Year_Project\\Project_code\\data\\Mask x Blue\\15_percent.npy\", cropped)\n",
    "np.save(r\"A:\\3rd_Year_Project\\Project_code\\data\\Cropped_and_variable_labels\\framenumber15.npy\", framenumber_list)"
   ],
   "id": "e392ddaa4cdf33d8",
   "outputs": [],
   "execution_count": 6
  },
  {
   "metadata": {
    "ExecuteTime": {
     "end_time": "2025-04-02T18:20:14.785239Z",
     "start_time": "2025-04-02T18:20:14.782261Z"
    }
   },
   "cell_type": "code",
   "source": "#print(framenumber_list)",
   "id": "9505741982991ad4",
   "outputs": [],
   "execution_count": 7
  },
  {
   "metadata": {
    "ExecuteTime": {
     "end_time": "2025-04-02T18:20:39.898021Z",
     "start_time": "2025-04-02T18:20:39.106961Z"
    }
   },
   "cell_type": "code",
   "source": [
    "#Check to see if we have the desired results\n",
    "images = np.load(r\"A:\\3rd_Year_Project\\Project_code\\data\\Mask x Blue\\15_percent.npy\")\n",
    "\n",
    "# Define grid size (3x3)\n",
    "rows, cols = 7, 7\n",
    "fig, axes = plt.subplots(rows, cols, figsize=(8, 8))\n",
    "\n",
    "# Flatten axes array for easy indexing\n",
    "axes = axes.flatten()\n",
    "\n",
    "# Loop through images and display them\n",
    "for i in range(len(images)):  # Ensure we stay within bounds\n",
    "    axes[i].imshow(images[i], cmap=\"gray\")\n",
    "    axes[i].axis(\"off\")\n",
    "    #axes[i].set_title(f\"Image {i+1}\")\n",
    "\n",
    "# If there are extra subplots (for fewer images), remove them\n",
    "for j in range(len(images), len(axes)):\n",
    "    fig.delaxes(axes[j])  # Delete unused subplots\n",
    "\n",
    "plt.tight_layout()\n",
    "plt.show()"
   ],
   "id": "31fdb08ce8ca934f",
   "outputs": [
    {
     "ename": "IndexError",
     "evalue": "index 49 is out of bounds for axis 0 with size 49",
     "output_type": "error",
     "traceback": [
      "\u001B[1;31m---------------------------------------------------------------------------\u001B[0m",
      "\u001B[1;31mIndexError\u001B[0m                                Traceback (most recent call last)",
      "Cell \u001B[1;32mIn[9], line 13\u001B[0m\n\u001B[0;32m     11\u001B[0m \u001B[38;5;66;03m# Loop through images and display them\u001B[39;00m\n\u001B[0;32m     12\u001B[0m \u001B[38;5;28;01mfor\u001B[39;00m i \u001B[38;5;129;01min\u001B[39;00m \u001B[38;5;28mrange\u001B[39m(\u001B[38;5;28mlen\u001B[39m(images)):  \u001B[38;5;66;03m# Ensure we stay within bounds\u001B[39;00m\n\u001B[1;32m---> 13\u001B[0m     axes[i]\u001B[38;5;241m.\u001B[39mimshow(images[i], cmap\u001B[38;5;241m=\u001B[39m\u001B[38;5;124m\"\u001B[39m\u001B[38;5;124mgray\u001B[39m\u001B[38;5;124m\"\u001B[39m)\n\u001B[0;32m     14\u001B[0m     axes[i]\u001B[38;5;241m.\u001B[39maxis(\u001B[38;5;124m\"\u001B[39m\u001B[38;5;124moff\u001B[39m\u001B[38;5;124m\"\u001B[39m)\n\u001B[0;32m     15\u001B[0m     \u001B[38;5;66;03m#axes[i].set_title(f\"Image {i+1}\")\u001B[39;00m\n\u001B[0;32m     16\u001B[0m \n\u001B[0;32m     17\u001B[0m \u001B[38;5;66;03m# If there are extra subplots (for fewer images), remove them\u001B[39;00m\n",
      "\u001B[1;31mIndexError\u001B[0m: index 49 is out of bounds for axis 0 with size 49"
     ]
    },
    {
     "data": {
      "text/plain": [
       "<Figure size 800x800 with 49 Axes>"
      ],
      "image/png": "[encoded data removed]"
     },
     "metadata": {},
     "output_type": "display_data"
    }
   ],
   "execution_count": 9
  },
  {
   "metadata": {
    "ExecuteTime": {
     "end_time": "2025-04-02T18:20:41.600854Z",
     "start_time": "2025-04-02T18:20:41.274403Z"
    }
   },
   "cell_type": "code",
   "source": [
    "#Create a loop so we can append a number representing harmed or\n",
    "images = np.load(r\"A:\\3rd_Year_Project\\Project_code\\data\\Mask x Blue\\15_percent.npy\")\n",
    "\n",
    "harm_or_good15 = []\n",
    "\n",
    "for i in range(images.shape[0]):\n",
    "    if np.mean(images[i])>0:\n",
    "        harm_or_good15.append(1)\n",
    "    else:\n",
    "        harm_or_good15.append(0)\n",
    "\n",
    "for i in range(10):\n",
    "    print(harm_or_good15[i])\n",
    "np.save(r\"A:\\3rd_Year_Project\\Project_code\\data\\Mask x Blue\\15_percent_labels.npy\", harm_or_good15)"
   ],
   "id": "3bdb451e513cdf49",
   "outputs": [
    {
     "name": "stdout",
     "output_type": "stream",
     "text": [
      "1\n",
      "0\n",
      "0\n",
      "0\n",
      "1\n",
      "0\n",
      "0\n",
      "0\n",
      "0\n",
      "0\n"
     ]
    }
   ],
   "execution_count": 10
  },
  {
   "metadata": {
    "ExecuteTime": {
     "end_time": "2025-04-02T18:20:45.740207Z",
     "start_time": "2025-04-02T18:20:42.620130Z"
    }
   },
   "cell_type": "code",
   "source": [
    "# Load .npy files for 2nd data\n",
    "\n",
    "BlueLight2nd = np.load(\"A:/3rd_Year_Project/Project_code/data/Distinguished_Blue_Zones/2nd_Zones.npy\")\n",
    "loaded_mask_2nd = np.load(r\"A:\\3rd_Year_Project\\Project_code\\data\\Masks_Data\\Numpy format\\2nd_light_masks.npy\")"
   ],
   "id": "aeb81556b8fabc01",
   "outputs": [],
   "execution_count": 11
  },
  {
   "metadata": {
    "ExecuteTime": {
     "end_time": "2025-04-02T18:21:58.555530Z",
     "start_time": "2025-04-02T18:20:45.743717Z"
    }
   },
   "cell_type": "code",
   "source": [
    "#Multiplication Loop\n",
    "cropped1 = []\n",
    "framenumber_2nd = []\n",
    "\n",
    "for framenumber in range(loaded_mask_2nd.shape[0]):\n",
    "    maskdata = loaded_mask_2nd[framenumber, :, :]  # Correct way to join paths\n",
    "    # Identify unique regions in mask\n",
    "    regions = np.unique(np.asarray(maskdata))\n",
    "\n",
    "    for region in regions[1:]:  # Skip background (assuming it's region 0)\n",
    "        tempmask = maskdata == region\n",
    "        label_img = label(tempmask)\n",
    "        region_props = regionprops(label_img)\n",
    "        framenumber_2nd.append(framenumber)\n",
    "\n",
    "        if region_props:  # Ensure there is a valid region\n",
    "            positions = region_props[0].centroid#\n",
    "\n",
    "            frame_image = BlueLight2nd[framenumber, :, :]  # Read the image\n",
    "            maskeddata = np.multiply(frame_image, tempmask)  # Apply mask to #image data#\n",
    "\n",
    "            x, y = int(positions[0]), int(positions[1])\n",
    "\n",
    "           #Handle potential out-of-bounds errors when cropping\n",
    "            x_min = max(0, x - crop_size // 2)\n",
    "            x_max = min(maskdata.shape[0], x_min + crop_size)\n",
    "            y_min = max(0, y - crop_size // 2)\n",
    "            y_max = min(maskdata.shape[1], y_min + crop_size)\n",
    "\n",
    "            cropped_data = maskeddata[x_min:x_max, y_min:y_max]\n",
    "\n",
    "            #image = imread(cropped_data, as_gray=True)\n",
    "\n",
    "            cropped1.append(pad_to_shape(cropped_data))\n",
    "\n",
    "            #plt.imshow(cropped_data, cmap='gray')  # If it is image-like, e.g., grayscale\n",
    "            #plt.show()\n",
    "\n",
    "np.save(r\"A:\\3rd_Year_Project\\Project_code\\data\\Mask x Blue\\2nd.npy\", cropped1)\n",
    "np.save(r\"A:\\3rd_Year_Project\\Project_code\\data\\Cropped_and_variable_labels\\framenumber2nd.npy\", framenumber_2nd)"
   ],
   "id": "35860e57ccaca8d8",
   "outputs": [],
   "execution_count": 12
  },
  {
   "metadata": {
    "ExecuteTime": {
     "end_time": "2025-04-02T18:21:59.409609Z",
     "start_time": "2025-04-02T18:21:58.582324Z"
    }
   },
   "cell_type": "code",
   "source": [
    "#Check to see if we have the desired results\n",
    "images = np.load(r\"A:\\3rd_Year_Project\\Project_code\\data\\Mask x Blue\\2nd.npy\")\n",
    "\n",
    "# Define grid size (3x3)\n",
    "rows, cols = 7, 7\n",
    "fig, axes = plt.subplots(rows, cols, figsize=(8, 8))\n",
    "\n",
    "# Flatten axes array for easy indexing\n",
    "axes = axes.flatten()\n",
    "\n",
    "# Loop through images and display them\n",
    "for i in range(len(images)):  # Ensure we stay within bounds\n",
    "    axes[i].imshow(images[i], cmap=\"gray\")\n",
    "    axes[i].axis(\"off\")\n",
    "    #axes[i].set_title(f\"Image {i+1}\")\n",
    "\n",
    "# If there are extra subplots (for fewer images), remove them\n",
    "for j in range(len(images), len(axes)):\n",
    "    fig.delaxes(axes[j])  # Delete unused subplots\n",
    "\n",
    "plt.tight_layout()\n",
    "plt.show()"
   ],
   "id": "b230a1ecc8853609",
   "outputs": [
    {
     "ename": "IndexError",
     "evalue": "index 49 is out of bounds for axis 0 with size 49",
     "output_type": "error",
     "traceback": [
      "\u001B[1;31m---------------------------------------------------------------------------\u001B[0m",
      "\u001B[1;31mIndexError\u001B[0m                                Traceback (most recent call last)",
      "Cell \u001B[1;32mIn[13], line 13\u001B[0m\n\u001B[0;32m     11\u001B[0m \u001B[38;5;66;03m# Loop through images and display them\u001B[39;00m\n\u001B[0;32m     12\u001B[0m \u001B[38;5;28;01mfor\u001B[39;00m i \u001B[38;5;129;01min\u001B[39;00m \u001B[38;5;28mrange\u001B[39m(\u001B[38;5;28mlen\u001B[39m(images)):  \u001B[38;5;66;03m# Ensure we stay within bounds\u001B[39;00m\n\u001B[1;32m---> 13\u001B[0m     axes[i]\u001B[38;5;241m.\u001B[39mimshow(images[i], cmap\u001B[38;5;241m=\u001B[39m\u001B[38;5;124m\"\u001B[39m\u001B[38;5;124mgray\u001B[39m\u001B[38;5;124m\"\u001B[39m)\n\u001B[0;32m     14\u001B[0m     axes[i]\u001B[38;5;241m.\u001B[39maxis(\u001B[38;5;124m\"\u001B[39m\u001B[38;5;124moff\u001B[39m\u001B[38;5;124m\"\u001B[39m)\n\u001B[0;32m     15\u001B[0m     \u001B[38;5;66;03m#axes[i].set_title(f\"Image {i+1}\")\u001B[39;00m\n\u001B[0;32m     16\u001B[0m \n\u001B[0;32m     17\u001B[0m \u001B[38;5;66;03m# If there are extra subplots (for fewer images), remove them\u001B[39;00m\n",
      "\u001B[1;31mIndexError\u001B[0m: index 49 is out of bounds for axis 0 with size 49"
     ]
    },
    {
     "data": {
      "text/plain": [
       "<Figure size 800x800 with 49 Axes>"
      ],
      "image/png": "[encoded data removed]"
     },
     "metadata": {},
     "output_type": "display_data"
    }
   ],
   "execution_count": 13
  },
  {
   "metadata": {
    "ExecuteTime": {
     "end_time": "2025-04-02T18:21:59.422078600Z",
     "start_time": "2025-03-30T18:20:08.281115Z"
    }
   },
   "cell_type": "code",
   "source": [
    "#Create a loop so we can append a number representing harmed or\n",
    "images = np.load(r\"A:\\3rd_Year_Project\\Project_code\\data\\Mask x Blue\\2nd.npy\")\n",
    "\n",
    "harm_or_good2nd = []\n",
    "\n",
    "for i in range(images.shape[0]):\n",
    "    if np.mean(images[i])>0:\n",
    "        harm_or_good2nd.append(1)\n",
    "    else:\n",
    "        harm_or_good2nd.append(0)\n",
    "\n",
    "for i in range(15):\n",
    "    print(harm_or_good2nd[i])\n",
    "np.save(r\"A:\\3rd_Year_Project\\Project_code\\data\\Mask x Blue\\2nd_labels.npy\", harm_or_good2nd)"
   ],
   "id": "94d100a6da5f3fc9",
   "outputs": [
    {
     "name": "stdout",
     "output_type": "stream",
     "text": [
      "0\n",
      "0\n",
      "0\n",
      "0\n",
      "0\n",
      "0\n",
      "0\n",
      "0\n",
      "0\n",
      "0\n",
      "1\n",
      "1\n",
      "0\n",
      "1\n",
      "0\n"
     ]
    }
   ],
   "execution_count": 13
  },
  {
   "metadata": {},
   "cell_type": "code",
   "outputs": [],
   "execution_count": null,
   "source": "",
   "id": "18e8af18d7f34325"
  }
 ],
 "metadata": {
  "kernelspec": {
   "display_name": "Python 3",
   "language": "python",
   "name": "python3"
  },
  "language_info": {
   "codemirror_mode": {
    "name": "ipython",
    "version": 2
   },
   "file_extension": ".py",
   "mimetype": "text/x-python",
   "name": "python",
   "nbconvert_exporter": "python",
   "pygments_lexer": "ipython2",
   "version": "2.7.6"
  }
 },
 "nbformat": 4,
 "nbformat_minor": 5
}
