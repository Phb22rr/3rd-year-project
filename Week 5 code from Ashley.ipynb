{
 "cells": [
  {
   "cell_type": "code",
   "id": "initial_id",
   "metadata": {
    "collapsed": true,
    "ExecuteTime": {
     "end_time": "2024-10-29T23:40:43.235107Z",
     "start_time": "2024-10-29T23:40:43.218104Z"
    }
   },
   "source": [
    "import torch\n",
    "import torch.nn as nn\n",
    "import torch.nn.functional as F\n",
    "import torchvision\n",
    "#from IPython.testing.tools import help_output_test\n",
    "#hello there does this update at all?\n",
    "\n",
    "\n",
    "class down(nn.Module):\n",
    "    def __init__(self, in_channels, out_channels):\n",
    "        super().__init__()\n",
    "        self.conv1 = nn.Conv2d(in_channels, int(round((out_channels+in_channels)/2)), kernel_size=3, padding=1)\n",
    "        print(self.conv1.weight.shape)\n",
    "        self.conv2 = nn.Conv2d(int(round((out_channels+in_channels)/2)), out_channels, kernel_size=3, padding=1)\n",
    "        print(self.conv2.weight.shape)\n",
    "        \n",
    "        print(' ')\n",
    "        \n",
    "        self.fc1 = nn.Linear(in_features=16, out_features=14)#16 arbituarily works\n",
    "        print(self.fc1.weight.shape)\n",
    "        self.fc2 = nn.Linear(in_features=14, out_features=12)\n",
    "        print(self.fc2.weight.shape)\n",
    "        self.out = nn.Linear(in_features=12, out_features=10)#if I set out features to one then I get a 1x10 but all have the same value which is wierd\n",
    "        print(self.out.weight.shape)\n",
    "\n",
    "\n",
    "    def forward(self, t):\n",
    "        print(t.shape)\n",
    "        t = F.max_pool2d(t, kernel_size=3, stride=2, padding=1)\n",
    "        print(t.shape)\n",
    "        t = self.conv1(t)\n",
    "        print(t.shape)\n",
    "        t = F.relu(t)\n",
    "        print(t.shape)\n",
    "        #        print(t.shape)\n",
    "        t.flatten()\n",
    "\n",
    "        t = self.conv2(t)\n",
    "        print(t.shape)\n",
    "        t = F.relu(t)\n",
    "        print(t.shape)\n",
    "        \n",
    "        t = self.fc1(t)\n",
    "        print(t.shape)\n",
    "        t = F.relu(t)\n",
    "        #print(t.shape)\n",
    "        t = self.fc2(t)\n",
    "        t = F.relu(t)\n",
    "        #print(t.shape)\n",
    "        t = self.out(t)\n",
    "        t = F.relu(t)\n",
    "        #print(t.shape)\n",
    "        \n",
    "        #        print(t.shape)\n",
    "\n",
    "        return t"
   ],
   "outputs": [],
   "execution_count": 90
  },
  {
   "metadata": {
    "ExecuteTime": {
     "end_time": "2024-10-29T23:40:49.707103Z",
     "start_time": "2024-10-29T23:40:49.700102Z"
    }
   },
   "cell_type": "code",
   "source": "network = down(1,6)",
   "id": "2df5c1fb7190a2e1",
   "outputs": [
    {
     "name": "stdout",
     "output_type": "stream",
     "text": [
      "torch.Size([4, 1, 3, 3])\n",
      "torch.Size([6, 4, 3, 3])\n",
      " \n",
      "torch.Size([14, 16])\n",
      "torch.Size([12, 14])\n",
      "torch.Size([10, 12])\n"
     ]
    }
   ],
   "execution_count": 91
  },
  {
   "metadata": {
    "ExecuteTime": {
     "end_time": "2024-10-29T23:40:50.100103Z",
     "start_time": "2024-10-29T23:40:50.081103Z"
    }
   },
   "cell_type": "code",
   "source": "real_samples_labels = torch.randint(0,100,(1,1,32, 32), dtype=torch.float32)",
   "id": "c585ce44d30f839b",
   "outputs": [],
   "execution_count": 92
  },
  {
   "metadata": {
    "ExecuteTime": {
     "end_time": "2024-10-29T23:40:50.555100Z",
     "start_time": "2024-10-29T23:40:50.550106Z"
    }
   },
   "cell_type": "code",
   "source": "out = network(real_samples_labels)",
   "id": "f7a152d2a2dc86e8",
   "outputs": [
    {
     "name": "stdout",
     "output_type": "stream",
     "text": [
      "torch.Size([1, 1, 32, 32])\n",
      "torch.Size([1, 1, 16, 16])\n",
      "torch.Size([1, 4, 16, 16])\n",
      "torch.Size([1, 4, 16, 16])\n",
      "torch.Size([1, 6, 16, 16])\n",
      "torch.Size([1, 6, 16, 16])\n",
      "torch.Size([1, 6, 16, 14])\n"
     ]
    }
   ],
   "execution_count": 93
  },
  {
   "metadata": {
    "ExecuteTime": {
     "end_time": "2024-10-29T23:40:50.997100Z",
     "start_time": "2024-10-29T23:40:50.981102Z"
    }
   },
   "cell_type": "code",
   "source": "print(out.shape)",
   "id": "76b02487f1572d9a",
   "outputs": [
    {
     "name": "stdout",
     "output_type": "stream",
     "text": [
      "torch.Size([1, 6, 16, 10])\n"
     ]
    }
   ],
   "execution_count": 94
  },
  {
   "metadata": {
    "ExecuteTime": {
     "end_time": "2024-10-29T23:40:51.629104Z",
     "start_time": "2024-10-29T23:40:51.524103Z"
    }
   },
   "cell_type": "code",
   "source": [
    "import matplotlib.pyplot as plt\n",
    "plt.imshow(out[0,0,:,:].detach())"
   ],
   "id": "3898e05db8cdc14c",
   "outputs": [
    {
     "data": {
      "text/plain": [
       "<matplotlib.image.AxesImage at 0x1ba17581180>"
      ]
     },
     "execution_count": 95,
     "metadata": {},
     "output_type": "execute_result"
    },
    {
     "data": {
      "text/plain": [
       "<Figure size 640x480 with 1 Axes>"
      ],
      "image/png": "[encoded data removed]"
     },
     "metadata": {},
     "output_type": "display_data"
    }
   ],
   "execution_count": 95
  },
  {
   "metadata": {
    "ExecuteTime": {
     "end_time": "2024-10-28T16:48:48.877882Z",
     "start_time": "2024-10-28T16:48:48.868881Z"
    }
   },
   "cell_type": "code",
   "source": "",
   "id": "f3beebeb7fd5d6c1",
   "outputs": [],
   "execution_count": null
  },
  {
   "metadata": {},
   "cell_type": "code",
   "outputs": [],
   "execution_count": null,
   "source": "",
   "id": "4b1bf37de11d7b8a"
  }
 ],
 "metadata": {
  "kernelspec": {
   "display_name": "Python 3",
   "language": "python",
   "name": "python3"
  },
  "language_info": {
   "codemirror_mode": {
    "name": "ipython",
    "version": 2
   },
   "file_extension": ".py",
   "mimetype": "text/x-python",
   "name": "python",
   "nbconvert_exporter": "python",
   "pygments_lexer": "ipython2",
   "version": "2.7.6"
  }
 },
 "nbformat": 4,
 "nbformat_minor": 5
}
