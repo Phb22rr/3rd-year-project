{
 "cells": [
  {
   "cell_type": "code",
   "id": "initial_id",
   "metadata": {
    "collapsed": true,
    "ExecuteTime": {
     "end_time": "2025-02-15T20:32:29.524514Z",
     "start_time": "2025-02-15T20:32:28.902675Z"
    }
   },
   "source": [
    "import torch\n",
    "import torch.nn as nn\n",
    "import torch.optim as optim\n",
    "import torch.nn.functional as F\n",
    "import torchvision\n",
    "import torchvision.transforms as transforms\n",
    "from torch.utils.data import DataLoader, Dataset\n",
    "from PIL import Image\n",
    "import numpy as np\n",
    "import os\n",
    "import pandas as pd\n",
    "import time\n",
    "from collections import OrderedDict, namedtuple\n",
    "from itertools import product\n",
    "from torch.optim import Adam\n",
    "#from siamese_network import SiameseNetwork  # Import your Siamese model\n",
    "#from siamese_dataset import SiameseDataset  # Import dataset class for pairs\n",
    "import random\n",
    "import matplotlib.pyplot as plt"
   ],
   "outputs": [],
   "execution_count": 34
  },
  {
   "metadata": {
    "ExecuteTime": {
     "end_time": "2025-02-15T20:32:30.189181Z",
     "start_time": "2025-02-15T20:32:30.172072Z"
    }
   },
   "cell_type": "code",
   "source": [
    "# RunManager & RunBuilder\n",
    "class RunBuilder():\n",
    "    @staticmethod\n",
    "    def get_runs(params):\n",
    "        Run = namedtuple('Run', params.keys())\n",
    "        runs = []\n",
    "        for v in product(*params.values()):\n",
    "            runs.append(Run(*v))\n",
    "        return runs\n",
    "\n",
    "class RunManager():\n",
    "    def __init__(self):\n",
    "        self.epoch_count = 0\n",
    "        self.epoch_loss = 0\n",
    "        self.epoch_start_time = None\n",
    "        self.run_params = None\n",
    "        self.run_count = 0\n",
    "        self.run_start_time = None\n",
    "\n",
    "    def begin_run(self, run):\n",
    "        self.run_start_time = time.time()\n",
    "        self.run_params = run\n",
    "        self.run_count += 1\n",
    "        self.epoch_count = 0\n",
    "\n",
    "    def end_run(self):\n",
    "        self.epoch_count = 0\n",
    "\n",
    "    def begin_epoch(self):\n",
    "        self.epoch_start_time = time.time()\n",
    "        self.epoch_loss = 0\n",
    "        self.epoch_count += 1\n",
    "\n",
    "    def end_epoch(self):\n",
    "        epoch_duration = time.time() - self.epoch_start_time\n",
    "        run_duration = time.time() - self.run_start_time\n",
    "        loss = self.epoch_loss / len(train_loader)\n",
    "        print(f\"Epoch {self.epoch_count}, Loss: {loss:.4f}\")\n",
    "\n",
    "    def track_loss(self, loss, batch):\n",
    "        self.epoch_loss += loss.item() * batch[0].size(0)"
   ],
   "id": "7ed87693d346bfa3",
   "outputs": [],
   "execution_count": 35
  },
  {
   "metadata": {
    "ExecuteTime": {
     "end_time": "2025-02-15T20:32:30.845353Z",
     "start_time": "2025-02-15T20:32:30.834213Z"
    }
   },
   "cell_type": "code",
   "source": [
    "# Define Siamese Dataset for Fashion MNIST\n",
    "class SiameseFashionMNIST(Dataset):\n",
    "    def __init__(self, dataset, transform=None):\n",
    "        self.dataset = dataset\n",
    "        self.transform = transform\n",
    "\n",
    "    def __getitem__(self, index):\n",
    "        img1, label1 = self.dataset[index]\n",
    "        should_get_same_class = np.random.randint(0, 2)\n",
    "        if should_get_same_class:\n",
    "            while True:\n",
    "                idx = np.random.randint(0, len(self.dataset))\n",
    "                img2, label2 = self.dataset[idx]\n",
    "                if label1 == label2:\n",
    "                    break\n",
    "        else:\n",
    "            while True:\n",
    "                idx = np.random.randint(0, len(self.dataset))\n",
    "                img2, label2 = self.dataset[idx]\n",
    "                if label1 != label2:\n",
    "                    break\n",
    "        label = torch.tensor([int(label1 == label2)], dtype=torch.float32)\n",
    "        if self.transform and not isinstance(img1, torch.Tensor):\n",
    "            img1 = self.transform(img1)\n",
    "            img2 = self.transform(img2)\n",
    "        return img1, img2, label\n",
    "\n",
    "    def __len__(self):\n",
    "        return len(self.dataset)\n"
   ],
   "id": "bff7c44cc502bf8c",
   "outputs": [],
   "execution_count": 36
  },
  {
   "metadata": {
    "ExecuteTime": {
     "end_time": "2025-02-15T20:32:31.401197Z",
     "start_time": "2025-02-15T20:32:31.380922Z"
    }
   },
   "cell_type": "code",
   "source": [
    "# Define the Siamese Network\n",
    "class SiameseNetwork(nn.Module):\n",
    "    def __init__(self):\n",
    "        super(SiameseNetwork, self).__init__()\n",
    "        self.cnn = nn.Sequential(\n",
    "            nn.Conv2d(1, 64, kernel_size=5),\n",
    "            nn.ReLU(),\n",
    "            nn.MaxPool2d(2, 2),\n",
    "            nn.Conv2d(64, 128, kernel_size=5),\n",
    "            nn.ReLU(),\n",
    "            nn.MaxPool2d(2, 2)\n",
    "        )\n",
    "        self.fc = nn.Sequential(\n",
    "            nn.Linear(128 * 4 * 4, 256),\n",
    "            nn.ReLU(),\n",
    "            nn.Linear(256, 128),\n",
    "            nn.ReLU(),\n",
    "            nn.Linear(128, 2)\n",
    "        )\n",
    "\n",
    "    def forward_once(self, x):\n",
    "        x = self.cnn(x)\n",
    "        x = x.view(x.size()[0], -1)\n",
    "        x = self.fc(x)\n",
    "        return x\n",
    "\n",
    "    def forward(self, input1, input2):\n",
    "        output1 = self.forward_once(input1)\n",
    "        output2 = self.forward_once(input2)\n",
    "        return output1, output2\n"
   ],
   "id": "43385c63e4cb3d1a",
   "outputs": [],
   "execution_count": 37
  },
  {
   "metadata": {
    "ExecuteTime": {
     "end_time": "2025-02-15T20:32:31.895832Z",
     "start_time": "2025-02-15T20:32:31.881568Z"
    }
   },
   "cell_type": "code",
   "source": [
    "# Contrastive Loss Function\n",
    "class ContrastiveLoss(nn.Module):\n",
    "    def __init__(self, margin=2.0):\n",
    "        super(ContrastiveLoss, self).__init__()\n",
    "        self.margin = margin\n",
    "\n",
    "    def forward(self, output1, output2, label):\n",
    "        euclidean_distance = F.pairwise_distance(output1, output2)\n",
    "        loss = torch.mean((1 - label) * torch.pow(euclidean_distance, 2) +\n",
    "                          label * torch.pow(torch.clamp(self.margin - euclidean_distance, min=0.0), 2))\n",
    "        return loss\n"
   ],
   "id": "1ec9bbb2d69e1f2b",
   "outputs": [],
   "execution_count": 38
  },
  {
   "metadata": {
    "ExecuteTime": {
     "end_time": "2025-02-15T20:32:32.518632Z",
     "start_time": "2025-02-15T20:32:32.472290Z"
    }
   },
   "cell_type": "code",
   "source": [
    "# Load Data\n",
    "transform = transforms.Compose([transforms.Resize((28,28)),\n",
    "                                transforms.ToTensor()])\n",
    "train_dataset = torchvision.datasets.FashionMNIST(root='./data', train=True, transform=transform, download=True)\n",
    "test_dataset = torchvision.datasets.FashionMNIST(root='./data', train=False, transform=transform, download=True)\n",
    "\n",
    "siamese_train_dataset = SiameseFashionMNIST(train_dataset, transform=transform)\n",
    "siamese_test_dataset = SiameseFashionMNIST(test_dataset, transform=transform)\n",
    "\n",
    "train_loader = DataLoader(siamese_train_dataset, shuffle=True, batch_size=32)\n",
    "test_loader = DataLoader(siamese_test_dataset, shuffle=True, batch_size=1)"
   ],
   "id": "39911ebe4a194eae",
   "outputs": [],
   "execution_count": 39
  },
  {
   "metadata": {
    "ExecuteTime": {
     "end_time": "2025-02-15T20:32:33.032936Z",
     "start_time": "2025-02-15T20:32:33.003494Z"
    }
   },
   "cell_type": "code",
   "source": [
    "# Model, Loss, Optimizer\n",
    "device = torch.device('cuda' if torch.cuda.is_available() else 'cpu')\n",
    "model = SiameseNetwork().to(device)\n",
    "criterion = ContrastiveLoss()\n",
    "optimizer = optim.Adam(model.parameters(), lr=0.001)\n"
   ],
   "id": "9cd552bd3d48a9c8",
   "outputs": [],
   "execution_count": 40
  },
  {
   "metadata": {
    "ExecuteTime": {
     "end_time": "2025-02-15T20:32:37.173623Z",
     "start_time": "2025-02-15T20:32:37.139996Z"
    }
   },
   "cell_type": "code",
   "source": [
    "# Define Hyperparameter Grid\n",
    "params = OrderedDict(\n",
    "    lr=[0.006],  # Learning rates to test\n",
    "    batch_size=[10000],  # Different batch sizes\n",
    "    number_epochs=[1, 2],  # Number of epochs\n",
    "    optimizer=[torch.optim.AdamW]  # Optimizers to test\n",
    ")\n",
    "\n",
    "# Initialize RunManager\n",
    "m = RunManager()\n",
    "b = RunBuilder.get_runs(params)\n",
    "\n",
    "# Device Selection\n",
    "device = torch.device(\"cuda\" if torch.cuda.is_available() else \"cpu\")\n",
    "\n",
    "# Load Data\n",
    "transform = transforms.Compose([transforms.Resize((28, 28)), transforms.ToTensor()])\n",
    "train_dataset = torchvision.datasets.FashionMNIST(root='./data', train=True, transform=transform, download=True)\n",
    "\n",
    "for run in b:\n",
    "    print(run)"
   ],
   "id": "1e9e769d86278e2b",
   "outputs": [
    {
     "name": "stdout",
     "output_type": "stream",
     "text": [
      "Run(lr=0.006, batch_size=10000, number_epochs=1, optimizer=<class 'torch.optim.adamw.AdamW'>)\n",
      "Run(lr=0.006, batch_size=10000, number_epochs=2, optimizer=<class 'torch.optim.adamw.AdamW'>)\n"
     ]
    }
   ],
   "execution_count": 41
  },
  {
   "metadata": {
    "ExecuteTime": {
     "end_time": "2025-02-15T20:02:55.961146Z",
     "start_time": "2025-02-15T19:59:30.907266Z"
    }
   },
   "cell_type": "code",
   "source": [
    "# Load FashionMNIST dataset and create pairs\n",
    "train_set = SiameseFashionMNIST(train_dataset, transform=transform)  # Modify your dataset to return pairs\n",
    "train_loader = DataLoader(train_set, batch_size=100, shuffle=True)\n",
    "\n",
    "device = torch.device(\"cuda:0\" if torch.cuda.is_available() else \"cpu\")\n",
    "network = SiameseNetwork().to(device)\n",
    "\n",
    "# Contrastive Loss Function\n",
    "def contrastive_loss(out1, out2, label, margin=1.0):\n",
    "    distance = F.pairwise_distance(out1, out2)\n",
    "    loss = torch.mean((1 - label) * torch.pow(distance, 2) +\n",
    "                      label * torch.pow(torch.clamp(margin - distance, min=0.0), 2))\n",
    "    return loss\n",
    "\n",
    "# Compute Accuracy (Pairs classified correctly)\n",
    "def get_num_correct(out1, out2, labels, threshold=0.5):\n",
    "    distances = F.pairwise_distance(out1, out2)\n",
    "    preds = (distances < threshold).float()  # Predict same class if distance is small\n",
    "    return torch.eq(preds, labels).sum().item()\n",
    "\n",
    "max_acc = []\n",
    "loss_vals = []\n",
    "torch.cuda.empty_cache()\n",
    "\n",
    "for run in b:  # Iterate over different hyperparameter combinations\n",
    "    network = SiameseNetwork().to(device)\n",
    "    optimizer = run.optimizer(network.parameters(), lr=run.lr)\n",
    "\n",
    "    best_acc = 0\n",
    "    best_loss = float('inf')\n",
    "\n",
    "    for epoch in range(run.number_epochs):\n",
    "        correct = 0\n",
    "        total_loss = 0\n",
    "        for img1, img2, label in train_loader:  # Load pairs of images\n",
    "            img1, img2, label = img1.to(device), img2.to(device), label.to(device)\n",
    "            out1, out2 = network(img1, img2)\n",
    "            loss = contrastive_loss(out1, out2, label)\n",
    "\n",
    "            optimizer.zero_grad()\n",
    "            loss.backward()\n",
    "            optimizer.step()\n",
    "\n",
    "            total_loss += loss.item()\n",
    "            correct += get_num_correct(out1, out2, label)\n",
    "\n",
    "        acc = correct / len(train_loader.dataset)\n",
    "        best_acc = max(best_acc, acc)\n",
    "        best_loss = min(best_loss, total_loss)\n",
    "\n",
    "    print(run, \", Accuracy =\", best_acc, \", Loss =\", best_loss)\n",
    "    max_acc.append(best_acc)\n",
    "    loss_vals.append(best_loss)\n",
    "\n",
    "# Save results\n",
    "np.savetxt('siamese_accuracy.csv', np.array(max_acc), delimiter=',')\n",
    "np.savetxt('siamese_loss.csv', np.array(loss_vals), delimiter=',')\n",
    "\n",
    "print(\"Best Accuracy at row:\", np.argmax(max_acc) + 1, \"Accuracy =\", np.max(max_acc))\n",
    "print(\"Best Loss at row:\", np.argmin(loss_vals) + 1, \"Loss =\", np.min(loss_vals))"
   ],
   "id": "1e5d77aeda534f38",
   "outputs": [
    {
     "name": "stdout",
     "output_type": "stream",
     "text": [
      "Run(lr=0.006, batch_size=10000, number_epochs=1, optimizer=<class 'torch.optim.adamw.AdamW'>) , Accuracy = 50.08416666666667 , Loss = 187.7790008187294\n",
      "Run(lr=0.006, batch_size=10000, number_epochs=2, optimizer=<class 'torch.optim.adamw.AdamW'>) , Accuracy = 50.0693 , Loss = 182.1652760207653\n",
      "Best Accuracy at row: 1 Accuracy = 50.08416666666667\n",
      "Best Loss at row: 2 Loss = 182.1652760207653\n"
     ]
    }
   ],
   "execution_count": 23
  },
  {
   "metadata": {
    "ExecuteTime": {
     "end_time": "2025-02-15T18:23:42.567636Z",
     "start_time": "2025-02-15T18:23:42.555635Z"
    }
   },
   "cell_type": "code",
   "source": [
    "#alternate param optimisation\n",
    "# Iterate through hyperparameter combinations\n",
    "#for run in b:\n",
    "#\n",
    " #   # Create DataLoader with dynamic batch size\n",
    "  #  train_loader = DataLoader(SiameseFashionMNIST(train_dataset, transform=transform),\n",
    "   #                           shuffle=True, batch_size=run.batch_size)\n",
    "#\n",
    " #   # Initialize model, criterion, and optimizer dynamically\n",
    "  #  model = SiameseNetwork().to(device)\n",
    "   # criterion = ContrastiveLoss()\n",
    "    #optimizer = run.optimizer(model.parameters(), lr=run.lr)\n",
    "#\n",
    " #   # Start run\n",
    "  #  m.begin_run(run)\n",
    "#\n",
    " #   for epoch in range(run.number_epochs):\n",
    "  #      m.begin_epoch()\n",
    "   #     model.train()\n",
    "#\n",
    " #       for batch_idx, (img1, img2, label) in enumerate(train_loader):\n",
    "  #          img1, img2, label = img1.to(device), img2.to(device), label.to(device)\n",
    "#\n",
    " #           optimizer.zero_grad()\n",
    "  #          output1, output2 = model(img1, img2)\n",
    "   #         loss = criterion(output1, output2, label)\n",
    "    #        loss.backward()\n",
    "     #       optimizer.step()\n",
    "#\n",
    " #           m.track_loss(loss, (img1, img2))\n",
    "#\n",
    " #           if batch_idx % 100 == 0:\n",
    "  #              print(f'Epoch {epoch+1}, Batch {batch_idx}, Loss: {loss.item():.4f}')\n",
    "#\n",
    " #       m.end_epoch()\n",
    "#\n",
    " #   m.end_run()\n",
    "  #  print(\"Training Complete for this parameter set!\\n\")"
   ],
   "id": "c7e0403b46819149",
   "outputs": [],
   "execution_count": null
  },
  {
   "metadata": {
    "ExecuteTime": {
     "end_time": "2025-02-15T20:37:24.746373Z",
     "start_time": "2025-02-15T20:35:24.038365Z"
    }
   },
   "cell_type": "code",
   "source": [
    "#saving the CNN network \n",
    "train_loader = torch.utils.data.DataLoader(train_set, batch_size=10000, shuffle=True)\n",
    "\n",
    "device = torch.device(\"cuda:0\" if torch.cuda.is_available() else \"cpu\")\n",
    "network = SiameseNetwork().to(device)\n",
    "optimizer = optim.AdamW(network.parameters(), lr=0.006)\n",
    "\n",
    "batch = next(iter(train_loader))\n",
    "img1, img2, labels = batch\n",
    "img1, img2, labels = img1.to(device), img2.to(device), labels.to(device)\n",
    "\n",
    "number_run = 4\n",
    "holdall = np.zeros(number_run)\n",
    "\n",
    "def get_num_correct(out1, out2, labels, threshold=0.5):\n",
    "    distances = F.pairwise_distance(out1, out2)\n",
    "    preds = (distances < threshold).float()  # Predict \"same class\" if distance is small\n",
    "    return torch.eq(preds, labels).sum().item()  # Count correct predictions\n",
    "\n",
    "for I in range(number_run):\n",
    "    out1, out2 = network(img1, img2)\n",
    "    loss = ContrastiveLoss()(out1, out2, labels)\n",
    "    holdall[I] = get_num_correct(out1, out2, labels)\n",
    "\n",
    "    loss.backward()\n",
    "    optimizer.step()\n",
    "    optimizer.zero_grad()\n",
    "\n",
    "plt.plot(holdall)\n",
    "plt.show()\n",
    "max_value = holdall.max()\n",
    "print(max_value)\n",
    "\n",
    "torch.save(network.state_dict(), 'network.pth')\n",
    "\n",
    "help_me = SiameseNetwork().to(device)\n",
    "help_me.load_state_dict(torch.load('network.pth'))\n",
    "help_me.eval()"
   ],
   "id": "9761074def1caa4b",
   "outputs": [
    {
     "data": {
      "text/plain": [
       "<Figure size 640x480 with 1 Axes>"
      ],
      "image/png": "[encoded data removed]"
     },
     "metadata": {},
     "output_type": "display_data"
    },
    {
     "name": "stdout",
     "output_type": "stream",
     "text": [
      "50360000.0\n"
     ]
    },
    {
     "name": "stderr",
     "output_type": "stream",
     "text": [
      "C:\\Users\\user\\AppData\\Local\\Temp\\ipykernel_15884\\1551222301.py:37: FutureWarning: You are using `torch.load` with `weights_only=False` (the current default value), which uses the default pickle module implicitly. It is possible to construct malicious pickle data which will execute arbitrary code during unpickling (See https://github.com/pytorch/pytorch/blob/main/SECURITY.md#untrusted-models for more details). In a future release, the default value for `weights_only` will be flipped to `True`. This limits the functions that could be executed during unpickling. Arbitrary objects will no longer be allowed to be loaded via this mode unless they are explicitly allowlisted by the user via `torch.serialization.add_safe_globals`. We recommend you start setting `weights_only=True` for any use case where you don't have full control of the loaded file. Please open an issue on GitHub for any issues related to this experimental feature.\n",
      "  help_me.load_state_dict(torch.load('network.pth'))\n"
     ]
    },
    {
     "data": {
      "text/plain": [
       "SiameseNetwork(\n",
       "  (cnn): Sequential(\n",
       "    (0): Conv2d(1, 64, kernel_size=(5, 5), stride=(1, 1))\n",
       "    (1): ReLU()\n",
       "    (2): MaxPool2d(kernel_size=2, stride=2, padding=0, dilation=1, ceil_mode=False)\n",
       "    (3): Conv2d(64, 128, kernel_size=(5, 5), stride=(1, 1))\n",
       "    (4): ReLU()\n",
       "    (5): MaxPool2d(kernel_size=2, stride=2, padding=0, dilation=1, ceil_mode=False)\n",
       "  )\n",
       "  (fc): Sequential(\n",
       "    (0): Linear(in_features=2048, out_features=256, bias=True)\n",
       "    (1): ReLU()\n",
       "    (2): Linear(in_features=256, out_features=128, bias=True)\n",
       "    (3): ReLU()\n",
       "    (4): Linear(in_features=128, out_features=2, bias=True)\n",
       "  )\n",
       ")"
      ]
     },
     "execution_count": 43,
     "metadata": {},
     "output_type": "execute_result"
    }
   ],
   "execution_count": 43
  },
  {
   "metadata": {},
   "cell_type": "code",
   "outputs": [],
   "execution_count": null,
   "source": "",
   "id": "9029f198d41fafde"
  }
 ],
 "metadata": {
  "kernelspec": {
   "display_name": "Python 3",
   "language": "python",
   "name": "python3"
  },
  "language_info": {
   "codemirror_mode": {
    "name": "ipython",
    "version": 2
   },
   "file_extension": ".py",
   "mimetype": "text/x-python",
   "name": "python",
   "nbconvert_exporter": "python",
   "pygments_lexer": "ipython2",
   "version": "2.7.6"
  }
 },
 "nbformat": 4,
 "nbformat_minor": 5
}
