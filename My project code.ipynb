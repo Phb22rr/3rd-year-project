{
 "cells": [
  {
   "metadata": {
    "ExecuteTime": {
     "end_time": "2024-11-11T12:57:46.983340Z",
     "start_time": "2024-11-11T12:57:46.966316Z"
    }
   },
   "cell_type": "code",
   "source": [
    "import torch\n",
    "import torch.nn as nn\n",
    "import torch.nn.functional as F\n",
    "import matplotlib.pyplot as plt\n",
    "import torchvision\n",
    "import torchvision.transforms as transforms\n",
    "import numpy as np\n",
    "import matplotlib.pyplot as plt\n",
    "import torch.optim as optim"
   ],
   "id": "671df6058f0a6a74",
   "outputs": [],
   "execution_count": 3
  },
  {
   "cell_type": "code",
   "id": "initial_id",
   "metadata": {
    "collapsed": true,
    "ExecuteTime": {
     "end_time": "2024-11-11T12:57:47.601201Z",
     "start_time": "2024-11-11T12:57:47.584676Z"
    }
   },
   "source": [
    "#CNN Network\n",
    "\n",
    "class Down(nn.Module):\n",
    "    def __init__(self, in_channels, out_channels, device = \"cuda\"):\n",
    "        super().__init__()\n",
    "        self.device = torch.device(device)\n",
    "        self.out_channels = out_channels  # Store out_channels as an instance variable\n",
    "        \n",
    "        self.conv1 = nn.Conv2d(in_channels, (out_channels + in_channels) // 2, kernel_size=3, padding=1)\n",
    "        self.conv2 = nn.Conv2d((out_channels + in_channels) // 2, out_channels, kernel_size=3, padding=1)\n",
    "\n",
    "        # Initialize fc1 later\n",
    "        self.fc1 = None  # Initialize later based on input size\n",
    "        self.fc2 = nn.Linear(out_channels, 100)  # Adjust output size if needed\n",
    "        self.out = nn.Linear(100, 10)  # The input size must match the output of fc2\n",
    "\n",
    "    def forward(self, t):\n",
    "        t = F.max_pool2d(t, kernel_size=3, stride=2, padding=1)\n",
    "        #print(t.shape)\n",
    "        t = self.conv1(t)\n",
    "        #print(t.shape)\n",
    "        t = F.relu(t)\n",
    "        t = self.conv2(t)\n",
    "        #print(t.shape)\n",
    "        t = F.relu(t)\n",
    "\n",
    "        # Flatten the tensor for fully connected layers\n",
    "        t = t.view(t.size(0), -1)\n",
    "        if self.fc1 is None:\n",
    "            self.fc1 = nn.Linear(t.size(1), self.out_channels).to(self.device)\n",
    "\n",
    "        # Dynamically set the first linear layer based on the flattened size\n",
    "\n",
    "        t = self.fc1(t)\n",
    "        #print(t.shape, \"fc1\")\n",
    "        t = F.relu(t)\n",
    "        t = self.fc2(t)\n",
    "        #print(t.shape, \"fc2\")\n",
    "        t = F.relu(t)\n",
    "        t = self.out(t)\n",
    "        #print(t.shape, \"out\")\n",
    "        t = F.relu(t)\n",
    "        return t\n"
   ],
   "outputs": [],
   "execution_count": 4
  },
  {
   "metadata": {
    "ExecuteTime": {
     "end_time": "2024-11-11T12:57:50.750518Z",
     "start_time": "2024-11-11T12:57:50.741998Z"
    }
   },
   "cell_type": "code",
   "source": [
    "## Random data example usage\n",
    "#network = Down(1, 5).to(\"cuda\")\n",
    "#real_samples_labels = torch.randint(0, 100, (1, 1, 32, 32), dtype=torch.float32).to(\"cuda\")\n",
    "#out = network(real_samples_labels)\n",
    "##print(out.shape)  # Should output: torch.Size([1, 10])\n",
    "\n",
    "#plt.imshow(out[:,:].detach().cpu().numpy())  # get the graph"
   ],
   "id": "9c0fea267d45de36",
   "outputs": [],
   "execution_count": 5
  },
  {
   "metadata": {
    "ExecuteTime": {
     "end_time": "2024-11-11T12:57:51.310137Z",
     "start_time": "2024-11-11T12:57:51.273563Z"
    }
   },
   "cell_type": "code",
   "source": [
    "#Download FMNIST data\n",
    "train_set = torchvision.datasets.FashionMNIST(\n",
    "    root='./data'\n",
    "    ,train=True\n",
    "    ,download=True\n",
    "    ,transform=transforms.Compose([\n",
    "        transforms.ToTensor()\n",
    "    ])\n",
    ")"
   ],
   "id": "db23e3eec05341aa",
   "outputs": [],
   "execution_count": 6
  },
  {
   "metadata": {
    "ExecuteTime": {
     "end_time": "2024-11-11T12:57:51.863565Z",
     "start_time": "2024-11-11T12:57:51.853956Z"
    }
   },
   "cell_type": "code",
   "source": [
    "#sample = next(iter(train_set))\n",
    "#image, label = sample # returns a sample, which can be split in to an image and a label\n",
    "#plt.imshow(image.squeeze())"
   ],
   "id": "6e2c347bcffd7971",
   "outputs": [],
   "execution_count": 7
  },
  {
   "metadata": {
    "ExecuteTime": {
     "end_time": "2024-11-11T12:57:52.577519Z",
     "start_time": "2024-11-11T12:57:52.565470Z"
    }
   },
   "cell_type": "code",
   "source": [
    "##first run test\n",
    "#train_loader = torch.utils.data.DataLoader(train_set, batch_size=1000, shuffle=True)\n",
    "#sample = next(iter(train_loader))\n",
    "#image, label = sample\n",
    "#print(image.shape)\n",
    "#print(label)\n",
    "\n",
    "#batch = next(iter(train_loader))\n",
    "#images, labels = batch\n",
    "#images, labels = images.to(\"cuda\"), labels.to(\"cuda\")\n",
    "#network = Down(in_channels=1, out_channels=100).to(\"cuda\")\n",
    "#preds = network(images)\n",
    "##print(np.max(preds.detach().numpy(),axis=0))\n",
    "##print(preds)\n",
    "##print(labels)"
   ],
   "id": "5cad05b8b586dac8",
   "outputs": [],
   "execution_count": 8
  },
  {
   "metadata": {
    "ExecuteTime": {
     "end_time": "2024-11-11T12:57:53.200923Z",
     "start_time": "2024-11-11T12:57:53.188399Z"
    }
   },
   "cell_type": "code",
   "source": [
    "##first fun test\n",
    "#def get_num_correct(preds, labels):\n",
    "#    return preds.argmax(dim=1).eq(labels).sum().item()\n",
    "#\n",
    "#hold = []\n",
    "#for I in range(100):\n",
    "#    batch = next(iter(train_loader))\n",
    " #   images, labels = batch\n",
    "#    images, labels = images.to(\"cuda\"), labels.to(\"cuda\")\n",
    "#    preds = network(images)\n",
    "#    hold.append(get_num_correct(preds, labels))"
   ],
   "id": "c1b10b372091ad50",
   "outputs": [],
   "execution_count": 9
  },
  {
   "metadata": {
    "ExecuteTime": {
     "end_time": "2024-11-11T12:57:54.003215Z",
     "start_time": "2024-11-11T12:57:53.987697Z"
    }
   },
   "cell_type": "code",
   "source": [
    "#plt.plot(hold)\n",
    "#print(np.mean(hold))"
   ],
   "id": "e1f5f2506c7d4798",
   "outputs": [],
   "execution_count": 10
  },
  {
   "metadata": {
    "ExecuteTime": {
     "end_time": "2024-11-11T13:10:00.436727Z",
     "start_time": "2024-11-11T13:09:56.982543Z"
    }
   },
   "cell_type": "code",
   "source": [
    "#training\n",
    "train_loader = torch.utils.data.DataLoader(train_set, batch_size=100, shuffle=True)\n",
    "sample = next(iter(train_loader))\n",
    "image, label = sample\n",
    "#print(image.shape)\n",
    "#print(label)\n",
    "\n",
    "def get_num_correct(preds, labels):\n",
    "    return preds.argmax(dim=1).eq(labels).sum().item()\n",
    "\n",
    "device = torch.device(\"cuda\")\n",
    "network = Down(1, 64).to(\"cuda\")\n",
    "\n",
    "batch = next(iter(train_loader))\n",
    "images, labels = batch\n",
    "images, labels = images.to(device), labels.to(device)\n",
    "\n",
    "number_run = 1000\n",
    "holdall = np.zeros(number_run)\n",
    "\n",
    "optimizer = optim.Adam(network.parameters(), lr=0.001, weight_decay=1e-5)\n",
    "\n",
    "for I in range(number_run):\n",
    "    preds = network(images)\n",
    "    loss = F.cross_entropy(preds, labels)\n",
    "    holdall[I] = get_num_correct(preds.to('cuda'), labels.to('cuda'))\n",
    "    loss.backward() # Calculating the gradients\n",
    "    #optimizer = optim.Adam(network.parameters(), lr=0.001)\n",
    "    optimizer.step()\n",
    "    optimizer.zero_grad()\n",
    "plt.plot(holdall)\n",
    "plt.show()\n",
    "print(max(holdall))"
   ],
   "id": "6c8c7b10e7b79d9",
   "outputs": [
    {
     "data": {
      "text/plain": [
       "<Figure size 640x480 with 1 Axes>"
      ],
      "image/png": "[encoded data removed]"
     },
     "metadata": {},
     "output_type": "display_data"
    },
    {
     "name": "stdout",
     "output_type": "stream",
     "text": [
      "80.0\n"
     ]
    }
   ],
   "execution_count": 16
  },
  {
   "metadata": {
    "ExecuteTime": {
     "end_time": "2024-11-11T12:34:17.967533Z",
     "start_time": "2024-11-11T12:34:17.957435Z"
    }
   },
   "cell_type": "code",
   "source": "",
   "id": "e0ad4eb52c0edca0",
   "outputs": [],
   "execution_count": null
  },
  {
   "metadata": {},
   "cell_type": "code",
   "outputs": [],
   "execution_count": null,
   "source": "",
   "id": "d33c87d2084424fd"
  }
 ],
 "metadata": {
  "kernelspec": {
   "display_name": "Python 3",
   "language": "python",
   "name": "python3"
  },
  "language_info": {
   "codemirror_mode": {
    "name": "ipython",
    "version": 2
   },
   "file_extension": ".py",
   "mimetype": "text/x-python",
   "name": "python",
   "nbconvert_exporter": "python",
   "pygments_lexer": "ipython2",
   "version": "2.7.6"
  }
 },
 "nbformat": 4,
 "nbformat_minor": 5
}
