{
 "cells": [
  {
   "metadata": {},
   "cell_type": "code",
   "outputs": [],
   "execution_count": null,
   "source": "#Loading and preparing the mask data",
   "id": "2b24a4035124b96e"
  },
  {
   "metadata": {
    "ExecuteTime": {
     "end_time": "2025-02-24T20:04:55.556666Z",
     "start_time": "2025-02-24T20:04:54.965633Z"
    }
   },
   "cell_type": "code",
   "source": [
    "#save Ram from exploding\n",
    "#Begone memory\n",
    "def memory():\n",
    "    def Begone_memory(exceptions=None):\n",
    "        if exceptions is None:\n",
    "            exceptions = []\n",
    "\n",
    "        for var in list(globals().keys()):\n",
    "            if var not in exceptions:\n",
    "                del globals()[var]\n",
    "    Begone_memory()\n",
    "    def Begone_memory(exceptions=None):\n",
    "        if exceptions is None:\n",
    "            exceptions = []\n",
    "\n",
    "        for var in list(globals().keys()):\n",
    "            if var not in exceptions:\n",
    "                del globals()[var]\n",
    "memory()\n",
    "from skimage.io import imread, imsave\n",
    "import os\n",
    "import numpy as np"
   ],
   "id": "fbee05ad9d4f83c1",
   "outputs": [],
   "execution_count": 3
  },
  {
   "cell_type": "code",
   "execution_count": null,
   "id": "initial_id",
   "metadata": {
    "collapsed": true
   },
   "outputs": [],
   "source": [
    "# Load the mask data\n",
    "mask_data_15_percent = \"A:/3rd_Year_Project/Project_code/data/Masks_Data/15percent_masks\"\n",
    "mask_data_2nd_with_light = r\"A:\\3rd_Year_Project\\Project_code\\data\\Masks_Data\\secondwithlight_masks\"\n",
    "\n",
    "image_list = []\n",
    "\n",
    "#15% data:\n",
    "# Loop through all the files in the directory\n",
    "for image_filename in os.listdir(mask_data_15_percent):\n",
    "    image_path_full = os.path.join(mask_data_15_percent, image_filename)\n",
    "\n",
    "    # Ensure we are processing only PNG files\n",
    "    if image_filename.endswith(\".png\"):\n",
    "        image = imread(image_path_full, as_gray=True)\n",
    "\n",
    "        image_list.append(image)\n",
    "        # Display the image\n",
    "        #plt.imshow(image, cmap='gray')\n",
    "        #plt.title(f\"Displaying {image_filename}\")  # Show the filename as the title\n",
    "        #plt.show()\n",
    "#plt.imshow(image_list[200], cmap='gray')\n",
    "#plt.show()\n",
    "np.save(r\"A:\\3rd_Year_Project\\Project_code\\data\\Masks_Data\\Numpy format\\15_percent_masks.npy\", image_list)\n",
    "\n",
    "image_list1 = []\n",
    "\n",
    "#2ndlight data:\n",
    "# Loop through all the files in the directory\n",
    "for image_filename in os.listdir(mask_data_2nd_with_light):\n",
    "    image_path_full = os.path.join(mask_data_2nd_with_light, image_filename)\n",
    "\n",
    "    # Ensure we are processing only PNG files\n",
    "    if image_filename.endswith(\".png\"):\n",
    "        image = imread(image_path_full, as_gray=True)\n",
    "\n",
    "        image_list1.append(image)\n",
    "        # Display the image\n",
    "        #plt.imshow(image, cmap='gray')\n",
    "        #plt.title(f\"Displaying {image_filename}\")  # Show the filename as the title\n",
    "        #plt.show()\n",
    "#plt.imshow(image_list[200], cmap='gray')\n",
    "#plt.show()\n",
    "np.save(r\"A:\\3rd_Year_Project\\Project_code\\data\\Masks_Data\\Numpy format\\2nd_light_masks.npy\", image_list1)"
   ]
  },
  {
   "metadata": {
    "ExecuteTime": {
     "end_time": "2025-02-24T20:04:27.692727Z",
     "start_time": "2025-02-24T20:04:19.409095Z"
    }
   },
   "cell_type": "code",
   "source": [
    "#check if correct data loaded\n",
    "# Load the numpy array (make sure the file path is correct)\n",
    "images_array = np.load(r\"A:/3rd_Year_Project/Project_code/data/Masks_Data/Numpy format/15_percent_masks.npy\")\n",
    "images_array1 = np.load(r\"A:\\3rd_Year_Project\\Project_code\\data\\Masks_Data\\Numpy format\\2nd_light_masks.npy\")\n",
    "\n",
    "# Display the first image in the array\n",
    "#plt.imshow(images_array[200], cmap='gray')  # First page/image is indexed by 0\n",
    "#plt.title(\"15%\")   # Optional: add a title\n",
    "#plt.show()\n",
    "\n",
    "#plt.imshow(images_array1[200], cmap='gray')\n",
    "#plt.title(\"2nd light\")\n",
    "#plt.show()\n",
    "print(images_array.shape)\n",
    "print(images_array1.shape)"
   ],
   "id": "1602d0bbe5026ef5",
   "outputs": [
    {
     "name": "stdout",
     "output_type": "stream",
     "text": [
      "(600, 1200, 1200)\n",
      "(300, 1200, 1200)\n"
     ]
    }
   ],
   "execution_count": 2
  },
  {
   "metadata": {},
   "cell_type": "code",
   "outputs": [],
   "execution_count": null,
   "source": "",
   "id": "97ee04f1f9d894e8"
  }
 ],
 "metadata": {
  "kernelspec": {
   "display_name": "Python 3",
   "language": "python",
   "name": "python3"
  },
  "language_info": {
   "codemirror_mode": {
    "name": "ipython",
    "version": 2
   },
   "file_extension": ".py",
   "mimetype": "text/x-python",
   "name": "python",
   "nbconvert_exporter": "python",
   "pygments_lexer": "ipython2",
   "version": "2.7.6"
  }
 },
 "nbformat": 4,
 "nbformat_minor": 5
}
