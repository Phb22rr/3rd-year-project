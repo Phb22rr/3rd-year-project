{
 "cells": [
  {
   "metadata": {
    "ExecuteTime": {
     "end_time": "2024-12-02T13:30:23.581275Z",
     "start_time": "2024-12-02T13:30:23.574706Z"
    }
   },
   "cell_type": "code",
   "source": [
    "import numpy as np\n",
    "import matplotlib.pyplot as plt\n",
    "import torch.optim as optim\n",
    "import torch\n",
    "import RunManager as rm\n",
    "import RunBuilder as bm\n",
    "import torch.nn as nn\n",
    "import torch.nn.functional as F\n",
    "from torch.utils.data import DataLoader\n",
    "from torch.utils.tensorboard import SummaryWriter\n",
    "import time as time\n",
    "from collections import OrderedDict\n",
    "from collections import namedtuple\n",
    "from itertools import product\n",
    "import torchvision\n",
    "import torchvision.transforms as transforms"
   ],
   "id": "671df6058f0a6a74",
   "outputs": [],
   "execution_count": 60
  },
  {
   "cell_type": "code",
   "id": "initial_id",
   "metadata": {
    "collapsed": true,
    "ExecuteTime": {
     "end_time": "2024-12-02T13:30:24.057343Z",
     "start_time": "2024-12-02T13:30:24.035173Z"
    }
   },
   "source": [
    "#CNN Network\n",
    "\n",
    "class Down(nn.Module):\n",
    "    def __init__(self, in_channels, out_channels, device = \"cuda\"):\n",
    "        super().__init__()\n",
    "        self.device = torch.device(device)\n",
    "        self.out_channels = out_channels  # Store out_channels as an instance variable\n",
    "        conv1_out_channels = (out_channels + in_channels) // 2\n",
    "        \n",
    "        self.conv1 = nn.Conv2d(in_channels, conv1_out_channels, kernel_size=3, padding=1)\n",
    "        self.conv2 = nn.Conv2d(conv1_out_channels, out_channels, kernel_size=3, padding=1)\n",
    "\n",
    "        # Initialize fc1 later\n",
    "        self.fc1 = None  # Initialize later based on input size\n",
    "        self.fc2 = nn.Linear(out_channels, 200)  # Adjust output size if needed\n",
    "        self.fc3 = nn.Linear(200, 100)\n",
    "        self.out = nn.Linear(100, 10)  # The input size must match the output of fc2\n",
    "\n",
    "    def forward(self, t):\n",
    "        t = F.max_pool2d(t, kernel_size=3, stride=2, padding=1)\n",
    "        #print(t.shape)\n",
    "        t = self.conv1(t)\n",
    "        #print(t.shape)\n",
    "        t = F.relu(t)\n",
    "        t = self.conv2(t)\n",
    "        #print(t.shape)\n",
    "        t = F.relu(t)\n",
    "\n",
    "        # Flatten the tensor for fully connected layers\n",
    "        t = t.view(t.size(0), -1)\n",
    "        if self.fc1 is None:\n",
    "            self.fc1 = nn.Linear(t.size(1), self.out_channels).to(self.device)\n",
    "\n",
    "        # Dynamically set the first linear layer based on the flattened size\n",
    "\n",
    "        t = self.fc1(t)\n",
    "        #print(t.shape, \"fc1\")\n",
    "        t = F.relu(t)\n",
    "        t = self.fc2(t)\n",
    "        #print(t.shape, \"fc2\")\n",
    "        t = F.relu(t)\n",
    "        t = self.fc3(t)\n",
    "        #print(t.shape, \"fc1\")\n",
    "        t = F.relu(t)\n",
    "        t = self.out(t)\n",
    "        #print(t.shape, \"out\")\n",
    "        return t\n"
   ],
   "outputs": [],
   "execution_count": 61
  },
  {
   "metadata": {
    "ExecuteTime": {
     "end_time": "2024-12-02T13:30:24.571882Z",
     "start_time": "2024-12-02T13:30:24.558330Z"
    }
   },
   "cell_type": "code",
   "source": [
    "# Random data example usage\n",
    "#network = Down(1, 5).to(\"cuda\")\n",
    "#real_samples_labels = torch.randint(0, 100, (1, 1, 32, 32), #dtype=torch.float32).to(\"cuda\")\n",
    "#out = network(real_samples_labels)\n",
    "##print(out.shape)  # Should output: torch.Size([1, 10])\n",
    "\n",
    "#plt.imshow(out[:,:].detach().cpu().numpy())  # get the graph"
   ],
   "id": "9c0fea267d45de36",
   "outputs": [],
   "execution_count": 62
  },
  {
   "metadata": {
    "ExecuteTime": {
     "end_time": "2024-12-02T13:30:24.947533Z",
     "start_time": "2024-12-02T13:30:24.918976Z"
    }
   },
   "cell_type": "code",
   "source": [
    "#Download FMNIST data\n",
    "train_set = torchvision.datasets.FashionMNIST(\n",
    "    root='./data'\n",
    "    ,train=True\n",
    "    ,download=True\n",
    "    ,transform=transforms.Compose([\n",
    "        transforms.ToTensor()]))"
   ],
   "id": "db23e3eec05341aa",
   "outputs": [],
   "execution_count": 63
  },
  {
   "metadata": {
    "ExecuteTime": {
     "end_time": "2024-12-02T13:30:25.354631Z",
     "start_time": "2024-12-02T13:30:25.339590Z"
    }
   },
   "cell_type": "code",
   "source": [
    "#sample = next(iter(train_set))\n",
    "#image, label = sample # returns a sample, which can be split in to an image and a label\n",
    "#plt.imshow(image.squeeze())"
   ],
   "id": "6e2c347bcffd7971",
   "outputs": [],
   "execution_count": 64
  },
  {
   "metadata": {
    "ExecuteTime": {
     "end_time": "2024-12-02T13:30:25.779449Z",
     "start_time": "2024-12-02T13:30:25.766928Z"
    }
   },
   "cell_type": "code",
   "source": [
    "#first run test\n",
    "#train_loader = torch.utils.data.DataLoader(train_set, batch_size=1000, shuffle=True)\n",
    "#sample = next(iter(train_loader))\n",
    "#image, label = sample\n",
    "#print(image.shape)\n",
    "#print(label)\n",
    "#\n",
    "#batch = next(iter(train_loader))\n",
    "#images, labels = batch\n",
    "#images, labels = images.to(\"cuda\"), labels.to(\"cuda\")\n",
    "#network = Down(in_channels=1, out_channels=100).to(\"cuda\")\n",
    "#preds = network(images)\n",
    "#print(np.max(preds.detach().numpy(),axis=0))\n",
    "#print(preds)\n",
    "#print(labels)"
   ],
   "id": "5cad05b8b586dac8",
   "outputs": [],
   "execution_count": 65
  },
  {
   "metadata": {
    "ExecuteTime": {
     "end_time": "2024-12-02T13:30:26.190018Z",
     "start_time": "2024-12-02T13:30:26.175415Z"
    }
   },
   "cell_type": "code",
   "source": [
    "##first fun test\n",
    "#def get_num_correct(preds, labels):\n",
    "#    return preds.argmax(dim=1).eq(labels).sum().item()\n",
    "#\n",
    "#hold = []\n",
    "#for I in range(100):\n",
    "#    batch = next(iter(train_loader))\n",
    "#    images, labels = batch\n",
    "#    images, labels = images.to(\"cuda\"), labels.to(\"cuda\")\n",
    "#    preds = network(images)\n",
    "#    hold.append(get_num_correct(preds, labels))"
   ],
   "id": "c1b10b372091ad50",
   "outputs": [],
   "execution_count": 66
  },
  {
   "metadata": {
    "ExecuteTime": {
     "end_time": "2024-12-02T13:30:26.551812Z",
     "start_time": "2024-12-02T13:30:26.537726Z"
    }
   },
   "cell_type": "code",
   "source": [
    "#plt.plot(hold)\n",
    "#print(np.mean(hold))"
   ],
   "id": "e1f5f2506c7d4798",
   "outputs": [],
   "execution_count": 67
  },
  {
   "metadata": {
    "ExecuteTime": {
     "end_time": "2024-12-02T13:30:26.927524Z",
     "start_time": "2024-12-02T13:30:26.917001Z"
    }
   },
   "cell_type": "code",
   "source": [
    "#train_loader = torch.utils.data.DataLoader(train_set, batch_size=1000, shuffle=True)\n",
    "#sample = next(iter(train_loader))\n",
    "#image, label = sample\n",
    "##print(image.shape)\n",
    "##print(label)#\n",
    "#\n",
    "#def get_num_correct(preds, labels):\n",
    "#    return preds.argmax(dim=1).eq(labels).sum().item()#\n",
    "#\n",
    "#device = torch.device(\"cuda\")\n",
    "#network = Down(1, 16).to(\"cuda\")\n",
    "\n",
    "#batch = next(iter(train_loader))\n",
    "#images, labels = batch\n",
    "#images, labels = images.to(device), labels.to(device)\n",
    "\n",
    "#number_run = 100\n",
    "#holdall = np.zeros(number_run)\n",
    "#\n",
    "#optimizer = optim.Adam(network.parameters(), lr=0.01)#, weight_decay=1e-5)#\n",
    "#\n",
    "#for I in range(number_run):\n",
    "#    preds = network(images)\n",
    "#    loss = F.cross_entropy(preds, labels)\n",
    "#    holdall[I] = get_num_correct(preds.to('cuda'), labels.to('cuda'))\n",
    "#    loss.backward() # Calculating the gradients\n",
    "#    #optimizer = optim.Adam(network.parameters(), lr=0.001)\n",
    "#    optimizer.step()\n",
    "#    optimizer.zero_grad()\n",
    "#plt.plot(holdall)\n",
    "#plt.show()\n",
    "#max_value = holdall.max()\n",
    "#print(max_value)"
   ],
   "id": "e0ad4eb52c0edca0",
   "outputs": [],
   "execution_count": 68
  },
  {
   "metadata": {
    "ExecuteTime": {
     "end_time": "2024-12-02T13:30:27.441795Z",
     "start_time": "2024-12-02T13:30:27.428773Z"
    }
   },
   "cell_type": "code",
   "source": [
    "#training on repeat\n",
    "#histogram = []\n",
    "#\n",
    "#for I in range(100):\n",
    "#    train_loader = torch.utils.data.DataLoader(train_set, batch_size=1000, shuffle=True)\n",
    "#    sample = next(iter(train_loader))\n",
    "#    image, label = sample\n",
    "#    #print(image.shape)\n",
    "#    #print(label)#\n",
    "#\n",
    "#    def get_num_correct(preds, labels):\n",
    "#        return preds.argmax(dim=1).eq(labels).sum().item()#\n",
    "#\n",
    "#    device = torch.device(\"cuda\")\n",
    "#    network = Down(1, 16).to(\"cuda\")#\n",
    "#\n",
    "#    batch = next(iter(train_loader))\n",
    "#    images, labels = batch\n",
    "#    images, labels = images.to(device), labels.to(device)#\n",
    "#\n",
    "#    number_run = 500\n",
    "#    holdall = np.zeros(number_run)#\n",
    "#\n",
    "#    optimizer = optim.Adam(network.parameters(), lr=0.01)#, weight_decay=1e-5)##\n",
    "#\n",
    "#    for I in range(number_run):\n",
    "#        preds = network(images)\n",
    "#        loss = F.cross_entropy(preds, labels)\n",
    "#        holdall[I] = get_num_correct(preds.to('cuda'), labels.to('cuda'))\n",
    "#        loss.backward() # Calculating the gradients\n",
    "#        #optimizer = optim.Adam(network.parameters(), lr=0.001)\n",
    "#        optimizer.step()\n",
    "#        optimizer.zero_grad()#\n",
    "#\n",
    "    #plt.plot(holdall)\n",
    "    #plt.show()\n",
    "    #print(max(holdall))\n",
    "\n",
    "#    histogram.append(max(holdall))\n",
    "#\n",
    "#plt.hist(histogram)\n",
    "#plt.xlabel('Number of correct guesses out of 1000')\n",
    "#plt.ylabel('Frequency (totaling 100)')\n",
    "#plt.title(\"Histogram of the accuracy of the network for 1000 images for 500 runs\")\n",
    "#plt.show()"
   ],
   "id": "6c249c6b391abaca",
   "outputs": [],
   "execution_count": 69
  },
  {
   "metadata": {
    "ExecuteTime": {
     "end_time": "2024-12-02T13:30:28.099769Z",
     "start_time": "2024-12-02T13:30:28.087247Z"
    }
   },
   "cell_type": "code",
   "source": [
    "#run builder and run manager\n",
    "class RunBuilder():\n",
    "    @staticmethod\n",
    "    def get_runs(params):\n",
    "        Run = namedtuple('Run', params.keys())\n",
    "        runs = []\n",
    "        for v in product(*params.values()):\n",
    "            runs.append(Run(*v))\n",
    "        return runs\n",
    "\n",
    "#run manager\n",
    "class RunManager():\n",
    "    def __init__(self):\n",
    "\n",
    "        self.epoch_count = 0\n",
    "        self.epoch_loss = 0\n",
    "        self.epoch_num_correct = 0\n",
    "        self.epoch_start_time = None\n",
    "\n",
    "        self.run_params = None\n",
    "        self.run_count = 0\n",
    "        self.run_data = []\n",
    "        self.run_start_time = None\n",
    "\n",
    "        self.network = None\n",
    "        self.loader = None\n",
    "        self.tb = None\n",
    "\n",
    "    def begin_run(self, run, network, loader):\n",
    "        self.run_start_time = time.time()\n",
    "        self.run_params = run\n",
    "        self.run_count += 1\n",
    "        self.network = network\n",
    "        self.loader = loader\n",
    "        self.tb = SummaryWriter(comment=f'-{run}')\n",
    "        characteristics, labels = next(iter(self.loader))\n",
    "\n",
    "    def end_run(self):\n",
    "        self.tb.close()\n",
    "        self.epoch_count = 0\n",
    "\n",
    "    def begin_epoch(self):\n",
    "        self.epoch_start_time = time.time()\n",
    "        self.epoch_count += 1\n",
    "        self.epoch_loss = 0\n",
    "        self.epoch_num_correct = 0\n",
    "\n",
    "    def end_epoch(self):\n",
    "        epoch_duration = time.time() - self.epoch_start_time\n",
    "        run_duration = time.time() - self.run_start_time\n",
    "\n",
    "        loss = self.epoch_loss / len(self.loader.dataset)\n",
    "        accuracy = self.epoch_num_correct / len(self.loader.dataset)\n",
    "\n",
    "        self.tb.add_scalar('Loss', loss, self.epoch_count)\n",
    "        self.tb.add_scalar('Accuracy', accuracy, self.epoch_count)\n",
    "\n",
    "    def _get_num_correct(self, preds, labels):\n",
    "        return preds.argmax(dim=1).eq(labels).sum().item()\n",
    "\n",
    "    def track_loss(self, loss, batch):\n",
    "        self.epoch_loss += loss.item() * batch[0].shape[0]\n",
    "\n",
    "    def track_num_correct(self, preds, labels):\n",
    "        self.epoch_num_correct += self._get_num_correct(preds, labels)\n",
    "\n",
    "    def inform(self, discrete_n):\n",
    "        if self.epoch_count % discrete_n == 0:\n",
    "            print(self.epoch_count, ' ', self.run_count)"
   ],
   "id": "d33c87d2084424fd",
   "outputs": [],
   "execution_count": 70
  },
  {
   "metadata": {
    "ExecuteTime": {
     "end_time": "2024-12-02T22:30:23.899579Z",
     "start_time": "2024-12-02T22:30:23.878441Z"
    }
   },
   "cell_type": "code",
   "source": [
    "#train manager builder\n",
    "\n",
    "def get_num_correct(preds, labels):\n",
    "    return preds.argmax(dim=1).eq(labels).sum().item()\n",
    "\n",
    "def sanitize_for_windows_path(name):\n",
    "    # Replace invalid characters with underscores or remove them\n",
    "    invalid_chars = r'<>:\"/\\\\|?*'\n",
    "    return ''.join('_' if c in invalid_chars else c for c in name)\n",
    "\n",
    "train_loader = torch.utils.data.DataLoader(train_set, batch_size=1000, shuffle=True, pin_memory=True)\n",
    "\n",
    "params = OrderedDict(lr=[0.006], batch_size=[10000], number_epocs=[100], op=[torch.optim.AdamW])\n",
    "\n",
    "m = rm.RunManager()\n",
    "b = bm.RunBuilder.get_runs(params)\n",
    "\n",
    "for run in b:\n",
    "    print(run)"
   ],
   "id": "60845edbfb29e690",
   "outputs": [
    {
     "name": "stdout",
     "output_type": "stream",
     "text": [
      "Run(lr=0.006, batch_size=10000, number_epocs=100, op=<class 'torch.optim.adamw.AdamW'>)\n"
     ]
    }
   ],
   "execution_count": 111
  },
  {
   "metadata": {
    "ExecuteTime": {
     "end_time": "2024-12-02T22:32:49.272482Z",
     "start_time": "2024-12-02T22:30:24.712378Z"
    }
   },
   "cell_type": "code",
   "source": [
    "#train manager\n",
    "#RUN BELOW CODDE BEFORE RUNNING THIS CELL\n",
    "train_set = torchvision.datasets.FashionMNIST(root='./data',train=False,download=True,transform=transforms.Compose([transforms.ToTensor()]))\n",
    "train_loader = torch.utils.data.DataLoader(train_set, batch_size=100, shuffle=True)#I NEED HELP\n",
    "\n",
    "device = torch.device(\"cuda:0\")\n",
    "network = Down(1, 16).to(device)\n",
    "\n",
    "def get_num_correct(preds, labels):\n",
    "    return preds.argmax(dim=1).eq(labels).sum().item()\n",
    "\n",
    "def calculate_correct(out, labels):\n",
    "    return torch.eq(out.argmax(dim=1), labels).sum().numpy()\n",
    "\n",
    "max1 = []\n",
    "loss1 = []\n",
    "\n",
    "for run in b:\n",
    "    network = Down(1, 16).to(device)\n",
    "    loader = DataLoader(train_set, batch_size=run.batch_size, shuffle=True)\n",
    "\n",
    "    optimizer = run.op(network.parameters(), lr=run.lr)\n",
    "    sanitized_run = sanitize_for_windows_path(str(run))    # Sanitize run name before calling m.begin_run\n",
    "    m.begin_run(sanitized_run, network, loader)\n",
    "\n",
    "    for epoch in range(run.number_epocs):\n",
    "        listy = []\n",
    "        loss_list = []\n",
    "        m.begin_epoch()\n",
    "        for batch in train_loader:\n",
    "            characteristics, labels = batch\n",
    "            characteristics, labels = characteristics.to(device), labels.to(device)\n",
    "            preds = network(characteristics).to(device)  # Pass Batch\n",
    "            loss = F.cross_entropy(preds, labels).to(device)  # Calculate Loss\n",
    "            optimizer.zero_grad()  # Zero Gradients\n",
    "            loss.backward()  # Calculate Gradients\n",
    "            optimizer.step()  # Update Weights\n",
    "            m.track_loss(loss, batch)\n",
    "            m.track_num_correct(preds, labels)\n",
    "        m.end_epoch()\n",
    "\n",
    "        f = m.epoch_num_correct / len(train_loader.dataset)\n",
    "        listy.append(f)\n",
    "        h = (m.epoch_loss)\n",
    "        loss_list.append(h)\n",
    "\n",
    "    maxy = np.max(listy)\n",
    "    maxj = np.min(loss_list)\n",
    "    print(run, \",\" , \"Accuracy = \", maxy)\n",
    "    print(\"Loss = \", maxj)\n",
    "    max1.append(maxy)\n",
    "    loss1.append(maxj)\n",
    "\n",
    "max1 = np.array(max1)\n",
    "np.savetxt('accuracy.csv', max1, delimiter=',')\n",
    "loss1 = np.array(loss1)\n",
    "np.savetxt('loss.csv', loss1, delimiter=',')\n",
    "\n",
    "print(\"Maximum accuracy run at row:\", np.argmax(max1)+1,\".)\", np.max(max1))\n",
    "print(\"Minimuin loss run at row:\", np.argmin(maxj)+1,\".)\", np.min(maxj))"
   ],
   "id": "9ec1e7d50f09fe2f",
   "outputs": [
    {
     "name": "stdout",
     "output_type": "stream",
     "text": [
      "Run(lr=0.006, batch_size=10000, number_epocs=100, op=<class 'torch.optim.adamw.AdamW'>) , Accuracy =  0.8967\n",
      "Loss =  2541.957401484251\n",
      "Maximum accuracy run at row: 1 .) 0.8967\n",
      "Minimuin loss run at row: 1 .) 2541.957401484251\n"
     ]
    }
   ],
   "execution_count": 112
  },
  {
   "metadata": {
    "ExecuteTime": {
     "end_time": "2024-12-02T22:44:16.476218Z",
     "start_time": "2024-12-02T22:35:42.437411Z"
    }
   },
   "cell_type": "code",
   "source": [
    "#saving the CNN network \n",
    "train_loader = torch.utils.data.DataLoader(train_set, batch_size=10000, shuffle=True)#best batch size = 36\n",
    "\n",
    "def get_num_correct(preds, labels):\n",
    "    return preds.argmax(dim=1).eq(labels).sum().item() \n",
    "\n",
    "device = torch.device(\"cuda:0\")\n",
    "network = Down(1, 16).to(\"cuda\")\n",
    "\n",
    "batch = next(iter(train_loader))\n",
    "images, labels = batch\n",
    "images, labels = images.to(device), labels.to(device)\n",
    "\n",
    "number_run = 10000\n",
    "holdall = np.zeros(number_run)\n",
    "network = Down(1, 16).to(\"cuda\")\n",
    "optimizer = optim.AdamW(network.parameters(), lr=0.006)  #, weight_decay=1e-5)#\n",
    "\n",
    "for I in range(number_run):\n",
    "    preds = network(images)\n",
    "    loss = F.cross_entropy(preds, labels)\n",
    "    holdall[I] = get_num_correct(preds.to('cuda'), labels.to('cuda'))\n",
    "    loss.backward()  # Calculating the gradients\n",
    "    optimizer.step()\n",
    "    optimizer.zero_grad()\n",
    "\n",
    "plt.plot(holdall)\n",
    "plt.show()\n",
    "max_value = holdall.max()\n",
    "print(max_value)\n",
    "\n",
    "torch.save(network, 'network.pth')\n",
    "help_me = torch.load('network.pth', weights_only=False)  #, weights_only = True)\n",
    "help_me = help_me.to(\"cuda\")\n",
    "help_me.eval()  # Set to evaluation mode"
   ],
   "id": "29069298f12c7c40",
   "outputs": [
    {
     "data": {
      "text/plain": [
       "<Figure size 640x480 with 1 Axes>"
      ],
      "image/png": "[encoded data removed]"
     },
     "metadata": {},
     "output_type": "display_data"
    },
    {
     "name": "stdout",
     "output_type": "stream",
     "text": [
      "9835.0\n"
     ]
    },
    {
     "data": {
      "text/plain": [
       "Down(\n",
       "  (conv1): Conv2d(1, 8, kernel_size=(3, 3), stride=(1, 1), padding=(1, 1))\n",
       "  (conv2): Conv2d(8, 16, kernel_size=(3, 3), stride=(1, 1), padding=(1, 1))\n",
       "  (fc2): Linear(in_features=16, out_features=200, bias=True)\n",
       "  (fc3): Linear(in_features=200, out_features=100, bias=True)\n",
       "  (out): Linear(in_features=100, out_features=10, bias=True)\n",
       "  (fc1): Linear(in_features=3136, out_features=16, bias=True)\n",
       ")"
      ]
     },
     "execution_count": 114,
     "metadata": {},
     "output_type": "execute_result"
    }
   ],
   "execution_count": 114
  },
  {
   "metadata": {
    "ExecuteTime": {
     "end_time": "2024-12-02T14:59:29.084402Z",
     "start_time": "2024-12-02T14:59:29.079401Z"
    }
   },
   "cell_type": "code",
   "source": [
    "#for name, param in help_me.state_dict().items():\n",
    "#    print(f\"Layer: {name}\")\n",
    "#    print(f\"Weights: {param}\\n\")"
   ],
   "id": "7cca6a03afeaa206",
   "outputs": [],
   "execution_count": 88
  },
  {
   "metadata": {
    "ExecuteTime": {
     "end_time": "2024-12-02T14:59:29.414421Z",
     "start_time": "2024-12-02T14:59:29.408418Z"
    }
   },
   "cell_type": "code",
   "source": [
    "#for name, param in Down(1, 16).state_dict().items():\n",
    "#    print(f\"Layer: {name}\")\n",
    "#    print(f\"Weights: {param}\\n\")"
   ],
   "id": "888865453584d16e",
   "outputs": [],
   "execution_count": 89
  },
  {
   "metadata": {
    "ExecuteTime": {
     "end_time": "2024-12-02T23:04:24.614417Z",
     "start_time": "2024-12-02T23:04:22.039836Z"
    }
   },
   "cell_type": "code",
   "source": [
    "#testing the trained model\n",
    "train_set = torchvision.datasets.FashionMNIST(root='./data',train=False,download=True,transform=transforms.Compose([transforms.ToTensor()]))\n",
    "train_loader = torch.utils.data.DataLoader(train_set, batch_size=10, shuffle=True)#keep batch_size = 1 to give highest sig fig accuracy\n",
    "sample = next(iter(train_loader))\n",
    "\n",
    "def get_num_correct(preds, labels):\n",
    "    return preds.argmax(dim=1).eq(labels).sum().item()\n",
    "\n",
    "total_correct = 0\n",
    "total_samples = 0\n",
    "\n",
    "# Iterate over the DataLoader\n",
    "for sample in train_loader:\n",
    "    image, labels = sample  # Unpack batch\n",
    "    # Move data to GPU\n",
    "    image, labels = image.to(\"cuda:0\"), labels.to(\"cuda:0\")\n",
    "    # Adjust image shape if needed\n",
    "    images = image[0].unsqueeze(0)  # From [16, 14, 14] to [1, 16, 14, 14]\n",
    "    labels = labels[0].unsqueeze(0)\n",
    "    # Pass through the network\n",
    "    preds = help_me(images)  # Predictions\n",
    "    # Calculate number of correct predictions\n",
    "    num_correct = get_num_correct(preds, labels)\n",
    "    # Update counters\n",
    "    total_correct += num_correct\n",
    "    total_samples += labels.size(0)\n",
    "# Print final results\n",
    "accuracy = total_correct / total_samples * 100\n",
    "print(f\"Accuracy: {accuracy:.2f}%\")"
   ],
   "id": "ed2432a9c27eb2b0",
   "outputs": [
    {
     "name": "stdout",
     "output_type": "stream",
     "text": [
      "Accuracy: 98.60%\n"
     ]
    }
   ],
   "execution_count": 128
  },
  {
   "metadata": {},
   "cell_type": "code",
   "outputs": [],
   "execution_count": null,
   "source": "",
   "id": "8035abdce158e12d"
  }
 ],
 "metadata": {
  "kernelspec": {
   "display_name": "Python 3",
   "language": "python",
   "name": "python3"
  },
  "language_info": {
   "codemirror_mode": {
    "name": "ipython",
    "version": 2
   },
   "file_extension": ".py",
   "mimetype": "text/x-python",
   "name": "python",
   "nbconvert_exporter": "python",
   "pygments_lexer": "ipython2",
   "version": "2.7.6"
  }
 },
 "nbformat": 4,
 "nbformat_minor": 5
}
