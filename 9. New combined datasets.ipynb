{
 "cells": [
  {
   "metadata": {},
   "cell_type": "markdown",
   "source": [
    "Making new datasets to Ashleys reccomendation to try out.\n",
    "\n",
    "This includes combining the 15% and 2nd datasets and removing 1/10 as a testing set"
   ],
   "id": "ea6c32556f718d9b"
  },
  {
   "cell_type": "code",
   "id": "initial_id",
   "metadata": {
    "collapsed": true,
    "ExecuteTime": {
     "end_time": "2025-04-29T17:16:17.000034Z",
     "start_time": "2025-04-29T17:16:10.902824Z"
    }
   },
   "source": [
    "import time\n",
    "import numpy as np\n",
    "import torch\n",
    "import torch.nn as nn\n",
    "from partd.utils import framesplit\n",
    "from torch.utils.data import DataLoader\n",
    "from itertools import product\n",
    "from collections import OrderedDict, namedtuple\n",
    "import torchvision.transforms as transforms\n",
    "from PIL import Image\n",
    "#import csv\n",
    "from torch.utils.tensorboard import SummaryWriter"
   ],
   "outputs": [],
   "execution_count": 1
  },
  {
   "metadata": {
    "ExecuteTime": {
     "end_time": "2025-04-29T17:16:18.408175Z",
     "start_time": "2025-04-29T17:16:17.008044Z"
    }
   },
   "cell_type": "code",
   "source": [
    "#load in the data\n",
    "data_15 = np.load(\"A:/3rd_Year_Project/Project_code/data/Siamese_dataset/15.npz\")\n",
    "data_2nd = np.load(\"A:/3rd_Year_Project/Project_code/data/Siamese_dataset/2nd.npz\")\n",
    "\n",
    "framenumber_15 = np.load(\"A:/3rd_Year_Project/Project_code/data/Cropped_and_variable_labels/framenumber15.npy\")\n",
    "framenumber_2nd = np.load(\"A:/3rd_Year_Project/Project_code/data/Cropped_and_variable_labels/framenumber2nd.npy\")\n",
    "\n",
    "data_15_img = data_15['images']\n",
    "data_2nd_img = data_2nd['images']\n",
    "\n",
    "data_15_label = data_15['labels']\n",
    "data_2nd_label = data_2nd['labels']"
   ],
   "id": "e056c97184481995",
   "outputs": [],
   "execution_count": 2
  },
  {
   "metadata": {
    "ExecuteTime": {
     "end_time": "2025-04-29T17:30:48.769556Z",
     "start_time": "2025-04-29T17:30:48.766355Z"
    }
   },
   "cell_type": "code",
   "source": "print(data_15_img.shape)",
   "id": "fda6ddd4c34afb1e",
   "outputs": [
    {
     "name": "stdout",
     "output_type": "stream",
     "text": [
      "(12619, 128, 128)\n"
     ]
    }
   ],
   "execution_count": 4
  },
  {
   "metadata": {
    "ExecuteTime": {
     "end_time": "2025-04-29T17:33:59.545445Z",
     "start_time": "2025-04-29T17:33:54.035380Z"
    }
   },
   "cell_type": "code",
   "source": [
    "#combine the datasets\n",
    "combined_label = np.concatenate((data_15_label, data_2nd_label), axis=0)\n",
    "combined_frame = np.concatenate((framenumber_15, framenumber_2nd), axis=0)\n",
    "combined_image = np.concatenate((data_15_img, data_2nd_img), axis=0)\n",
    "\n",
    "print(combined_image.shape)\n",
    "print(combined_label.shape)\n",
    "print(combined_frame.shape)\n",
    "\n",
    "np.savez_compressed(r\"A:\\3rd_Year_Project\\Project_code\\data\\Combined_datasets\\all_data.npz\", images = combined_image, labels = combined_label, frames = combined_frame)"
   ],
   "id": "e7924161989debe8",
   "outputs": [
    {
     "name": "stdout",
     "output_type": "stream",
     "text": [
      "(21080, 128, 128)\n",
      "(21080,)\n",
      "(21080,)\n"
     ]
    }
   ],
   "execution_count": 8
  },
  {
   "metadata": {
    "ExecuteTime": {
     "end_time": "2025-04-29T20:16:58.848068Z",
     "start_time": "2025-04-29T20:16:58.844047Z"
    }
   },
   "cell_type": "code",
   "source": [
    "combined_image[3].shape\n",
    "print(combined_image[3, :, :])\n",
    "result = np.concatenate((combined_image[3, :, :][np.newaxis, :, :],\n",
    "                         combined_image[4, :, :][np.newaxis, :, :]), axis=0)\n",
    "\n",
    "# Check the result shape\n",
    "print(result.shape)  # Expected shape: (2, 128, 128)"
   ],
   "id": "778ffd56a791af9f",
   "outputs": [
    {
     "name": "stdout",
     "output_type": "stream",
     "text": [
      "[[0 0 0 ... 0 0 0]\n",
      " [0 0 0 ... 0 0 0]\n",
      " [0 0 0 ... 0 0 0]\n",
      " ...\n",
      " [0 0 0 ... 0 0 0]\n",
      " [0 0 0 ... 0 0 0]\n",
      " [0 0 0 ... 0 0 0]]\n",
      "(2, 128, 128)\n"
     ]
    }
   ],
   "execution_count": 185
  },
  {
   "metadata": {
    "ExecuteTime": {
     "end_time": "2025-04-29T21:01:33.367156Z",
     "start_time": "2025-04-29T21:01:27.195523Z"
    }
   },
   "cell_type": "code",
   "source": [
    "#select the test indexes & get test data\n",
    "index_list = [] #create a list called index_list\n",
    "\n",
    "while len(index_list) < combined_label.shape[0]/10: #While size of index list is less than 1/10 of the size of the combined label data.\n",
    "    index = np.random.choice(combined_label.shape[0]) #Select a random number between 1 and the size of the combined label data, this will be the index of interest.\n",
    "    if index not in index_list: #Check if index is not alread inside of index_list\n",
    "        index_list.append(index) #If this index is not already in index list, append the new index to index list.\n",
    "index_list.sort() #Sort the index list into ascending order\n",
    "\n",
    "#print(index_list)\n",
    "\n",
    "imagesArray1 = []\n",
    "labelsArray1 = []\n",
    "framesArray1 = [] #create these 3 lists\n",
    "\n",
    "for index in index_list: #for all of the numbers in the index_list\n",
    "    imagesArray1.append(combined_image[index]) #append the image of the index in combined data\n",
    "    labelsArray1.append(combined_label[index]) #append the label of the index in combined label\n",
    "    framesArray1.append(combined_frame[index]) #append the framenumber of the index in the combined data\n",
    "imagesArray1 = np.array(imagesArray1)\n",
    "labelsArray1 = np.array(labelsArray1)\n",
    "framesArray1 = np.array(framesArray1) #turn all 3 into a numpy array\n",
    "\n",
    "print(imagesArray1.shape)\n",
    "print(labelsArray1.shape)\n",
    "print(framesArray1.shape) #print shapes\n",
    "\n",
    "\n",
    "imagesArray = []\n",
    "labelsArray = []\n",
    "framesArray = [] #make 3 new lists\n",
    "\n",
    "for i in range(combined_label.shape[0]): #for all numbers in the size of the labels\n",
    "    if i not in index_list: #if the number was not in the index list\n",
    "        imagesArray.append(combined_image[i])\n",
    "        labelsArray.append(combined_label[i])\n",
    "        framesArray.append(combined_frame[i]) #append the image, label, frame of the index not in the index list to the new lists\n",
    "imagesArray = np.array(imagesArray)\n",
    "labelsArray = np.array(labelsArray)\n",
    "framesArray = np.array(framesArray) #turn them into numpy arrays\n",
    "\n",
    "print(imagesArray.shape)\n",
    "print(labelsArray.shape)\n",
    "print(framesArray.shape) #print the sizes of the arrays\n",
    "\n",
    "print(combined_label.shape[0] - labelsArray1.shape[0]) #print the size of the expected size of the training dataset\n",
    "\n",
    "#save the data\n",
    "np.savez_compressed(r\"A:\\3rd_Year_Project\\Project_code\\data\\Combined_datasets\\train_data.npz\", images = imagesArray, labels = labelsArray, frames = framesArray) #save the train dataset\n",
    "np.savez_compressed(r\"A:\\3rd_Year_Project\\Project_code\\data\\Combined_datasets\\test_data.npz\", images = imagesArray1, labels = labelsArray1, frames = framesArray1) #save the test dataset"
   ],
   "id": "3ecaac2ef24762f8",
   "outputs": [
    {
     "name": "stdout",
     "output_type": "stream",
     "text": [
      "(2108, 128, 128)\n",
      "(2108,)\n",
      "(2108,)\n",
      "(18972, 128, 128)\n",
      "(18972,)\n",
      "(18972,)\n",
      "18972\n"
     ]
    }
   ],
   "execution_count": 215
  },
  {
   "metadata": {},
   "cell_type": "markdown",
   "source": "This extra bit is being made to allow for the addition of framenumber to the 15.npz and 2nd.npz files",
   "id": "ced2b6fbb32cd4ae"
  },
  {
   "metadata": {
    "ExecuteTime": {
     "end_time": "2025-05-05T23:21:22.823335Z",
     "start_time": "2025-05-05T23:21:15.940639Z"
    }
   },
   "cell_type": "code",
   "source": [
    "import numpy as np\n",
    "data_15 = np.load(\"A:/3rd_Year_Project/Project_code/data/Siamese_dataset/15.npz\")\n",
    "data_2nd = np.load(\"A:/3rd_Year_Project/Project_code/data/Siamese_dataset/2nd.npz\")\n",
    "\n",
    "summertime_song_is_good = data_15[\"images\"]\n",
    "It_is_stuck_in_my_head = data_2nd[\"images\"]\n",
    "\n",
    "And_I_am_jamming_to_it = data_15[\"labels\"]\n",
    "Insert_humming_with_bopping_to_the_beat_here = data_2nd[\"labels\"]\n",
    "\n",
    "framenumber_15 = np.load(\"data/Cropped_and_variable_labels/framenumber15.npy\")\n",
    "framenumber_2nd = np.load(\"data/Cropped_and_variable_labels/framenumber2nd.npy\")\n",
    "\n",
    "#ok, now serious file names because boring = good and efficient, but that song is great and I am happy it is stuck in my head\n",
    "images_15 = summertime_song_is_good\n",
    "images_2nd = It_is_stuck_in_my_head\n",
    "labels_15 = And_I_am_jamming_to_it\n",
    "labels_2nd = Insert_humming_with_bopping_to_the_beat_here\n",
    "framenumber_15 = framenumber_15 # just for completeness\n",
    "framenumber_2nd = framenumber_2nd\n",
    "\n",
    "print(framenumber_15.shape)\n",
    "print(framenumber_2nd.shape)\n",
    "print(labels_15.shape)\n",
    "print(labels_2nd.shape)\n",
    "\n",
    "np.savez_compressed(r\"A:\\3rd_Year_Project\\Project_code\\data\\0. FINAL_DATASETS_I_PROMISE\\15.npz\", images = images_15, labels = labels_15, frames = framenumber_15)\n",
    "np.savez_compressed(r\"A:\\3rd_Year_Project\\Project_code\\data\\0. FINAL_DATASETS_I_PROMISE\\2nd.npz\", images = images_2nd, labels = labels_2nd, frames = framenumber_2nd)"
   ],
   "id": "b33cfce00d5824b8",
   "outputs": [
    {
     "name": "stdout",
     "output_type": "stream",
     "text": [
      "(12619,)\n",
      "(8461,)\n",
      "(12619,)\n",
      "(8461,)\n"
     ]
    }
   ],
   "execution_count": 3
  },
  {
   "metadata": {},
   "cell_type": "code",
   "outputs": [],
   "execution_count": null,
   "source": "",
   "id": "ab6b29b33a5ae5b9"
  }
 ],
 "metadata": {
  "kernelspec": {
   "display_name": "Python 3",
   "language": "python",
   "name": "python3"
  },
  "language_info": {
   "codemirror_mode": {
    "name": "ipython",
    "version": 2
   },
   "file_extension": ".py",
   "mimetype": "text/x-python",
   "name": "python",
   "nbconvert_exporter": "python",
   "pygments_lexer": "ipython2",
   "version": "2.7.6"
  }
 },
 "nbformat": 4,
 "nbformat_minor": 5
}
