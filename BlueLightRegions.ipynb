{
 "cells": [
  {
   "cell_type": "code",
   "execution_count": null,
   "id": "initial_id",
   "metadata": {
    "collapsed": true
   },
   "outputs": [],
   "source": "#Image preperation for Blue Regions of Light"
  },
  {
   "metadata": {},
   "cell_type": "code",
   "outputs": [],
   "execution_count": null,
   "source": [
    "#save Ram from exploding\n",
    "#Begone memory\n",
    "def memory():\n",
    "    def Begone_memory(exceptions=None):\n",
    "        if exceptions is None:\n",
    "            exceptions = []\n",
    "\n",
    "        for var in list(globals().keys()):\n",
    "            if var not in exceptions:\n",
    "                del globals()[var]\n",
    "    Begone_memory()\n",
    "    def Begone_memory(exceptions=None):\n",
    "        if exceptions is None:\n",
    "            exceptions = []\n",
    "\n",
    "        for var in list(globals().keys()):\n",
    "            if var not in exceptions:\n",
    "                del globals()[var]\n",
    "memory()\n",
    "from skimage.filters import threshold_otsu\n",
    "import tifffile\n",
    "from skimage.io import imread, imsave\n",
    "from scipy.ndimage import center_of_mass\n",
    "from PIL import Image\n",
    "import re\n",
    "from skimage import io, measure, color\n",
    "import os\n",
    "import matplotlib.pyplot as plt\n",
    "from skimage.measure import label, regionprops\n",
    "import numpy as np\n",
    "import glob"
   ],
   "id": "d17a1d2ca757b12a"
  },
  {
   "metadata": {},
   "cell_type": "code",
   "outputs": [],
   "execution_count": null,
   "source": [
    "#load the Blue light raw data\n",
    "datafile_2nd_with_light = r\"A:\\3rd_Year_Project\\Project_code\\data\\Raw_Data\\secondwithlight_MMStack_Default.ome.tif\"\n",
    "datafile_15_percent = f'A:/3rd_Year_Project/Project_code/data/Raw_Data/15percent_MMStack_Default.ome-001.tif'\n",
    "\n",
    "#load the 15% raw data\n",
    "# Use memmap to load the TIFF file lazily\n",
    "with tifffile.TiffFile(datafile_15_percent) as tif:\n",
    "    # Map the image data to memory instead of loading it entirely into memory\n",
    "    data = tif.asarray()\n",
    "\n",
    "#data = io.imread(datafile)\n",
    "data_15B = data[:, 0, :, :]  # Assuming you want to skip the first index (0) and keep the rest\n",
    "\n",
    "print(f\"Datafile contents: {datafile_15_percent}\")\n",
    "print(f\"Data shape: {data_15B.shape}\")  # Print the shape to understand the data structure\n",
    "\n",
    "#load the 2nd light data\n",
    "# Use memmap to load the TIFF file lazily\n",
    "with tifffile.TiffFile(datafile_2nd_with_light) as tif:\n",
    "    # Map the image data to memory instead of loading it entirely into memory\n",
    "    data = tif.asarray()\n",
    "\n",
    "#data = io.imread(datafile)\n",
    "data_2ndB = data[:, 1, :, :]  # Assuming you want to skip the first index (0) and keep the rest\n",
    "\n",
    "print(f\"Datafile contents: {datafile_2nd_with_light}\")\n",
    "print(f\"Data shape: {data_2ndB.shape}\")  # Print the shape to understand the data structure"
   ],
   "id": "b3e5afbbb4a80d9"
  },
  {
   "metadata": {},
   "cell_type": "code",
   "outputs": [],
   "execution_count": null,
   "source": [
    "#save as np\n",
    "np.save(\"A:/3rd_Year_Project/Project_code/data/Loaded_Raw_Data/Blue light/saved_blue_15_percent.npy\", data_15B)\n",
    "np.save(\"A:/3rd_Year_Project/Project_code/data/Loaded_Raw_Data/Blue light/saved_blue_2ndlight.npy\", data_2ndB)\n",
    "\n",
    "print(\"Saved data as .npy files.\")"
   ],
   "id": "3e6a8055527bf63e"
  },
  {
   "metadata": {},
   "cell_type": "code",
   "outputs": [],
   "execution_count": null,
   "source": [
    "#load the blue light data\n",
    "# File paths\n",
    "BlueLight15_path = \"A:/3rd_Year_Project/Project_code/data/Loaded_Raw_Data/Blue light/saved_blue_15_percent.npy\"\n",
    "BlueLight2nd_path = \"A:/3rd_Year_Project/Project_code/data/Loaded_Raw_Data/Blue light/saved_blue_2ndlight.npy\"\n",
    "\n",
    "# Load .npy files\n",
    "BlueLight15 = np.load(BlueLight15_path)  # This is now a NumPy array\n",
    "BlueLight2nd = np.load(BlueLight2nd_path)"
   ],
   "id": "6923ea63deffb30c"
  },
  {
   "metadata": {},
   "cell_type": "code",
   "outputs": [],
   "execution_count": null,
   "source": [
    "#print the image of the Blue light maps\n",
    "#plt.imshow(BlueLight15[1, :, :], cmap=\"gray\")  # Assuming index 1 is your image slice\n",
    "#plt.title(\"Blue Light Image\")\n",
    "#print(BlueLight15.shape)\n",
    "#plt.show()\n",
    "\n",
    "#plt.imshow(BlueLight2nd[1, :, :], cmap=\"gray\")\n",
    "#plt.title(\"Blue Light Image\")\n",
    "#print(BlueLight2nd.shape)\n",
    "#plt.show()"
   ],
   "id": "b7f0f2cbacbb6f3a"
  },
  {
   "metadata": {},
   "cell_type": "code",
   "outputs": [],
   "execution_count": null,
   "source": [
    "#Find the Blue Zones\n",
    "list_15 = []\n",
    "list_2nd = []\n",
    "\n",
    "threshold15 = 1000\n",
    "for i in range(600):\n",
    "    binary_mask = BlueLight15[i, :, :] > threshold15  # True = illuminated, False = dark\n",
    "    list_15.append(binary_mask)\n",
    "\n",
    "plt.imshow(list_15[0], cmap=\"gray\")\n",
    "plt.title(\"Illuminated Pixels 15% (Binary)\")\n",
    "plt.show()\n",
    "\n",
    "threshold2nd = 230\n",
    "for i in range(300):\n",
    "    binary_mask = BlueLight2nd[i, :, :] > threshold2nd\n",
    "    list_2nd.append(binary_mask)\n",
    "\n",
    "plt.imshow(list_2nd[0], cmap=\"gray\")\n",
    "plt.title(\"Illuminated Pixels 2nd light (Binary)\")\n",
    "plt.show()\n",
    "\n",
    "#save as np\n",
    "np.save(\"A:/3rd_Year_Project/Project_code/data/Distinguished_Blue_Zones/15_Zones.npy\", list_15)\n",
    "np.save(\"A:/3rd_Year_Project/Project_code/data/Distinguished_Blue_Zones/2nd_Zones.npy\", list_2nd)\n",
    "\n",
    "print(\"Saved data as .npy files.\")"
   ],
   "id": "2d4104c7e24a20ee"
  },
  {
   "metadata": {},
   "cell_type": "code",
   "outputs": [],
   "execution_count": null,
   "source": "",
   "id": "4fa34cf7b7bf8c6a"
  }
 ],
 "metadata": {
  "kernelspec": {
   "display_name": "Python 3",
   "language": "python",
   "name": "python3"
  },
  "language_info": {
   "codemirror_mode": {
    "name": "ipython",
    "version": 2
   },
   "file_extension": ".py",
   "mimetype": "text/x-python",
   "name": "python",
   "nbconvert_exporter": "python",
   "pygments_lexer": "ipython2",
   "version": "2.7.6"
  }
 },
 "nbformat": 4,
 "nbformat_minor": 5
}
