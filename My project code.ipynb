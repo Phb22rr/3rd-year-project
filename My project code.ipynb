{
 "cells": [
  {
   "metadata": {
    "ExecuteTime": {
     "end_time": "2024-11-28T09:03:18.347328Z",
     "start_time": "2024-11-28T09:03:18.338798Z"
    }
   },
   "cell_type": "code",
   "source": [
    "import numpy as np\n",
    "import matplotlib.pyplot as plt\n",
    "import torch.optim as optim\n",
    "import torch\n",
    "import RunManager as rm\n",
    "import RunBuilder as bm\n",
    "import torch.nn as nn\n",
    "import torch.nn.functional as F\n",
    "from torch.utils.data import DataLoader\n",
    "from torch.utils.tensorboard import SummaryWriter\n",
    "import time as time\n",
    "from collections import OrderedDict\n",
    "from collections import namedtuple\n",
    "from itertools import product\n",
    "import torchvision\n",
    "import torchvision.transforms as transforms"
   ],
   "id": "671df6058f0a6a74",
   "outputs": [],
   "execution_count": 2
  },
  {
   "cell_type": "code",
   "id": "initial_id",
   "metadata": {
    "collapsed": true,
    "ExecuteTime": {
     "end_time": "2024-11-28T09:03:18.831392Z",
     "start_time": "2024-11-28T09:03:18.821347Z"
    }
   },
   "source": [
    "#CNN Network\n",
    "\n",
    "class Down(nn.Module):\n",
    "    def __init__(self, in_channels, out_channels, device = \"cuda\"):\n",
    "        super().__init__()\n",
    "        self.device = torch.device(device)\n",
    "        self.out_channels = out_channels  # Store out_channels as an instance variable\n",
    "        conv1_out_channels = (out_channels + in_channels) // 2\n",
    "        \n",
    "        self.conv1 = nn.Conv2d(in_channels, conv1_out_channels, kernel_size=3, padding=1)\n",
    "        self.conv2 = nn.Conv2d(conv1_out_channels, out_channels, kernel_size=3, padding=1)\n",
    "\n",
    "        # Initialize fc1 later\n",
    "        self.fc1 = None  # Initialize later based on input size\n",
    "        self.fc2 = nn.Linear(out_channels, 200)  # Adjust output size if needed\n",
    "        self.fc3 = nn.Linear(200, 100)\n",
    "        self.out = nn.Linear(100, 10)  # The input size must match the output of fc2\n",
    "\n",
    "    def forward(self, t):\n",
    "        t = F.max_pool2d(t, kernel_size=3, stride=2, padding=1)\n",
    "        #print(t.shape)\n",
    "        t = self.conv1(t)\n",
    "        #print(t.shape)\n",
    "        t = F.relu(t)\n",
    "        t = self.conv2(t)\n",
    "        #print(t.shape)\n",
    "        t = F.relu(t)\n",
    "\n",
    "        # Flatten the tensor for fully connected layers\n",
    "        t = t.view(t.size(0), -1)\n",
    "        if self.fc1 is None:\n",
    "            self.fc1 = nn.Linear(t.size(1), self.out_channels).to(self.device)\n",
    "\n",
    "        # Dynamically set the first linear layer based on the flattened size\n",
    "\n",
    "        t = self.fc1(t)\n",
    "        #print(t.shape, \"fc1\")\n",
    "        t = F.relu(t)\n",
    "        t = self.fc2(t)\n",
    "        #print(t.shape, \"fc2\")\n",
    "        t = F.relu(t)\n",
    "        t = self.fc3(t)\n",
    "        #print(t.shape, \"fc1\")\n",
    "        t = F.relu(t)\n",
    "        t = self.out(t)\n",
    "        #print(t.shape, \"out\")\n",
    "        return t\n"
   ],
   "outputs": [],
   "execution_count": 3
  },
  {
   "metadata": {
    "ExecuteTime": {
     "end_time": "2024-11-28T09:03:19.327519Z",
     "start_time": "2024-11-28T09:03:19.313961Z"
    }
   },
   "cell_type": "code",
   "source": [
    "# Random data example usage\n",
    "#network = Down(1, 5).to(\"cuda\")\n",
    "#real_samples_labels = torch.randint(0, 100, (1, 1, 32, 32), #dtype=torch.float32).to(\"cuda\")\n",
    "#out = network(real_samples_labels)\n",
    "##print(out.shape)  # Should output: torch.Size([1, 10])\n",
    "\n",
    "#plt.imshow(out[:,:].detach().cpu().numpy())  # get the graph"
   ],
   "id": "9c0fea267d45de36",
   "outputs": [],
   "execution_count": 4
  },
  {
   "metadata": {
    "ExecuteTime": {
     "end_time": "2024-11-28T09:03:19.754804Z",
     "start_time": "2024-11-28T09:03:19.678835Z"
    }
   },
   "cell_type": "code",
   "source": [
    "#Download FMNIST data\n",
    "train_set = torchvision.datasets.FashionMNIST(\n",
    "    root='./data'\n",
    "    ,train=True\n",
    "    ,download=True\n",
    "    ,transform=transforms.Compose([\n",
    "        transforms.ToTensor()]))"
   ],
   "id": "db23e3eec05341aa",
   "outputs": [],
   "execution_count": 5
  },
  {
   "metadata": {
    "ExecuteTime": {
     "end_time": "2024-11-28T09:03:20.104084Z",
     "start_time": "2024-11-28T09:03:20.089040Z"
    }
   },
   "cell_type": "code",
   "source": [
    "#sample = next(iter(train_set))\n",
    "#image, label = sample # returns a sample, which can be split in to an image and a label\n",
    "#plt.imshow(image.squeeze())"
   ],
   "id": "6e2c347bcffd7971",
   "outputs": [],
   "execution_count": 6
  },
  {
   "metadata": {
    "ExecuteTime": {
     "end_time": "2024-11-28T09:03:20.466673Z",
     "start_time": "2024-11-28T09:03:20.456593Z"
    }
   },
   "cell_type": "code",
   "source": [
    "#first run test\n",
    "#train_loader = torch.utils.data.DataLoader(train_set, batch_size=1000, shuffle=True)\n",
    "#sample = next(iter(train_loader))\n",
    "#image, label = sample\n",
    "#print(image.shape)\n",
    "#print(label)\n",
    "#\n",
    "#batch = next(iter(train_loader))\n",
    "#images, labels = batch\n",
    "#images, labels = images.to(\"cuda\"), labels.to(\"cuda\")\n",
    "#network = Down(in_channels=1, out_channels=100).to(\"cuda\")\n",
    "#preds = network(images)\n",
    "#print(np.max(preds.detach().numpy(),axis=0))\n",
    "#print(preds)\n",
    "#print(labels)"
   ],
   "id": "5cad05b8b586dac8",
   "outputs": [],
   "execution_count": 7
  },
  {
   "metadata": {
    "ExecuteTime": {
     "end_time": "2024-11-28T09:03:20.875127Z",
     "start_time": "2024-11-28T09:03:20.865076Z"
    }
   },
   "cell_type": "code",
   "source": [
    "##first fun test\n",
    "#def get_num_correct(preds, labels):\n",
    "#    return preds.argmax(dim=1).eq(labels).sum().item()\n",
    "#\n",
    "#hold = []\n",
    "#for I in range(100):\n",
    "#    batch = next(iter(train_loader))\n",
    "#    images, labels = batch\n",
    "#    images, labels = images.to(\"cuda\"), labels.to(\"cuda\")\n",
    "#    preds = network(images)\n",
    "#    hold.append(get_num_correct(preds, labels))"
   ],
   "id": "c1b10b372091ad50",
   "outputs": [],
   "execution_count": 8
  },
  {
   "metadata": {
    "ExecuteTime": {
     "end_time": "2024-11-28T09:03:21.201896Z",
     "start_time": "2024-11-28T09:03:21.191865Z"
    }
   },
   "cell_type": "code",
   "source": [
    "#plt.plot(hold)\n",
    "#print(np.mean(hold))"
   ],
   "id": "e1f5f2506c7d4798",
   "outputs": [],
   "execution_count": 9
  },
  {
   "metadata": {
    "ExecuteTime": {
     "end_time": "2024-11-28T09:03:23.613747Z",
     "start_time": "2024-11-28T09:03:21.573633Z"
    }
   },
   "cell_type": "code",
   "source": [
    "train_loader = torch.utils.data.DataLoader(train_set, batch_size=1000, shuffle=True)\n",
    "sample = next(iter(train_loader))\n",
    "image, label = sample\n",
    "#print(image.shape)\n",
    "#print(label)\n",
    "\n",
    "def get_num_correct(preds, labels):\n",
    "    return preds.argmax(dim=1).eq(labels).sum().item()\n",
    "\n",
    "device = torch.device(\"cuda\")\n",
    "network = Down(1, 16).to(\"cuda\")\n",
    "\n",
    "batch = next(iter(train_loader))\n",
    "images, labels = batch\n",
    "images, labels = images.to(device), labels.to(device)\n",
    "\n",
    "number_run = 100\n",
    "holdall = np.zeros(number_run)\n",
    "\n",
    "optimizer = optim.Adam(network.parameters(), lr=0.01)#, weight_decay=1e-5)\n",
    "\n",
    "for I in range(number_run):\n",
    "    preds = network(images)\n",
    "    loss = F.cross_entropy(preds, labels)\n",
    "    holdall[I] = get_num_correct(preds.to('cuda'), labels.to('cuda'))\n",
    "    loss.backward() # Calculating the gradients\n",
    "    #optimizer = optim.Adam(network.parameters(), lr=0.001)\n",
    "    optimizer.step()\n",
    "    optimizer.zero_grad()\n",
    "plt.plot(holdall)\n",
    "plt.show()\n",
    "max_value = holdall.max()\n",
    "print(max_value)"
   ],
   "id": "e0ad4eb52c0edca0",
   "outputs": [
    {
     "data": {
      "text/plain": [
       "<Figure size 640x480 with 1 Axes>"
      ],
      "image/png": "[encoded data removed]"
     },
     "metadata": {},
     "output_type": "display_data"
    },
    {
     "name": "stdout",
     "output_type": "stream",
     "text": [
      "862.0\n"
     ]
    }
   ],
   "execution_count": 10
  },
  {
   "metadata": {
    "ExecuteTime": {
     "end_time": "2024-11-28T09:03:23.633809Z",
     "start_time": "2024-11-28T09:03:23.618753Z"
    }
   },
   "cell_type": "code",
   "source": [
    "#training on repeat\n",
    "#histogram = []\n",
    "#\n",
    "#for I in range(100):\n",
    "#    train_loader = torch.utils.data.DataLoader(train_set, batch_size=1000, shuffle=True)\n",
    "#    sample = next(iter(train_loader))\n",
    "#    image, label = sample\n",
    "#    #print(image.shape)\n",
    "#    #print(label)#\n",
    "#\n",
    "#    def get_num_correct(preds, labels):\n",
    "#        return preds.argmax(dim=1).eq(labels).sum().item()#\n",
    "#\n",
    "#    device = torch.device(\"cuda\")\n",
    "#    network = Down(1, 16).to(\"cuda\")#\n",
    "#\n",
    "#    batch = next(iter(train_loader))\n",
    "#    images, labels = batch\n",
    "#    images, labels = images.to(device), labels.to(device)#\n",
    "#\n",
    "#    number_run = 500\n",
    "#    holdall = np.zeros(number_run)#\n",
    "#\n",
    "#    optimizer = optim.Adam(network.parameters(), lr=0.01)#, weight_decay=1e-5)##\n",
    "#\n",
    "#    for I in range(number_run):\n",
    "#        preds = network(images)\n",
    "#        loss = F.cross_entropy(preds, labels)\n",
    "#        holdall[I] = get_num_correct(preds.to('cuda'), labels.to('cuda'))\n",
    "#        loss.backward() # Calculating the gradients\n",
    "#        #optimizer = optim.Adam(network.parameters(), lr=0.001)\n",
    "#        optimizer.step()\n",
    "#        optimizer.zero_grad()#\n",
    "#\n",
    "    #plt.plot(holdall)\n",
    "    #plt.show()\n",
    "    #print(max(holdall))\n",
    "\n",
    "#    histogram.append(max(holdall))\n",
    "#\n",
    "#plt.hist(histogram)\n",
    "#plt.xlabel('Number of correct guesses out of 1000')\n",
    "#plt.ylabel('Frequency (totaling 100)')\n",
    "#plt.title(\"Histogram of the accuracy of the network for 1000 images for 500 runs\")\n",
    "#plt.show()"
   ],
   "id": "6c249c6b391abaca",
   "outputs": [],
   "execution_count": 11
  },
  {
   "metadata": {
    "ExecuteTime": {
     "end_time": "2024-11-28T09:03:24.356384Z",
     "start_time": "2024-11-28T09:03:24.338795Z"
    }
   },
   "cell_type": "code",
   "source": [
    "#run builder and run manager\n",
    "class RunBuilder():\n",
    "    @staticmethod\n",
    "    def get_runs(params):\n",
    "        Run = namedtuple('Run', params.keys())\n",
    "        runs = []\n",
    "        for v in product(*params.values()):\n",
    "            runs.append(Run(*v))\n",
    "        return runs\n",
    "\n",
    "#run manager\n",
    "class RunManager():\n",
    "    def __init__(self):\n",
    "\n",
    "        self.epoch_count = 0\n",
    "        self.epoch_loss = 0\n",
    "        self.epoch_num_correct = 0\n",
    "        self.epoch_start_time = None\n",
    "\n",
    "        self.run_params = None\n",
    "        self.run_count = 0\n",
    "        self.run_data = []\n",
    "        self.run_start_time = None\n",
    "\n",
    "        self.network = None\n",
    "        self.loader = None\n",
    "        self.tb = None\n",
    "\n",
    "    def begin_run(self, run, network, loader):\n",
    "        self.run_start_time = time.time()\n",
    "        self.run_params = run\n",
    "        self.run_count += 1\n",
    "        self.network = network\n",
    "        self.loader = loader\n",
    "        self.tb = SummaryWriter(comment=f'-{run}')\n",
    "        characteristics, labels = next(iter(self.loader))\n",
    "\n",
    "    def end_run(self):\n",
    "        self.tb.close()\n",
    "        self.epoch_count = 0\n",
    "\n",
    "    def begin_epoch(self):\n",
    "        self.epoch_start_time = time.time()\n",
    "        self.epoch_count += 1\n",
    "        self.epoch_loss = 0\n",
    "        self.epoch_num_correct = 0\n",
    "\n",
    "    def end_epoch(self):\n",
    "        epoch_duration = time.time() - self.epoch_start_time\n",
    "        run_duration = time.time() - self.run_start_time\n",
    "\n",
    "        loss = self.epoch_loss / len(self.loader.dataset)\n",
    "        accuracy = self.epoch_num_correct / len(self.loader.dataset)\n",
    "\n",
    "        self.tb.add_scalar('Loss', loss, self.epoch_count)\n",
    "        self.tb.add_scalar('Accuracy', accuracy, self.epoch_count)\n",
    "\n",
    "    def _get_num_correct(self, preds, labels):\n",
    "        return preds.argmax(dim=1).eq(labels).sum().item()\n",
    "\n",
    "    def track_loss(self, loss, batch):\n",
    "        self.epoch_loss += loss.item() * batch[0].shape[0]\n",
    "\n",
    "    def track_num_correct(self, preds, labels):\n",
    "        self.epoch_num_correct += self._get_num_correct(preds, labels)\n",
    "\n",
    "    def inform(self, discrete_n):\n",
    "        if self.epoch_count % discrete_n == 0:\n",
    "            print(self.epoch_count, ' ', self.run_count)"
   ],
   "id": "d33c87d2084424fd",
   "outputs": [],
   "execution_count": 12
  },
  {
   "metadata": {
    "ExecuteTime": {
     "end_time": "2024-11-29T00:11:46.912653Z",
     "start_time": "2024-11-29T00:11:46.890610Z"
    }
   },
   "cell_type": "code",
   "source": [
    "#train manager builder\n",
    "\n",
    "def get_num_correct(preds, labels):\n",
    "    return preds.argmax(dim=1).eq(labels).sum().item()\n",
    "\n",
    "def sanitize_for_windows_path(name):\n",
    "    # Replace invalid characters with underscores or remove them\n",
    "    invalid_chars = r'<>:\"/\\\\|?*'\n",
    "    return ''.join('_' if c in invalid_chars else c for c in name)\n",
    "\n",
    "#train_loader = torch.utils.data.DataLoader(train_set, batch_size=10, shuffle=True, pin_memory=True)\n",
    "\n",
    "params = OrderedDict(lr=[0.01508, 0.01509, 0.01510], batch_size=[36], number_epocs=[50], op=[torch.optim.AdamW])\n",
    "#params = OrderedDict(lr=[0.01513], batch_size=[36], number_epocs=[1], op=[torch.optim.Adam])\n",
    "#lr=0.0151, batch_size=36, number_epocs=100, op=<class 'torch.optim.adamw.AdamW'\n",
    "\n",
    "m = rm.RunManager()\n",
    "b = bm.RunBuilder.get_runs(params)\n",
    "\n",
    "for run in b:\n",
    "    print(run)"
   ],
   "id": "60845edbfb29e690",
   "outputs": [
    {
     "name": "stdout",
     "output_type": "stream",
     "text": [
      "Run(lr=0.01508, batch_size=36, number_epocs=50, op=<class 'torch.optim.adamw.AdamW'>)\n",
      "Run(lr=0.01509, batch_size=36, number_epocs=50, op=<class 'torch.optim.adamw.AdamW'>)\n",
      "Run(lr=0.0151, batch_size=36, number_epocs=50, op=<class 'torch.optim.adamw.AdamW'>)\n"
     ]
    }
   ],
   "execution_count": 19
  },
  {
   "metadata": {
    "ExecuteTime": {
     "end_time": "2024-11-29T00:26:12.616788Z",
     "start_time": "2024-11-29T00:11:49.691600Z"
    }
   },
   "cell_type": "code",
   "source": [
    "#train manager\n",
    "network = Down(1, 16).to(\"cuda\")\n",
    "def get_num_correct(preds, labels):\n",
    "    return preds.argmax(dim=1).eq(labels).sum().item()\n",
    "\n",
    "def calculate_correct(out, labels):\n",
    "    return torch.eq(out.argmax(dim=1), labels).sum().numpy()\n",
    "\n",
    "#rounding to 3sfd function\n",
    "#def round_to_sig_figs(num, sig_figs):\n",
    "#    if num == 0:\n",
    "#        return 0\n",
    "#    from math import log10, floor\n",
    "#    return round(num, sig_figs - int(floor(log10(abs(num)))) - 1)\n",
    "\n",
    "#time42 = []\n",
    "max1 = []\n",
    "\n",
    "for run in b:\n",
    "    #u_u = time.time()\n",
    "    network = Down(1, 16).to(\"cuda\")\n",
    "    loader = DataLoader(train_set, batch_size=run.batch_size, shuffle=True)\n",
    "    optimizer = run.op(network.parameters(), lr=run.lr)\n",
    "    sanitized_run = sanitize_for_windows_path(str(run))    # Sanitize run name before calling m.begin_run\n",
    "    m.begin_run(sanitized_run, network, loader)\n",
    "\n",
    "    for epoch in range(run.number_epocs):\n",
    "        list = []\n",
    "        m.begin_epoch()\n",
    "        for batch in train_loader:\n",
    "            characteristics, labels = batch\n",
    "            characteristics, labels = characteristics.to(\"cuda\"), labels.to(\"cuda\")\n",
    "            preds = network(characteristics)  # Pass Batch\n",
    "            loss = F.cross_entropy(preds, labels)  # Calculate Loss\n",
    "            optimizer.zero_grad()  # Zero Gradients\n",
    "            loss.backward()  # Calculate Gradients\n",
    "            optimizer.step()  # Update Weights\n",
    "            m.track_loss(loss, batch)\n",
    "            m.track_num_correct(preds, labels)\n",
    "        m.end_epoch()\n",
    "\n",
    "        f = m.epoch_num_correct / len(train_loader.dataset)\n",
    "        list.append(f)\n",
    "        #print(f\"Epoch {epoch + 1}/{run.number_epocs}, Loss: {m.epoch_loss}, Accuracy: {m.epoch_num_correct / len(train_loader.dataset):.4f}\")\n",
    "    #maxy = round_to_sig_figs(np.max(list), 3)\n",
    "    maxy = np.max(list)\n",
    "    print(run, \",\" , \"Accuracy = \", maxy)\n",
    "    max1.append(maxy)\n",
    "    #I = time.time()\n",
    "    #time42.append(I - u_u)\n",
    "    #print(\"Average time\", np.average(time42))\n",
    "    \n",
    "print(\"Maximum accuracy run at row:\", np.argmax(max1)+1,\".)\", np.max(max1))"
   ],
   "id": "9ec1e7d50f09fe2f",
   "outputs": [
    {
     "name": "stdout",
     "output_type": "stream",
     "text": [
      "Run(lr=0.01508, batch_size=36, number_epocs=50, op=<class 'torch.optim.adamw.AdamW'>) , Accuracy =  0.8504\n",
      "Run(lr=0.01509, batch_size=36, number_epocs=50, op=<class 'torch.optim.adamw.AdamW'>) , Accuracy =  0.8553666666666667\n",
      "Run(lr=0.0151, batch_size=36, number_epocs=50, op=<class 'torch.optim.adamw.AdamW'>) , Accuracy =  0.85705\n",
      "Maximum accuracy run at row: 3 .) 0.85705\n"
     ]
    }
   ],
   "execution_count": 20
  },
  {
   "metadata": {
    "ExecuteTime": {
     "end_time": "2024-11-29T00:42:42.223054Z",
     "start_time": "2024-11-29T00:42:42.025664Z"
    }
   },
   "cell_type": "code",
   "source": [
    "#saving the CNN network \n",
    "torch.save(network, 'network.pth')\n",
    "help_me = torch.load('network.pth', weights_only = False).to(\"cuda:0\")#, weights_only = True)\n",
    "help_me.eval()  # Set to evaluation mode\n",
    "\n",
    "sample = next(iter(train_set))\n",
    "image, labels = batch\n",
    "image, labels = image.to(\"cuda:0\"), labels.to(\"cuda:0\")\n",
    "image = image.to(\"cuda\")\n",
    "images = image[0]\n",
    "plt.imshow(images.cpu().squeeze().numpy(), cmap='gray')\n",
    "preds = help_me(images)\n",
    "\n",
    "#check preds and labels to see if they are right\n",
    "def get_num_correct(preds, labels):\n",
    "    return preds.argmax(dim=1).eq(labels).sum().item()\n",
    "holdall = get_num_correct(preds.to('cuda'), labels.to('cuda'))\n",
    "\n",
    "#print to check\n",
    "print(preds.shape)  # Should output: torch.Size([1, 10])\n",
    "print(holdall)"
   ],
   "id": "29069298f12c7c40",
   "outputs": [
    {
     "ename": "RuntimeError",
     "evalue": "mat1 and mat2 shapes cannot be multiplied (16x196 and 3136x16)",
     "output_type": "error",
     "traceback": [
      "\u001B[1;31m---------------------------------------------------------------------------\u001B[0m",
      "\u001B[1;31mRuntimeError\u001B[0m                              Traceback (most recent call last)",
      "Cell \u001B[1;32mIn[31], line 12\u001B[0m\n\u001B[0;32m     10\u001B[0m images \u001B[38;5;241m=\u001B[39m image[\u001B[38;5;241m0\u001B[39m, :]\n\u001B[0;32m     11\u001B[0m plt\u001B[38;5;241m.\u001B[39mimshow(images\u001B[38;5;241m.\u001B[39mcpu()\u001B[38;5;241m.\u001B[39msqueeze()\u001B[38;5;241m.\u001B[39mnumpy(), cmap\u001B[38;5;241m=\u001B[39m\u001B[38;5;124m'\u001B[39m\u001B[38;5;124mgray\u001B[39m\u001B[38;5;124m'\u001B[39m)\n\u001B[1;32m---> 12\u001B[0m preds \u001B[38;5;241m=\u001B[39m \u001B[43mhelp_me\u001B[49m\u001B[43m(\u001B[49m\u001B[43mimages\u001B[49m\u001B[43m)\u001B[49m\n\u001B[0;32m     14\u001B[0m \u001B[38;5;66;03m#check preds and labels to see if they are right\u001B[39;00m\n\u001B[0;32m     15\u001B[0m \u001B[38;5;28;01mdef\u001B[39;00m \u001B[38;5;21mget_num_correct\u001B[39m(preds, labels):\n",
      "File \u001B[1;32mA:\\3rd_Year_Project\\Anaconda\\envs\\lizard\\lib\\site-packages\\torch\\nn\\modules\\module.py:1736\u001B[0m, in \u001B[0;36mModule._wrapped_call_impl\u001B[1;34m(self, *args, **kwargs)\u001B[0m\n\u001B[0;32m   1734\u001B[0m     \u001B[38;5;28;01mreturn\u001B[39;00m \u001B[38;5;28mself\u001B[39m\u001B[38;5;241m.\u001B[39m_compiled_call_impl(\u001B[38;5;241m*\u001B[39margs, \u001B[38;5;241m*\u001B[39m\u001B[38;5;241m*\u001B[39mkwargs)  \u001B[38;5;66;03m# type: ignore[misc]\u001B[39;00m\n\u001B[0;32m   1735\u001B[0m \u001B[38;5;28;01melse\u001B[39;00m:\n\u001B[1;32m-> 1736\u001B[0m     \u001B[38;5;28;01mreturn\u001B[39;00m \u001B[38;5;28mself\u001B[39m\u001B[38;5;241m.\u001B[39m_call_impl(\u001B[38;5;241m*\u001B[39margs, \u001B[38;5;241m*\u001B[39m\u001B[38;5;241m*\u001B[39mkwargs)\n",
      "File \u001B[1;32mA:\\3rd_Year_Project\\Anaconda\\envs\\lizard\\lib\\site-packages\\torch\\nn\\modules\\module.py:1747\u001B[0m, in \u001B[0;36mModule._call_impl\u001B[1;34m(self, *args, **kwargs)\u001B[0m\n\u001B[0;32m   1742\u001B[0m \u001B[38;5;66;03m# If we don't have any hooks, we want to skip the rest of the logic in\u001B[39;00m\n\u001B[0;32m   1743\u001B[0m \u001B[38;5;66;03m# this function, and just call forward.\u001B[39;00m\n\u001B[0;32m   1744\u001B[0m \u001B[38;5;28;01mif\u001B[39;00m \u001B[38;5;129;01mnot\u001B[39;00m (\u001B[38;5;28mself\u001B[39m\u001B[38;5;241m.\u001B[39m_backward_hooks \u001B[38;5;129;01mor\u001B[39;00m \u001B[38;5;28mself\u001B[39m\u001B[38;5;241m.\u001B[39m_backward_pre_hooks \u001B[38;5;129;01mor\u001B[39;00m \u001B[38;5;28mself\u001B[39m\u001B[38;5;241m.\u001B[39m_forward_hooks \u001B[38;5;129;01mor\u001B[39;00m \u001B[38;5;28mself\u001B[39m\u001B[38;5;241m.\u001B[39m_forward_pre_hooks\n\u001B[0;32m   1745\u001B[0m         \u001B[38;5;129;01mor\u001B[39;00m _global_backward_pre_hooks \u001B[38;5;129;01mor\u001B[39;00m _global_backward_hooks\n\u001B[0;32m   1746\u001B[0m         \u001B[38;5;129;01mor\u001B[39;00m _global_forward_hooks \u001B[38;5;129;01mor\u001B[39;00m _global_forward_pre_hooks):\n\u001B[1;32m-> 1747\u001B[0m     \u001B[38;5;28;01mreturn\u001B[39;00m forward_call(\u001B[38;5;241m*\u001B[39margs, \u001B[38;5;241m*\u001B[39m\u001B[38;5;241m*\u001B[39mkwargs)\n\u001B[0;32m   1749\u001B[0m result \u001B[38;5;241m=\u001B[39m \u001B[38;5;28;01mNone\u001B[39;00m\n\u001B[0;32m   1750\u001B[0m called_always_called_hooks \u001B[38;5;241m=\u001B[39m \u001B[38;5;28mset\u001B[39m()\n",
      "Cell \u001B[1;32mIn[3], line 36\u001B[0m, in \u001B[0;36mDown.forward\u001B[1;34m(self, t)\u001B[0m\n\u001B[0;32m     32\u001B[0m     \u001B[38;5;28mself\u001B[39m\u001B[38;5;241m.\u001B[39mfc1 \u001B[38;5;241m=\u001B[39m nn\u001B[38;5;241m.\u001B[39mLinear(t\u001B[38;5;241m.\u001B[39msize(\u001B[38;5;241m1\u001B[39m), \u001B[38;5;28mself\u001B[39m\u001B[38;5;241m.\u001B[39mout_channels)\u001B[38;5;241m.\u001B[39mto(\u001B[38;5;28mself\u001B[39m\u001B[38;5;241m.\u001B[39mdevice)\n\u001B[0;32m     34\u001B[0m \u001B[38;5;66;03m# Dynamically set the first linear layer based on the flattened size\u001B[39;00m\n\u001B[1;32m---> 36\u001B[0m t \u001B[38;5;241m=\u001B[39m \u001B[38;5;28;43mself\u001B[39;49m\u001B[38;5;241;43m.\u001B[39;49m\u001B[43mfc1\u001B[49m\u001B[43m(\u001B[49m\u001B[43mt\u001B[49m\u001B[43m)\u001B[49m\n\u001B[0;32m     37\u001B[0m \u001B[38;5;66;03m#print(t.shape, \"fc1\")\u001B[39;00m\n\u001B[0;32m     38\u001B[0m t \u001B[38;5;241m=\u001B[39m F\u001B[38;5;241m.\u001B[39mrelu(t)\n",
      "File \u001B[1;32mA:\\3rd_Year_Project\\Anaconda\\envs\\lizard\\lib\\site-packages\\torch\\nn\\modules\\module.py:1736\u001B[0m, in \u001B[0;36mModule._wrapped_call_impl\u001B[1;34m(self, *args, **kwargs)\u001B[0m\n\u001B[0;32m   1734\u001B[0m     \u001B[38;5;28;01mreturn\u001B[39;00m \u001B[38;5;28mself\u001B[39m\u001B[38;5;241m.\u001B[39m_compiled_call_impl(\u001B[38;5;241m*\u001B[39margs, \u001B[38;5;241m*\u001B[39m\u001B[38;5;241m*\u001B[39mkwargs)  \u001B[38;5;66;03m# type: ignore[misc]\u001B[39;00m\n\u001B[0;32m   1735\u001B[0m \u001B[38;5;28;01melse\u001B[39;00m:\n\u001B[1;32m-> 1736\u001B[0m     \u001B[38;5;28;01mreturn\u001B[39;00m \u001B[38;5;28mself\u001B[39m\u001B[38;5;241m.\u001B[39m_call_impl(\u001B[38;5;241m*\u001B[39margs, \u001B[38;5;241m*\u001B[39m\u001B[38;5;241m*\u001B[39mkwargs)\n",
      "File \u001B[1;32mA:\\3rd_Year_Project\\Anaconda\\envs\\lizard\\lib\\site-packages\\torch\\nn\\modules\\module.py:1747\u001B[0m, in \u001B[0;36mModule._call_impl\u001B[1;34m(self, *args, **kwargs)\u001B[0m\n\u001B[0;32m   1742\u001B[0m \u001B[38;5;66;03m# If we don't have any hooks, we want to skip the rest of the logic in\u001B[39;00m\n\u001B[0;32m   1743\u001B[0m \u001B[38;5;66;03m# this function, and just call forward.\u001B[39;00m\n\u001B[0;32m   1744\u001B[0m \u001B[38;5;28;01mif\u001B[39;00m \u001B[38;5;129;01mnot\u001B[39;00m (\u001B[38;5;28mself\u001B[39m\u001B[38;5;241m.\u001B[39m_backward_hooks \u001B[38;5;129;01mor\u001B[39;00m \u001B[38;5;28mself\u001B[39m\u001B[38;5;241m.\u001B[39m_backward_pre_hooks \u001B[38;5;129;01mor\u001B[39;00m \u001B[38;5;28mself\u001B[39m\u001B[38;5;241m.\u001B[39m_forward_hooks \u001B[38;5;129;01mor\u001B[39;00m \u001B[38;5;28mself\u001B[39m\u001B[38;5;241m.\u001B[39m_forward_pre_hooks\n\u001B[0;32m   1745\u001B[0m         \u001B[38;5;129;01mor\u001B[39;00m _global_backward_pre_hooks \u001B[38;5;129;01mor\u001B[39;00m _global_backward_hooks\n\u001B[0;32m   1746\u001B[0m         \u001B[38;5;129;01mor\u001B[39;00m _global_forward_hooks \u001B[38;5;129;01mor\u001B[39;00m _global_forward_pre_hooks):\n\u001B[1;32m-> 1747\u001B[0m     \u001B[38;5;28;01mreturn\u001B[39;00m forward_call(\u001B[38;5;241m*\u001B[39margs, \u001B[38;5;241m*\u001B[39m\u001B[38;5;241m*\u001B[39mkwargs)\n\u001B[0;32m   1749\u001B[0m result \u001B[38;5;241m=\u001B[39m \u001B[38;5;28;01mNone\u001B[39;00m\n\u001B[0;32m   1750\u001B[0m called_always_called_hooks \u001B[38;5;241m=\u001B[39m \u001B[38;5;28mset\u001B[39m()\n",
      "File \u001B[1;32mA:\\3rd_Year_Project\\Anaconda\\envs\\lizard\\lib\\site-packages\\torch\\nn\\modules\\linear.py:125\u001B[0m, in \u001B[0;36mLinear.forward\u001B[1;34m(self, input)\u001B[0m\n\u001B[0;32m    124\u001B[0m \u001B[38;5;28;01mdef\u001B[39;00m \u001B[38;5;21mforward\u001B[39m(\u001B[38;5;28mself\u001B[39m, \u001B[38;5;28minput\u001B[39m: Tensor) \u001B[38;5;241m-\u001B[39m\u001B[38;5;241m>\u001B[39m Tensor:\n\u001B[1;32m--> 125\u001B[0m     \u001B[38;5;28;01mreturn\u001B[39;00m \u001B[43mF\u001B[49m\u001B[38;5;241;43m.\u001B[39;49m\u001B[43mlinear\u001B[49m\u001B[43m(\u001B[49m\u001B[38;5;28;43minput\u001B[39;49m\u001B[43m,\u001B[49m\u001B[43m \u001B[49m\u001B[38;5;28;43mself\u001B[39;49m\u001B[38;5;241;43m.\u001B[39;49m\u001B[43mweight\u001B[49m\u001B[43m,\u001B[49m\u001B[43m \u001B[49m\u001B[38;5;28;43mself\u001B[39;49m\u001B[38;5;241;43m.\u001B[39;49m\u001B[43mbias\u001B[49m\u001B[43m)\u001B[49m\n",
      "\u001B[1;31mRuntimeError\u001B[0m: mat1 and mat2 shapes cannot be multiplied (16x196 and 3136x16)"
     ]
    },
    {
     "data": {
      "text/plain": [
       "<Figure size 640x480 with 1 Axes>"
      ],
      "image/png": "[encoded data removed]"
     },
     "metadata": {},
     "output_type": "display_data"
    }
   ],
   "execution_count": 31
  },
  {
   "metadata": {},
   "cell_type": "code",
   "outputs": [],
   "execution_count": null,
   "source": "",
   "id": "ed2432a9c27eb2b0"
  }
 ],
 "metadata": {
  "kernelspec": {
   "display_name": "Python 3",
   "language": "python",
   "name": "python3"
  },
  "language_info": {
   "codemirror_mode": {
    "name": "ipython",
    "version": 2
   },
   "file_extension": ".py",
   "mimetype": "text/x-python",
   "name": "python",
   "nbconvert_exporter": "python",
   "pygments_lexer": "ipython2",
   "version": "2.7.6"
  }
 },
 "nbformat": 4,
 "nbformat_minor": 5
}
