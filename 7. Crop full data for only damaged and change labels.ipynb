{
 "cells": [
  {
   "metadata": {
    "ExecuteTime": {
     "end_time": "2025-03-24T17:20:33.970565Z",
     "start_time": "2025-03-24T17:20:33.967560Z"
    }
   },
   "cell_type": "code",
   "source": "import numpy as np",
   "id": "c566bbc2e3a0e18b",
   "outputs": [],
   "execution_count": 46
  },
  {
   "metadata": {
    "ExecuteTime": {
     "end_time": "2025-03-24T17:20:35.984913Z",
     "start_time": "2025-03-24T17:20:34.643879Z"
    }
   },
   "cell_type": "code",
   "source": [
    "#load the data\n",
    "img1_directory = \"A:/3rd_Year_Project/Project_code/data/Siamese_dataset/img1.npz\"\n",
    "training_directory = \"A:/3rd_Year_Project/Project_code/data/Siamese_dataset/15.npz\"\n",
    "testing_directory = \"A:/3rd_Year_Project/Project_code/data/Siamese_dataset/2nd.npz\"\n",
    "\n",
    "data15 = np.load(training_directory, allow_pickle=True)\n",
    "data2nd = np.load(testing_directory, allow_pickle=True)\n",
    "images15 = data15['images']\n",
    "images2nd = data2nd['images']"
   ],
   "id": "5add708fdd0a287a",
   "outputs": [],
   "execution_count": 47
  },
  {
   "cell_type": "code",
   "id": "initial_id",
   "metadata": {
    "collapsed": true,
    "ExecuteTime": {
     "end_time": "2025-03-24T17:20:37.809281Z",
     "start_time": "2025-03-24T17:20:37.805281Z"
    }
   },
   "source": [
    "#append the labels to reflect how long they have been in the harmed area\n",
    "#function\n",
    "\n",
    "def VariableLabel(total_frames, directory):\n",
    "    short_name = directory[:-6]\n",
    "    data = np.load(directory, allow_pickle=True)\n",
    "    images = data['images']\n",
    "    labels = data['labels']\n",
    "\n",
    "    total_length = images.shape[0]\n",
    "    new_label = []\n",
    "    ameoba_per_frame = total_length // total_frames\n",
    "    frame_number = 0\n",
    "\n",
    "    for i in range(total_length):\n",
    "        if i % ameoba_per_frame == 0:\n",
    "            frame_number += 1\n",
    "        #print(frame_number)\n",
    "\n",
    "        factor = int((frame_number / total_frames)*1000)/1000\n",
    "        if factor > 1:\n",
    "            factor = 1\n",
    "        #print(factor)\n",
    "\n",
    "        new_label.append(labels[i] * factor)\n",
    "    #print(new_label)\n",
    "\n",
    "    return new_label\n"
   ],
   "outputs": [],
   "execution_count": 48
  },
  {
   "metadata": {
    "ExecuteTime": {
     "end_time": "2025-03-24T17:21:07.697954Z",
     "start_time": "2025-03-24T17:21:00.891293Z"
    }
   },
   "cell_type": "code",
   "source": [
    "total_frames15 = 600\n",
    "total_frames2nd = 300\n",
    "\n",
    "#for 15%:\n",
    "labels = np.array(VariableLabel(total_frames15, training_directory))\n",
    "np.savez_compressed(r\"A:\\3rd_Year_Project\\Project_code\\data\\Cropped_and_variable_labels\\15VariableLabel.npz\", images = images15, labels = np.array(labels))\n",
    "\n",
    "#for 2nd:\n",
    "labels = np.array(VariableLabel(total_frames2nd, testing_directory))\n",
    "np.savez_compressed(r\"A:\\3rd_Year_Project\\Project_code\\data\\Cropped_and_variable_labels\\2ndVariableLabel.npz\", images = images2nd, labels = np.array(labels))"
   ],
   "id": "effc8689dffd33e1",
   "outputs": [],
   "execution_count": 49
  },
  {
   "metadata": {
    "ExecuteTime": {
     "end_time": "2025-03-24T17:32:24.885881Z",
     "start_time": "2025-03-24T17:32:20.838826Z"
    }
   },
   "cell_type": "code",
   "source": [
    "#crop the current training data\n",
    "def crop(number_size, directory):\n",
    "    data = np.load(directory, allow_pickle=True)\n",
    "    images = data['images']\n",
    "    labels = data['labels']\n",
    "\n",
    "    start_number = images.shape[0] - number_size\n",
    "\n",
    "    imagesArray = []\n",
    "    labelsArray = []\n",
    "\n",
    "    for i in range(labels.shape[0]):\n",
    "        if i+start_number == labels.shape[0]: # so the loop of i+start number doesn't exceed labels.shape[0]\n",
    "            break\n",
    "        imagesArray.append(images[i+start_number])\n",
    "        labelsArray.append(labels[i+start_number])\n",
    "\n",
    "    #print(labelsArray)\n",
    "    #print(imagesArray)\n",
    "\n",
    "    #save the cropped data\n",
    "    imagesArray = np.array(imagesArray)\n",
    "    labelsArray = np.array(labelsArray)\n",
    "\n",
    "    print(imagesArray.shape)\n",
    "    return imagesArray, labelsArray\n",
    "\n",
    "#running crop function for 15%:\n",
    "imagesArray, labelsArray = crop(6000, training_directory)\n",
    "np.savez_compressed(r\"A:\\3rd_Year_Project\\Project_code\\data\\Cropped_and_variable_labels\\15Cropped.npz\", images = imagesArray, labels = labelsArray)\n",
    "#running crop function for 2nd:\n",
    "imagesArray, labelsArray = crop(4000, testing_directory)\n",
    "np.savez_compressed(r\"A:\\3rd_Year_Project\\Project_code\\data\\Cropped_and_variable_labels\\2ndCropped.npz\", images = imagesArray, labels = labelsArray)"
   ],
   "id": "21a332259682940",
   "outputs": [
    {
     "name": "stdout",
     "output_type": "stream",
     "text": [
      "(6000, 128, 128)\n",
      "(4000, 128, 128)\n"
     ]
    }
   ],
   "execution_count": 50
  },
  {
   "metadata": {},
   "cell_type": "code",
   "outputs": [],
   "execution_count": null,
   "source": "",
   "id": "dfe64a1bcbda2f23"
  }
 ],
 "metadata": {
  "kernelspec": {
   "display_name": "Python 3",
   "language": "python",
   "name": "python3"
  },
  "language_info": {
   "codemirror_mode": {
    "name": "ipython",
    "version": 2
   },
   "file_extension": ".py",
   "mimetype": "text/x-python",
   "name": "python",
   "nbconvert_exporter": "python",
   "pygments_lexer": "ipython2",
   "version": "2.7.6"
  }
 },
 "nbformat": 4,
 "nbformat_minor": 5
}
