{
 "cells": [
  {
   "metadata": {
    "ExecuteTime": {
     "end_time": "2024-11-24T20:04:17.754463Z",
     "start_time": "2024-11-24T20:04:17.734074Z"
    }
   },
   "cell_type": "code",
   "source": [
    "import numpy as np\n",
    "import matplotlib.pyplot as plt\n",
    "import torch.optim as optim\n",
    "import torch\n",
    "import RunManager as rm\n",
    "import RunBuilder as bm\n",
    "import torch.nn as nn\n",
    "import torch.nn.functional as F\n",
    "from torch.utils.data import DataLoader\n",
    "from torch.utils.tensorboard import SummaryWriter\n",
    "import time\n",
    "from collections import OrderedDict\n",
    "from collections import namedtuple\n",
    "from itertools import product\n",
    "import torchvision\n",
    "import torchvision.transforms as transforms"
   ],
   "id": "671df6058f0a6a74",
   "outputs": [],
   "execution_count": 20
  },
  {
   "cell_type": "code",
   "id": "initial_id",
   "metadata": {
    "collapsed": true,
    "ExecuteTime": {
     "end_time": "2024-11-24T20:04:18.330263Z",
     "start_time": "2024-11-24T20:04:18.316071Z"
    }
   },
   "source": [
    "#CNN Network\n",
    "\n",
    "class Down(nn.Module):\n",
    "    def __init__(self, in_channels, out_channels, device = \"cuda\"):\n",
    "        super().__init__()\n",
    "        self.device = torch.device(device)\n",
    "        self.out_channels = out_channels  # Store out_channels as an instance variable\n",
    "        conv1_out_channels = (out_channels + in_channels) // 2\n",
    "        \n",
    "        self.conv1 = nn.Conv2d(in_channels, conv1_out_channels, kernel_size=3, padding=1)\n",
    "        self.conv2 = nn.Conv2d(conv1_out_channels, out_channels, kernel_size=3, padding=1)\n",
    "\n",
    "        # Initialize fc1 later\n",
    "        self.fc1 = None  # Initialize later based on input size\n",
    "        self.fc2 = nn.Linear(out_channels, 200)  # Adjust output size if needed\n",
    "        self.fc3 = nn.Linear(200, 100)\n",
    "        self.out = nn.Linear(100, 10)  # The input size must match the output of fc2\n",
    "\n",
    "    def forward(self, t):\n",
    "        t = F.max_pool2d(t, kernel_size=3, stride=2, padding=1)\n",
    "        #print(t.shape)\n",
    "        t = self.conv1(t)\n",
    "        #print(t.shape)\n",
    "        t = F.relu(t)\n",
    "        t = self.conv2(t)\n",
    "        #print(t.shape)\n",
    "        t = F.relu(t)\n",
    "\n",
    "        # Flatten the tensor for fully connected layers\n",
    "        t = t.view(t.size(0), -1)\n",
    "        if self.fc1 is None:\n",
    "            self.fc1 = nn.Linear(t.size(1), self.out_channels).to(self.device)\n",
    "\n",
    "        # Dynamically set the first linear layer based on the flattened size\n",
    "\n",
    "        t = self.fc1(t)\n",
    "        #print(t.shape, \"fc1\")\n",
    "        t = F.relu(t)\n",
    "        t = self.fc2(t)\n",
    "        #print(t.shape, \"fc2\")\n",
    "        t = F.relu(t)\n",
    "        t = self.fc3(t)\n",
    "        #print(t.shape, \"fc1\")\n",
    "        t = F.relu(t)\n",
    "        t = self.out(t)\n",
    "        #print(t.shape, \"out\")\n",
    "        return t\n"
   ],
   "outputs": [],
   "execution_count": 21
  },
  {
   "metadata": {
    "ExecuteTime": {
     "end_time": "2024-11-24T20:04:18.919837Z",
     "start_time": "2024-11-24T20:04:18.904712Z"
    }
   },
   "cell_type": "code",
   "source": [
    "# Random data example usage\n",
    "#network = Down(1, 5).to(\"cuda\")\n",
    "#real_samples_labels = torch.randint(0, 100, (1, 1, 32, 32), #dtype=torch.float32).to(\"cuda\")\n",
    "#out = network(real_samples_labels)\n",
    "##print(out.shape)  # Should output: torch.Size([1, 10])\n",
    "\n",
    "#plt.imshow(out[:,:].detach().cpu().numpy())  # get the graph"
   ],
   "id": "9c0fea267d45de36",
   "outputs": [],
   "execution_count": 22
  },
  {
   "metadata": {
    "ExecuteTime": {
     "end_time": "2024-11-24T20:04:19.510929Z",
     "start_time": "2024-11-24T20:04:19.484580Z"
    }
   },
   "cell_type": "code",
   "source": [
    "#Download FMNIST data\n",
    "train_set = torchvision.datasets.FashionMNIST(\n",
    "    root='./data'\n",
    "    ,train=True\n",
    "    ,download=True\n",
    "    ,transform=transforms.Compose([\n",
    "        transforms.ToTensor()]))"
   ],
   "id": "db23e3eec05341aa",
   "outputs": [],
   "execution_count": 23
  },
  {
   "metadata": {
    "ExecuteTime": {
     "end_time": "2024-11-24T20:04:20.090046Z",
     "start_time": "2024-11-24T20:04:20.072939Z"
    }
   },
   "cell_type": "code",
   "source": [
    "#sample = next(iter(train_set))\n",
    "#image, label = sample # returns a sample, which can be split in to an image and a label\n",
    "#plt.imshow(image.squeeze())"
   ],
   "id": "6e2c347bcffd7971",
   "outputs": [],
   "execution_count": 24
  },
  {
   "metadata": {
    "ExecuteTime": {
     "end_time": "2024-11-24T20:04:20.624666Z",
     "start_time": "2024-11-24T20:04:20.618550Z"
    }
   },
   "cell_type": "code",
   "source": [
    "##first run test\n",
    "#train_loader = torch.utils.data.DataLoader(train_set, batch_size=1000, shuffle=True)\n",
    "#sample = next(iter(train_loader))\n",
    "#image, label = sample\n",
    "#print(image.shape)\n",
    "#print(label)\n",
    "#\n",
    "#batch = next(iter(train_loader))\n",
    "#images, labels = batch\n",
    "#images, labels = images.to(\"cuda\"), labels.to(\"cuda\")\n",
    "#network = Down(in_channels=1, out_channels=100).to(\"cuda\")\n",
    "#preds = network(images)\n",
    "##print(np.max(preds.detach().numpy(),axis=0))\n",
    "##print(preds)\n",
    "##print(labels)"
   ],
   "id": "5cad05b8b586dac8",
   "outputs": [],
   "execution_count": 25
  },
  {
   "metadata": {
    "ExecuteTime": {
     "end_time": "2024-11-24T20:04:21.453245Z",
     "start_time": "2024-11-24T20:04:21.450124Z"
    }
   },
   "cell_type": "code",
   "source": [
    "##first fun test\n",
    "#def get_num_correct(preds, labels):\n",
    "#    return preds.argmax(dim=1).eq(labels).sum().item()\n",
    "#\n",
    "#hold = []\n",
    "#for I in range(100):\n",
    "#    batch = next(iter(train_loader))\n",
    "#    images, labels = batch\n",
    "#    images, labels = images.to(\"cuda\"), labels.to(\"cuda\")\n",
    "#    preds = network(images)\n",
    "#    hold.append(get_num_correct(preds, labels))"
   ],
   "id": "c1b10b372091ad50",
   "outputs": [],
   "execution_count": 26
  },
  {
   "metadata": {
    "ExecuteTime": {
     "end_time": "2024-11-24T20:04:22.247124Z",
     "start_time": "2024-11-24T20:04:22.233899Z"
    }
   },
   "cell_type": "code",
   "source": [
    "#plt.plot(hold)\n",
    "#print(np.mean(hold))"
   ],
   "id": "e1f5f2506c7d4798",
   "outputs": [],
   "execution_count": 27
  },
  {
   "metadata": {
    "ExecuteTime": {
     "end_time": "2024-11-24T22:37:08.245156Z",
     "start_time": "2024-11-24T22:37:07.173191Z"
    }
   },
   "cell_type": "code",
   "source": [
    "train_loader = torch.utils.data.DataLoader(train_set, batch_size=1000, shuffle=True)\n",
    "sample = next(iter(train_loader))\n",
    "image, label = sample\n",
    "#print(image.shape)\n",
    "#print(label)\n",
    "\n",
    "def get_num_correct(preds, labels):\n",
    "    return preds.argmax(dim=1).eq(labels).sum().item()\n",
    "\n",
    "device = torch.device(\"cuda\")\n",
    "network = Down(1, 16).to(\"cuda\")\n",
    "\n",
    "batch = next(iter(train_loader))\n",
    "images, labels = batch\n",
    "images, labels = images.to(device), labels.to(device)\n",
    "\n",
    "number_run = 100\n",
    "holdall = np.zeros(number_run)\n",
    "\n",
    "optimizer = optim.Adam(network.parameters(), lr=0.01)#, weight_decay=1e-5)\n",
    "\n",
    "for I in range(number_run):\n",
    "    preds = network(images)\n",
    "    loss = F.cross_entropy(preds, labels)\n",
    "    holdall[I] = get_num_correct(preds.to('cuda'), labels.to('cuda'))\n",
    "    loss.backward() # Calculating the gradients\n",
    "    #optimizer = optim.Adam(network.parameters(), lr=0.001)\n",
    "    optimizer.step()\n",
    "    optimizer.zero_grad()\n",
    "plt.plot(holdall)\n",
    "plt.show()\n",
    "print(max(holdall))"
   ],
   "id": "e0ad4eb52c0edca0",
   "outputs": [
    {
     "data": {
      "text/plain": [
       "<Figure size 640x480 with 1 Axes>"
      ],
      "image/png": "[encoded data removed]"
     },
     "metadata": {},
     "output_type": "display_data"
    },
    {
     "name": "stdout",
     "output_type": "stream",
     "text": [
      "848.0\n"
     ]
    }
   ],
   "execution_count": 45
  },
  {
   "metadata": {},
   "cell_type": "code",
   "outputs": [],
   "execution_count": null,
   "source": [
    "#training on repeat\n",
    "#histogram = []\n",
    "#\n",
    "#for I in range(100):\n",
    "#    train_loader = torch.utils.data.DataLoader(train_set, batch_size=1000, shuffle=True)\n",
    "#    sample = next(iter(train_loader))\n",
    "#    image, label = sample\n",
    "#    #print(image.shape)\n",
    "#    #print(label)#\n",
    "#\n",
    "#    def get_num_correct(preds, labels):\n",
    "#        return preds.argmax(dim=1).eq(labels).sum().item()#\n",
    "#\n",
    "#    device = torch.device(\"cuda\")\n",
    "#    network = Down(1, 16).to(\"cuda\")#\n",
    "#\n",
    "#    batch = next(iter(train_loader))\n",
    "#    images, labels = batch\n",
    "#    images, labels = images.to(device), labels.to(device)#\n",
    "#\n",
    "#    number_run = 500\n",
    "#    holdall = np.zeros(number_run)#\n",
    "#\n",
    "#    optimizer = optim.Adam(network.parameters(), lr=0.01)#, weight_decay=1e-5)##\n",
    "#\n",
    "#    for I in range(number_run):\n",
    "#        preds = network(images)\n",
    "#        loss = F.cross_entropy(preds, labels)\n",
    "#        holdall[I] = get_num_correct(preds.to('cuda'), labels.to('cuda'))\n",
    "#        loss.backward() # Calculating the gradients\n",
    "#        #optimizer = optim.Adam(network.parameters(), lr=0.001)\n",
    "#        optimizer.step()\n",
    "#        optimizer.zero_grad()#\n",
    "#\n",
    "    #plt.plot(holdall)\n",
    "    #plt.show()\n",
    "    #print(max(holdall))\n",
    "\n",
    "#    histogram.append(max(holdall))\n",
    "#\n",
    "#plt.hist(histogram)\n",
    "#plt.xlabel('Number of correct guesses out of 1000')\n",
    "#plt.ylabel('Frequency (totaling 100)')\n",
    "#plt.title(\"Histogram of the accuracy of the network for 1000 images for 500 runs\")\n",
    "#plt.show()"
   ],
   "id": "6c249c6b391abaca"
  },
  {
   "metadata": {
    "ExecuteTime": {
     "end_time": "2024-11-24T21:35:28.648643Z",
     "start_time": "2024-11-24T21:35:28.629597Z"
    }
   },
   "cell_type": "code",
   "source": [
    "#run builder and run manager\n",
    "class RunBuilder():\n",
    "    @staticmethod\n",
    "    def get_runs(params):\n",
    "        Run = namedtuple('Run', params.keys())\n",
    "        runs = []\n",
    "        for v in product(*params.values()):\n",
    "            runs.append(Run(*v))\n",
    "        return runs\n",
    "\n",
    "#run manager\n",
    "class RunManager():\n",
    "    def __init__(self):\n",
    "\n",
    "        self.epoch_count = 0\n",
    "        self.epoch_loss = 0\n",
    "        self.epoch_num_correct = 0\n",
    "        self.epoch_start_time = None\n",
    "\n",
    "        self.run_params = None\n",
    "        self.run_count = 0\n",
    "        self.run_data = []\n",
    "        self.run_start_time = None\n",
    "\n",
    "        self.network = None\n",
    "        self.loader = None\n",
    "        self.tb = None\n",
    "\n",
    "    def begin_run(self, run, network, loader):\n",
    "        self.run_start_time = time.time()\n",
    "        self.run_params = run\n",
    "        self.run_count += 1\n",
    "        self.network = network\n",
    "        self.loader = loader\n",
    "        self.tb = SummaryWriter(comment=f'-{run}')\n",
    "        characteristics, labels = next(iter(self.loader))\n",
    "\n",
    "    def end_run(self):\n",
    "        self.tb.close()\n",
    "        self.epoch_count = 0\n",
    "\n",
    "    def begin_epoch(self):\n",
    "        self.epoch_start_time = time.time()\n",
    "        self.epoch_count += 1\n",
    "        self.epoch_loss = 0\n",
    "        self.epoch_num_correct = 0\n",
    "\n",
    "    def end_epoch(self):\n",
    "        epoch_duration = time.time() - self.epoch_start_time\n",
    "        run_duration = time.time() - self.run_start_time\n",
    "\n",
    "        loss = self.epoch_loss / len(self.loader.dataset)\n",
    "        accuracy = self.epoch_num_correct / len(self.loader.dataset)\n",
    "\n",
    "        self.tb.add_scalar('Loss', loss, self.epoch_count)\n",
    "        self.tb.add_scalar('Accuracy', accuracy, self.epoch_count)\n",
    "\n",
    "    def _get_num_correct(self, preds, labels):\n",
    "        return preds.argmax(dim=1).eq(labels).sum().item()\n",
    "\n",
    "    def track_loss(self, loss, batch):\n",
    "        self.epoch_loss += loss.item() * batch[0].shape[0]\n",
    "\n",
    "    def track_num_correct(self, preds, labels):\n",
    "        self.epoch_num_correct += self._get_num_correct(preds, labels)\n",
    "\n",
    "    def inform(self, discrete_n):\n",
    "        if self.epoch_count % discrete_n == 0:\n",
    "            print(self.epoch_count, ' ', self.run_count)"
   ],
   "id": "d33c87d2084424fd",
   "outputs": [],
   "execution_count": 39
  },
  {
   "metadata": {
    "ExecuteTime": {
     "end_time": "2024-11-24T21:56:15.533770Z",
     "start_time": "2024-11-24T21:35:44.434131Z"
    }
   },
   "cell_type": "code",
   "source": [
    "#train manager builder\n",
    "\n",
    "def get_num_correct(preds, labels):\n",
    "    return preds.argmax(dim=1).eq(labels).sum().item()\n",
    "\n",
    "def sanitize_for_windows_path(name):\n",
    "    # Replace invalid characters with underscores or remove them\n",
    "    invalid_chars = r'<>:\"/\\\\|?*'\n",
    "    return ''.join('_' if c in invalid_chars else c for c in name)\n",
    "\n",
    "train_loader = torch.utils.data.DataLoader(train_set, batch_size=10, shuffle=True, pin_memory=True)\n",
    "\n",
    "#params = OrderedDict(lr=[0.001], batch_size=[10,50,100,250], number_epocs=[5], op=[torch.optim.Adam, torch.optim.SGD])\n",
    "params = OrderedDict(lr=[0.001, 0.01], batch_size=[10,20], number_epocs=[5, 10], op=[torch.optim.Adam])\n",
    "\n",
    "m = rm.RunManager()\n",
    "b = bm.RunBuilder.get_runs(params)\n",
    "\n",
    "for run in b:\n",
    "    print(run)\n",
    "\n",
    "for run in b:\n",
    "\n",
    "    network = Down(1, 16).to(\"cuda\")\n",
    "    loader = DataLoader(train_set, batch_size=run.batch_size, shuffle=True)\n",
    "    optimizer = run.op(network.parameters(), lr=run.lr)\n",
    "    sanitized_run = sanitize_for_windows_path(str(run))    # Sanitize run name before calling m.begin_run\n",
    "    m.begin_run(sanitized_run, network, loader)\n",
    "\n",
    "    for epoch in range(run.number_epocs):\n",
    "        m.begin_epoch()\n",
    "        for batch in loader:\n",
    "            characteristics, labels = batch\n",
    "            characteristics, labels = characteristics.to(\"cuda\"), labels.to(\"cuda\")\n",
    "            preds = network(characteristics)  # Pass Batch\n",
    "            loss = F.cross_entropy(preds, labels)  # Calculate Loss\n",
    "            optimizer.zero_grad()  # Zero Gradients\n",
    "            loss.backward()  # Calculate Gradients\n",
    "            optimizer.step()  # Update Weights\n",
    "            m.track_loss(loss, batch)\n",
    "            m.track_num_correct(preds, labels)\n",
    "        m.inform(5)\n",
    "        m.end_epoch()\n",
    "    m.end_run()"
   ],
   "id": "60845edbfb29e690",
   "outputs": [
    {
     "name": "stdout",
     "output_type": "stream",
     "text": [
      "Run(lr=0.001, batch_size=10, number_epocs=5, op=<class 'torch.optim.adam.Adam'>)\n",
      "Run(lr=0.001, batch_size=10, number_epocs=10, op=<class 'torch.optim.adam.Adam'>)\n",
      "Run(lr=0.001, batch_size=20, number_epocs=5, op=<class 'torch.optim.adam.Adam'>)\n",
      "Run(lr=0.001, batch_size=20, number_epocs=10, op=<class 'torch.optim.adam.Adam'>)\n",
      "Run(lr=0.01, batch_size=10, number_epocs=5, op=<class 'torch.optim.adam.Adam'>)\n",
      "Run(lr=0.01, batch_size=10, number_epocs=10, op=<class 'torch.optim.adam.Adam'>)\n",
      "Run(lr=0.01, batch_size=20, number_epocs=5, op=<class 'torch.optim.adam.Adam'>)\n",
      "Run(lr=0.01, batch_size=20, number_epocs=10, op=<class 'torch.optim.adam.Adam'>)\n",
      "5   1\n",
      "5   2\n",
      "10   2\n",
      "5   3\n",
      "5   4\n",
      "10   4\n",
      "5   5\n",
      "5   6\n",
      "10   6\n",
      "5   7\n",
      "5   8\n",
      "10   8\n"
     ]
    }
   ],
   "execution_count": 41
  },
  {
   "metadata": {
    "ExecuteTime": {
     "end_time": "2024-11-24T22:36:11.026157Z",
     "start_time": "2024-11-24T21:57:09.759877Z"
    }
   },
   "cell_type": "code",
   "source": [
    "#train manager\n",
    "network = Down(1, 16).to(\"cuda\")\n",
    "def get_num_correct(preds, labels):\n",
    "    return preds.argmax(dim=1).eq(labels).sum().item()\n",
    "\n",
    "def calculate_correct(out, labels):\n",
    "    return torch.eq(out.argmax(dim=1), labels).sum().numpy()\n",
    "\n",
    "m = rm.RunManager()\n",
    "\n",
    "#network = Down(1, 16).to(\"cuda\")\n",
    "epoch_number = 100\n",
    "m.begin_run('Kitten', network,train_loader)\n",
    "optimizer = optim.Adam(network.parameters(), lr=0.1)\n",
    "\n",
    "for epoch in range(epoch_number):\n",
    "    m.begin_epoch()\n",
    "    for batch in train_loader:\n",
    "        characteristics, labels = batch\n",
    "        characteristics, labels = characteristics.to(\"cuda\"), labels.to(\"cuda\")\n",
    "        preds = network(characteristics)  # Pass Batch\n",
    "        loss = F.cross_entropy(preds, labels)  # Calculate Loss\n",
    "        optimizer.zero_grad()  # Zero Gradients\n",
    "        loss.backward()  # Calculate Gradients\n",
    "        optimizer.step()  # Update Weights\n",
    "        m.track_loss(loss, batch)\n",
    "        m.track_num_correct(preds, labels)\n",
    "    m.end_epoch()\n",
    "    \n",
    "    print(f\"Epoch {epoch + 1}/{epoch_number}, Accuracy: {m.epoch_num_correct / len(train_loader.dataset):.4f}\")\n",
    "    #print(f\"Epoch {epoch + 1}/{epoch_number}, Loss: {m.epoch_loss}, Accuracy: {m.epoch_num_correct / len(train_loader.dataset):.4f}\")"
   ],
   "id": "9ec1e7d50f09fe2f",
   "outputs": [
    {
     "name": "stdout",
     "output_type": "stream",
     "text": [
      "Epoch 1/100, Accuracy: 0.4276\n",
      "Epoch 2/100, Accuracy: 0.4216\n",
      "Epoch 3/100, Accuracy: 0.4267\n",
      "Epoch 4/100, Accuracy: 0.4286\n",
      "Epoch 5/100, Accuracy: 0.4271\n",
      "Epoch 6/100, Accuracy: 0.4233\n",
      "Epoch 7/100, Accuracy: 0.4243\n",
      "Epoch 8/100, Accuracy: 0.4220\n",
      "Epoch 9/100, Accuracy: 0.4250\n",
      "Epoch 10/100, Accuracy: 0.4235\n",
      "Epoch 11/100, Accuracy: 0.4249\n",
      "Epoch 12/100, Accuracy: 0.4275\n",
      "Epoch 13/100, Accuracy: 0.3897\n",
      "Epoch 14/100, Accuracy: 0.0996\n",
      "Epoch 15/100, Accuracy: 0.0980\n",
      "Epoch 16/100, Accuracy: 0.0979\n",
      "Epoch 17/100, Accuracy: 0.1022\n",
      "Epoch 18/100, Accuracy: 0.1030\n",
      "Epoch 19/100, Accuracy: 0.1009\n",
      "Epoch 20/100, Accuracy: 0.0987\n",
      "Epoch 21/100, Accuracy: 0.1005\n",
      "Epoch 22/100, Accuracy: 0.1008\n",
      "Epoch 23/100, Accuracy: 0.0998\n",
      "Epoch 24/100, Accuracy: 0.1005\n",
      "Epoch 25/100, Accuracy: 0.0992\n",
      "Epoch 26/100, Accuracy: 0.1003\n",
      "Epoch 27/100, Accuracy: 0.0980\n",
      "Epoch 28/100, Accuracy: 0.1013\n",
      "Epoch 29/100, Accuracy: 0.1001\n",
      "Epoch 30/100, Accuracy: 0.1017\n",
      "Epoch 31/100, Accuracy: 0.1002\n",
      "Epoch 32/100, Accuracy: 0.1007\n",
      "Epoch 33/100, Accuracy: 0.1011\n",
      "Epoch 34/100, Accuracy: 0.0975\n",
      "Epoch 35/100, Accuracy: 0.1008\n",
      "Epoch 36/100, Accuracy: 0.0993\n",
      "Epoch 37/100, Accuracy: 0.0979\n",
      "Epoch 38/100, Accuracy: 0.0980\n",
      "Epoch 39/100, Accuracy: 0.0987\n",
      "Epoch 40/100, Accuracy: 0.0995\n",
      "Epoch 41/100, Accuracy: 0.1010\n",
      "Epoch 42/100, Accuracy: 0.0992\n",
      "Epoch 43/100, Accuracy: 0.0989\n",
      "Epoch 44/100, Accuracy: 0.1001\n",
      "Epoch 45/100, Accuracy: 0.1013\n",
      "Epoch 46/100, Accuracy: 0.0997\n",
      "Epoch 47/100, Accuracy: 0.0972\n",
      "Epoch 48/100, Accuracy: 0.0991\n",
      "Epoch 49/100, Accuracy: 0.0985\n",
      "Epoch 50/100, Accuracy: 0.1002\n",
      "Epoch 51/100, Accuracy: 0.0995\n",
      "Epoch 52/100, Accuracy: 0.0997\n",
      "Epoch 53/100, Accuracy: 0.0983\n",
      "Epoch 54/100, Accuracy: 0.1011\n",
      "Epoch 55/100, Accuracy: 0.1004\n",
      "Epoch 56/100, Accuracy: 0.1006\n",
      "Epoch 57/100, Accuracy: 0.1001\n",
      "Epoch 58/100, Accuracy: 0.0995\n",
      "Epoch 59/100, Accuracy: 0.0984\n",
      "Epoch 60/100, Accuracy: 0.0992\n",
      "Epoch 61/100, Accuracy: 0.0980\n",
      "Epoch 62/100, Accuracy: 0.1000\n",
      "Epoch 63/100, Accuracy: 0.0988\n",
      "Epoch 64/100, Accuracy: 0.0981\n",
      "Epoch 65/100, Accuracy: 0.0994\n",
      "Epoch 66/100, Accuracy: 0.1002\n",
      "Epoch 67/100, Accuracy: 0.0995\n",
      "Epoch 68/100, Accuracy: 0.0994\n",
      "Epoch 69/100, Accuracy: 0.0995\n",
      "Epoch 70/100, Accuracy: 0.0998\n",
      "Epoch 71/100, Accuracy: 0.0996\n",
      "Epoch 72/100, Accuracy: 0.1011\n",
      "Epoch 73/100, Accuracy: 0.0979\n",
      "Epoch 74/100, Accuracy: 0.0984\n",
      "Epoch 75/100, Accuracy: 0.1008\n",
      "Epoch 76/100, Accuracy: 0.0998\n",
      "Epoch 77/100, Accuracy: 0.1004\n",
      "Epoch 78/100, Accuracy: 0.0996\n",
      "Epoch 79/100, Accuracy: 0.1021\n",
      "Epoch 80/100, Accuracy: 0.0982\n",
      "Epoch 81/100, Accuracy: 0.1014\n",
      "Epoch 82/100, Accuracy: 0.0993\n",
      "Epoch 83/100, Accuracy: 0.0991\n",
      "Epoch 84/100, Accuracy: 0.1012\n",
      "Epoch 85/100, Accuracy: 0.1019\n",
      "Epoch 86/100, Accuracy: 0.0997\n",
      "Epoch 87/100, Accuracy: 0.1007\n",
      "Epoch 88/100, Accuracy: 0.1013\n",
      "Epoch 89/100, Accuracy: 0.0997\n",
      "Epoch 90/100, Accuracy: 0.1015\n",
      "Epoch 91/100, Accuracy: 0.0994\n",
      "Epoch 92/100, Accuracy: 0.1011\n",
      "Epoch 93/100, Accuracy: 0.0988\n",
      "Epoch 94/100, Accuracy: 0.0989\n",
      "Epoch 95/100, Accuracy: 0.1000\n",
      "Epoch 96/100, Accuracy: 0.1002\n",
      "Epoch 97/100, Accuracy: 0.1004\n",
      "Epoch 98/100, Accuracy: 0.1017\n",
      "Epoch 99/100, Accuracy: 0.1004\n",
      "Epoch 100/100, Accuracy: 0.1012\n"
     ]
    }
   ],
   "execution_count": 44
  },
  {
   "metadata": {
    "ExecuteTime": {
     "end_time": "2024-11-24T16:20:44.902038Z",
     "start_time": "2024-11-24T16:20:44.891939Z"
    }
   },
   "cell_type": "code",
   "source": "",
   "id": "7c1e157e3dc8e86e",
   "outputs": [],
   "execution_count": null
  },
  {
   "metadata": {},
   "cell_type": "code",
   "outputs": [],
   "execution_count": null,
   "source": "",
   "id": "f53655ee8fbdcb60"
  }
 ],
 "metadata": {
  "kernelspec": {
   "display_name": "Python 3",
   "language": "python",
   "name": "python3"
  },
  "language_info": {
   "codemirror_mode": {
    "name": "ipython",
    "version": 2
   },
   "file_extension": ".py",
   "mimetype": "text/x-python",
   "name": "python",
   "nbconvert_exporter": "python",
   "pygments_lexer": "ipython2",
   "version": "2.7.6"
  }
 },
 "nbformat": 4,
 "nbformat_minor": 5
}
